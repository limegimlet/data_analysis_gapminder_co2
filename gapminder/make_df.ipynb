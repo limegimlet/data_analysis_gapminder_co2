{
 "cells": [
  {
   "cell_type": "code",
   "execution_count": 1,
   "metadata": {},
   "outputs": [],
   "source": [
    "import pandas as pd"
   ]
  },
  {
   "cell_type": "markdown",
   "metadata": {},
   "source": [
    "# Helper functions"
   ]
  },
  {
   "cell_type": "code",
   "execution_count": 162,
   "metadata": {},
   "outputs": [],
   "source": [
    "# create dfs for later merging\n",
    "\n",
    "def make_df(filename):\n",
    "    df = pd.read_csv(mypath + filename)\n",
    "    df.name = filename.split('.')[0]\n",
    "    val_name = df.name.split('_')[0]\n",
    "    df.rename(columns={df.columns[0]:'country'}, inplace=True)\n",
    "    #df.columns = map(lambda col: \n",
    "                    #'{}_{}'.format(str(col), name), df.columns)\n",
    "    \n",
    "    return df\n"
   ]
  },
  {
   "cell_type": "code",
   "execution_count": 29,
   "metadata": {},
   "outputs": [],
   "source": [
    "# create list of filenames\n",
    "from os import walk\n",
    "\n",
    "mypath = 'data/original/'\n",
    "def list_files(mypath):\n",
    "    files = []\n",
    "    [files.extend(filenames) for (dirpath, dirnames, filenames) in walk(mypath)]\n",
    "    return files    "
   ]
  },
  {
   "cell_type": "code",
   "execution_count": 178,
   "metadata": {},
   "outputs": [],
   "source": [
    "# reshape into long format for easier plotting\n",
    "\n",
    "def reshape_for_plot(df, val_name):\n",
    "    #df = df.reset_index().copy()\n",
    "    #df = df.set_index(['region', 'sub-region', 'country'])\n",
    "    name = df.name.split('_')[0]\n",
    "    df = df.set_index(['country'])\n",
    "    df = df.sort_index(level = 0)\n",
    "\n",
    "    t = df.T\n",
    "    t = t.unstack(level = 1)\n",
    "    df = pd.DataFrame(t)\n",
    "    \n",
    "    #df = df.reset_index()\n",
    "    df = df.rename(columns={'level_1':'year'+'_'+ name, 0: val_name})\n",
    "    df.name = name\n",
    "\n",
    "    return df"
   ]
  },
  {
   "cell_type": "markdown",
   "metadata": {},
   "source": [
    "# Create wide DFs"
   ]
  },
  {
   "cell_type": "code",
   "execution_count": 30,
   "metadata": {},
   "outputs": [],
   "source": [
    "files = list_files(mypath)"
   ]
  },
  {
   "cell_type": "code",
   "execution_count": 164,
   "metadata": {},
   "outputs": [
    {
     "data": {
      "text/plain": [
       "5"
      ]
     },
     "execution_count": 164,
     "metadata": {},
     "output_type": "execute_result"
    }
   ],
   "source": [
    "# verify\n",
    "dfs = [make_df(filename) for filename in files]\n",
    "len(dfs)"
   ]
  },
  {
   "cell_type": "code",
   "execution_count": 165,
   "metadata": {},
   "outputs": [
    {
     "data": {
      "text/html": [
       "<div>\n",
       "<style scoped>\n",
       "    .dataframe tbody tr th:only-of-type {\n",
       "        vertical-align: middle;\n",
       "    }\n",
       "\n",
       "    .dataframe tbody tr th {\n",
       "        vertical-align: top;\n",
       "    }\n",
       "\n",
       "    .dataframe thead th {\n",
       "        text-align: right;\n",
       "    }\n",
       "</style>\n",
       "<table border=\"1\" class=\"dataframe\">\n",
       "  <thead>\n",
       "    <tr style=\"text-align: right;\">\n",
       "      <th></th>\n",
       "      <th>country</th>\n",
       "      <th>1800</th>\n",
       "      <th>1801</th>\n",
       "      <th>1802</th>\n",
       "      <th>1803</th>\n",
       "      <th>1804</th>\n",
       "      <th>1805</th>\n",
       "      <th>1806</th>\n",
       "      <th>1807</th>\n",
       "      <th>1808</th>\n",
       "      <th>...</th>\n",
       "      <th>2009</th>\n",
       "      <th>2010</th>\n",
       "      <th>2011</th>\n",
       "      <th>2012</th>\n",
       "      <th>2013</th>\n",
       "      <th>2014</th>\n",
       "      <th>2015</th>\n",
       "      <th>2016</th>\n",
       "      <th>2017</th>\n",
       "      <th>2018</th>\n",
       "    </tr>\n",
       "  </thead>\n",
       "  <tbody>\n",
       "    <tr>\n",
       "      <th>0</th>\n",
       "      <td>Afghanistan</td>\n",
       "      <td>7.00</td>\n",
       "      <td>7.00</td>\n",
       "      <td>7.00</td>\n",
       "      <td>7.00</td>\n",
       "      <td>7.00</td>\n",
       "      <td>7.00</td>\n",
       "      <td>7.00</td>\n",
       "      <td>7.00</td>\n",
       "      <td>7.00</td>\n",
       "      <td>...</td>\n",
       "      <td>6.04</td>\n",
       "      <td>5.82</td>\n",
       "      <td>5.60</td>\n",
       "      <td>5.38</td>\n",
       "      <td>5.17</td>\n",
       "      <td>4.98</td>\n",
       "      <td>4.80</td>\n",
       "      <td>4.64</td>\n",
       "      <td>4.48</td>\n",
       "      <td>4.33</td>\n",
       "    </tr>\n",
       "    <tr>\n",
       "      <th>1</th>\n",
       "      <td>Albania</td>\n",
       "      <td>4.60</td>\n",
       "      <td>4.60</td>\n",
       "      <td>4.60</td>\n",
       "      <td>4.60</td>\n",
       "      <td>4.60</td>\n",
       "      <td>4.60</td>\n",
       "      <td>4.60</td>\n",
       "      <td>4.60</td>\n",
       "      <td>4.60</td>\n",
       "      <td>...</td>\n",
       "      <td>1.65</td>\n",
       "      <td>1.65</td>\n",
       "      <td>1.67</td>\n",
       "      <td>1.69</td>\n",
       "      <td>1.70</td>\n",
       "      <td>1.71</td>\n",
       "      <td>1.71</td>\n",
       "      <td>1.71</td>\n",
       "      <td>1.71</td>\n",
       "      <td>1.71</td>\n",
       "    </tr>\n",
       "    <tr>\n",
       "      <th>2</th>\n",
       "      <td>Algeria</td>\n",
       "      <td>6.99</td>\n",
       "      <td>6.99</td>\n",
       "      <td>6.99</td>\n",
       "      <td>6.99</td>\n",
       "      <td>6.99</td>\n",
       "      <td>6.99</td>\n",
       "      <td>6.99</td>\n",
       "      <td>6.99</td>\n",
       "      <td>6.99</td>\n",
       "      <td>...</td>\n",
       "      <td>2.83</td>\n",
       "      <td>2.89</td>\n",
       "      <td>2.93</td>\n",
       "      <td>2.94</td>\n",
       "      <td>2.92</td>\n",
       "      <td>2.89</td>\n",
       "      <td>2.84</td>\n",
       "      <td>2.78</td>\n",
       "      <td>2.71</td>\n",
       "      <td>2.64</td>\n",
       "    </tr>\n",
       "    <tr>\n",
       "      <th>3</th>\n",
       "      <td>Angola</td>\n",
       "      <td>6.93</td>\n",
       "      <td>6.93</td>\n",
       "      <td>6.93</td>\n",
       "      <td>6.93</td>\n",
       "      <td>6.93</td>\n",
       "      <td>6.93</td>\n",
       "      <td>6.93</td>\n",
       "      <td>6.94</td>\n",
       "      <td>6.94</td>\n",
       "      <td>...</td>\n",
       "      <td>6.24</td>\n",
       "      <td>6.16</td>\n",
       "      <td>6.08</td>\n",
       "      <td>6.00</td>\n",
       "      <td>5.92</td>\n",
       "      <td>5.84</td>\n",
       "      <td>5.77</td>\n",
       "      <td>5.69</td>\n",
       "      <td>5.62</td>\n",
       "      <td>5.55</td>\n",
       "    </tr>\n",
       "    <tr>\n",
       "      <th>4</th>\n",
       "      <td>Antigua and Barbuda</td>\n",
       "      <td>5.00</td>\n",
       "      <td>5.00</td>\n",
       "      <td>4.99</td>\n",
       "      <td>4.99</td>\n",
       "      <td>4.99</td>\n",
       "      <td>4.98</td>\n",
       "      <td>4.98</td>\n",
       "      <td>4.97</td>\n",
       "      <td>4.97</td>\n",
       "      <td>...</td>\n",
       "      <td>2.15</td>\n",
       "      <td>2.13</td>\n",
       "      <td>2.12</td>\n",
       "      <td>2.10</td>\n",
       "      <td>2.09</td>\n",
       "      <td>2.08</td>\n",
       "      <td>2.06</td>\n",
       "      <td>2.05</td>\n",
       "      <td>2.04</td>\n",
       "      <td>2.03</td>\n",
       "    </tr>\n",
       "  </tbody>\n",
       "</table>\n",
       "<p>5 rows × 220 columns</p>\n",
       "</div>"
      ],
      "text/plain": [
       "               country  1800  1801  1802  1803  1804  1805  1806  1807  1808  \\\n",
       "0          Afghanistan  7.00  7.00  7.00  7.00  7.00  7.00  7.00  7.00  7.00   \n",
       "1              Albania  4.60  4.60  4.60  4.60  4.60  4.60  4.60  4.60  4.60   \n",
       "2              Algeria  6.99  6.99  6.99  6.99  6.99  6.99  6.99  6.99  6.99   \n",
       "3               Angola  6.93  6.93  6.93  6.93  6.93  6.93  6.93  6.94  6.94   \n",
       "4  Antigua and Barbuda  5.00  5.00  4.99  4.99  4.99  4.98  4.98  4.97  4.97   \n",
       "\n",
       "   ...   2009  2010  2011  2012  2013  2014  2015  2016  2017  2018  \n",
       "0  ...   6.04  5.82  5.60  5.38  5.17  4.98  4.80  4.64  4.48  4.33  \n",
       "1  ...   1.65  1.65  1.67  1.69  1.70  1.71  1.71  1.71  1.71  1.71  \n",
       "2  ...   2.83  2.89  2.93  2.94  2.92  2.89  2.84  2.78  2.71  2.64  \n",
       "3  ...   6.24  6.16  6.08  6.00  5.92  5.84  5.77  5.69  5.62  5.55  \n",
       "4  ...   2.15  2.13  2.12  2.10  2.09  2.08  2.06  2.05  2.04  2.03  \n",
       "\n",
       "[5 rows x 220 columns]"
      ]
     },
     "execution_count": 165,
     "metadata": {},
     "output_type": "execute_result"
    }
   ],
   "source": [
    "fert = dfs[0]\n",
    "fert.head()"
   ]
  },
  {
   "cell_type": "markdown",
   "metadata": {},
   "source": [
    "# Create long DFs"
   ]
  },
  {
   "cell_type": "code",
   "execution_count": 73,
   "metadata": {},
   "outputs": [],
   "source": [
    "#fert.reset_index(inplace=True)\n",
    "fert_long = reshape_for_plot(fert, 'fertility')"
   ]
  },
  {
   "cell_type": "code",
   "execution_count": 74,
   "metadata": {},
   "outputs": [
    {
     "data": {
      "text/html": [
       "<div>\n",
       "<style scoped>\n",
       "    .dataframe tbody tr th:only-of-type {\n",
       "        vertical-align: middle;\n",
       "    }\n",
       "\n",
       "    .dataframe tbody tr th {\n",
       "        vertical-align: top;\n",
       "    }\n",
       "\n",
       "    .dataframe thead th {\n",
       "        text-align: right;\n",
       "    }\n",
       "</style>\n",
       "<table border=\"1\" class=\"dataframe\">\n",
       "  <thead>\n",
       "    <tr style=\"text-align: right;\">\n",
       "      <th></th>\n",
       "      <th>country</th>\n",
       "      <th>year</th>\n",
       "      <th>fertility</th>\n",
       "    </tr>\n",
       "  </thead>\n",
       "  <tbody>\n",
       "    <tr>\n",
       "      <th>0</th>\n",
       "      <td>Afghanistan</td>\n",
       "      <td>1800</td>\n",
       "      <td>7.0</td>\n",
       "    </tr>\n",
       "    <tr>\n",
       "      <th>1</th>\n",
       "      <td>Afghanistan</td>\n",
       "      <td>1801</td>\n",
       "      <td>7.0</td>\n",
       "    </tr>\n",
       "    <tr>\n",
       "      <th>2</th>\n",
       "      <td>Afghanistan</td>\n",
       "      <td>1802</td>\n",
       "      <td>7.0</td>\n",
       "    </tr>\n",
       "    <tr>\n",
       "      <th>3</th>\n",
       "      <td>Afghanistan</td>\n",
       "      <td>1803</td>\n",
       "      <td>7.0</td>\n",
       "    </tr>\n",
       "    <tr>\n",
       "      <th>4</th>\n",
       "      <td>Afghanistan</td>\n",
       "      <td>1804</td>\n",
       "      <td>7.0</td>\n",
       "    </tr>\n",
       "  </tbody>\n",
       "</table>\n",
       "</div>"
      ],
      "text/plain": [
       "       country  year  fertility\n",
       "0  Afghanistan  1800        7.0\n",
       "1  Afghanistan  1801        7.0\n",
       "2  Afghanistan  1802        7.0\n",
       "3  Afghanistan  1803        7.0\n",
       "4  Afghanistan  1804        7.0"
      ]
     },
     "execution_count": 74,
     "metadata": {},
     "output_type": "execute_result"
    }
   ],
   "source": [
    "fert_long.head()"
   ]
  },
  {
   "cell_type": "code",
   "execution_count": 75,
   "metadata": {},
   "outputs": [
    {
     "data": {
      "text/plain": [
       "['children_per_woman_total_fertility.csv',\n",
       " 'hdi_human_development_index.csv',\n",
       " 'income_per_person_gdppercapita_ppp_inflation_adjusted.csv',\n",
       " 'roads_paved_percent_of_total_roads.csv',\n",
       " 'surviving_kids_per_woman.csv']"
      ]
     },
     "execution_count": 75,
     "metadata": {},
     "output_type": "execute_result"
    }
   ],
   "source": [
    "files"
   ]
  },
  {
   "cell_type": "code",
   "execution_count": 89,
   "metadata": {},
   "outputs": [],
   "source": [
    "def get_val_names(dfs):\n",
    "    names = [df.name.split('_')[0] for df in dfs]\n",
    "    return names"
   ]
  },
  {
   "cell_type": "code",
   "execution_count": 90,
   "metadata": {},
   "outputs": [],
   "source": [
    "val_names = get_val_names(dfs)"
   ]
  },
  {
   "cell_type": "code",
   "execution_count": 91,
   "metadata": {},
   "outputs": [
    {
     "data": {
      "text/plain": [
       "['children', 'hdi', 'income', 'roads', 'surviving']"
      ]
     },
     "execution_count": 91,
     "metadata": {},
     "output_type": "execute_result"
    }
   ],
   "source": [
    "val_names"
   ]
  },
  {
   "cell_type": "code",
   "execution_count": 94,
   "metadata": {},
   "outputs": [
    {
     "data": {
      "text/plain": [
       "['children_per_woman_total_fertility',\n",
       " 'hdi_human_development_index',\n",
       " 'income_per_person_gdppercapita_ppp_inflation_adjusted',\n",
       " 'roads_paved_percent_of_total_roads',\n",
       " 'surviving_kids_per_woman']"
      ]
     },
     "execution_count": 94,
     "metadata": {},
     "output_type": "execute_result"
    }
   ],
   "source": [
    "dfnames = [df.name for df in dfs]\n",
    "dfnames"
   ]
  },
  {
   "cell_type": "code",
   "execution_count": 104,
   "metadata": {},
   "outputs": [],
   "source": [
    "test = zip(dfnames, val_names)"
   ]
  },
  {
   "cell_type": "code",
   "execution_count": 108,
   "metadata": {},
   "outputs": [
    {
     "data": {
      "text/plain": [
       "\"('children_per_woman_total_fertility', 'children')\""
      ]
     },
     "execution_count": 108,
     "metadata": {},
     "output_type": "execute_result"
    }
   ],
   "source": [
    "test[0]"
   ]
  },
  {
   "cell_type": "code",
   "execution_count": 99,
   "metadata": {},
   "outputs": [
    {
     "name": "stdout",
     "output_type": "stream",
     "text": [
      "('children_per_woman_total_fertility', 'children')\n",
      "('hdi_human_development_index', 'hdi')\n",
      "('income_per_person_gdppercapita_ppp_inflation_adjusted', 'income')\n",
      "('roads_paved_percent_of_total_roads', 'roads')\n",
      "('surviving_kids_per_woman', 'surviving')\n"
     ]
    }
   ],
   "source": [
    "for pair in test:\n",
    "    print pair"
   ]
  },
  {
   "cell_type": "code",
   "execution_count": 174,
   "metadata": {},
   "outputs": [
    {
     "data": {
      "text/plain": [
       "5"
      ]
     },
     "execution_count": 174,
     "metadata": {},
     "output_type": "execute_result"
    }
   ],
   "source": [
    "long_dfs = [reshape_for_plot(dfs[i], val_names[i]) for i, _ in enumerate(dfs)]\n",
    "len(long_dfs)"
   ]
  },
  {
   "cell_type": "code",
   "execution_count": 175,
   "metadata": {},
   "outputs": [
    {
     "data": {
      "text/html": [
       "<div>\n",
       "<style scoped>\n",
       "    .dataframe tbody tr th:only-of-type {\n",
       "        vertical-align: middle;\n",
       "    }\n",
       "\n",
       "    .dataframe tbody tr th {\n",
       "        vertical-align: top;\n",
       "    }\n",
       "\n",
       "    .dataframe thead th {\n",
       "        text-align: right;\n",
       "    }\n",
       "</style>\n",
       "<table border=\"1\" class=\"dataframe\">\n",
       "  <thead>\n",
       "    <tr style=\"text-align: right;\">\n",
       "      <th></th>\n",
       "      <th>country</th>\n",
       "      <th>year_surviving</th>\n",
       "      <th>surviving</th>\n",
       "    </tr>\n",
       "  </thead>\n",
       "  <tbody>\n",
       "    <tr>\n",
       "      <th>0</th>\n",
       "      <td>Afghanistan</td>\n",
       "      <td>1760</td>\n",
       "      <td>NaN</td>\n",
       "    </tr>\n",
       "    <tr>\n",
       "      <th>1</th>\n",
       "      <td>Afghanistan</td>\n",
       "      <td>1761</td>\n",
       "      <td>NaN</td>\n",
       "    </tr>\n",
       "    <tr>\n",
       "      <th>2</th>\n",
       "      <td>Afghanistan</td>\n",
       "      <td>1762</td>\n",
       "      <td>NaN</td>\n",
       "    </tr>\n",
       "    <tr>\n",
       "      <th>3</th>\n",
       "      <td>Afghanistan</td>\n",
       "      <td>1763</td>\n",
       "      <td>NaN</td>\n",
       "    </tr>\n",
       "    <tr>\n",
       "      <th>4</th>\n",
       "      <td>Afghanistan</td>\n",
       "      <td>1764</td>\n",
       "      <td>NaN</td>\n",
       "    </tr>\n",
       "  </tbody>\n",
       "</table>\n",
       "</div>"
      ],
      "text/plain": [
       "       country year_surviving  surviving\n",
       "0  Afghanistan           1760        NaN\n",
       "1  Afghanistan           1761        NaN\n",
       "2  Afghanistan           1762        NaN\n",
       "3  Afghanistan           1763        NaN\n",
       "4  Afghanistan           1764        NaN"
      ]
     },
     "execution_count": 175,
     "metadata": {},
     "output_type": "execute_result"
    }
   ],
   "source": [
    "long_dfs[4].head()"
   ]
  },
  {
   "cell_type": "code",
   "execution_count": 120,
   "metadata": {},
   "outputs": [],
   "source": [
    "co2_regions = pd.read_pickle('data/co2_regions.pkl')\n",
    "co2_regions.reset_index(inplace=True)"
   ]
  },
  {
   "cell_type": "code",
   "execution_count": 121,
   "metadata": {},
   "outputs": [],
   "source": [
    "co2_long = reshape_for_plot(co2_regions, 'CO')"
   ]
  },
  {
   "cell_type": "markdown",
   "metadata": {},
   "source": [
    "# Join long DFs"
   ]
  },
  {
   "cell_type": "code",
   "execution_count": 177,
   "metadata": {},
   "outputs": [
    {
     "data": {
      "text/html": [
       "<div>\n",
       "<style scoped>\n",
       "    .dataframe tbody tr th:only-of-type {\n",
       "        vertical-align: middle;\n",
       "    }\n",
       "\n",
       "    .dataframe tbody tr th {\n",
       "        vertical-align: top;\n",
       "    }\n",
       "\n",
       "    .dataframe thead th {\n",
       "        text-align: right;\n",
       "    }\n",
       "</style>\n",
       "<table border=\"1\" class=\"dataframe\">\n",
       "  <thead>\n",
       "    <tr style=\"text-align: right;\">\n",
       "      <th></th>\n",
       "      <th>country</th>\n",
       "      <th>year_children</th>\n",
       "      <th>children</th>\n",
       "      <th>country_hdi</th>\n",
       "      <th>year_hdi</th>\n",
       "      <th>hdi</th>\n",
       "      <th>country_income</th>\n",
       "      <th>year_income</th>\n",
       "      <th>income</th>\n",
       "      <th>country_roads</th>\n",
       "      <th>year_roads</th>\n",
       "      <th>roads</th>\n",
       "      <th>country_surviving</th>\n",
       "      <th>year_surviving</th>\n",
       "      <th>surviving</th>\n",
       "    </tr>\n",
       "  </thead>\n",
       "  <tbody>\n",
       "    <tr>\n",
       "      <th>0</th>\n",
       "      <td>Afghanistan</td>\n",
       "      <td>1800</td>\n",
       "      <td>7.0</td>\n",
       "      <td>Afghanistan</td>\n",
       "      <td>1990</td>\n",
       "      <td>0.295</td>\n",
       "      <td>Afghanistan</td>\n",
       "      <td>1800</td>\n",
       "      <td>603.0</td>\n",
       "      <td>Afghanistan</td>\n",
       "      <td>1990</td>\n",
       "      <td>NaN</td>\n",
       "      <td>Afghanistan</td>\n",
       "      <td>1760</td>\n",
       "      <td>NaN</td>\n",
       "    </tr>\n",
       "    <tr>\n",
       "      <th>1</th>\n",
       "      <td>Afghanistan</td>\n",
       "      <td>1801</td>\n",
       "      <td>7.0</td>\n",
       "      <td>Afghanistan</td>\n",
       "      <td>1991</td>\n",
       "      <td>0.300</td>\n",
       "      <td>Afghanistan</td>\n",
       "      <td>1801</td>\n",
       "      <td>603.0</td>\n",
       "      <td>Afghanistan</td>\n",
       "      <td>1991</td>\n",
       "      <td>NaN</td>\n",
       "      <td>Afghanistan</td>\n",
       "      <td>1761</td>\n",
       "      <td>NaN</td>\n",
       "    </tr>\n",
       "    <tr>\n",
       "      <th>2</th>\n",
       "      <td>Afghanistan</td>\n",
       "      <td>1802</td>\n",
       "      <td>7.0</td>\n",
       "      <td>Afghanistan</td>\n",
       "      <td>1992</td>\n",
       "      <td>0.309</td>\n",
       "      <td>Afghanistan</td>\n",
       "      <td>1802</td>\n",
       "      <td>603.0</td>\n",
       "      <td>Afghanistan</td>\n",
       "      <td>1992</td>\n",
       "      <td>NaN</td>\n",
       "      <td>Afghanistan</td>\n",
       "      <td>1762</td>\n",
       "      <td>NaN</td>\n",
       "    </tr>\n",
       "    <tr>\n",
       "      <th>3</th>\n",
       "      <td>Afghanistan</td>\n",
       "      <td>1803</td>\n",
       "      <td>7.0</td>\n",
       "      <td>Afghanistan</td>\n",
       "      <td>1993</td>\n",
       "      <td>0.305</td>\n",
       "      <td>Afghanistan</td>\n",
       "      <td>1803</td>\n",
       "      <td>603.0</td>\n",
       "      <td>Afghanistan</td>\n",
       "      <td>1993</td>\n",
       "      <td>NaN</td>\n",
       "      <td>Afghanistan</td>\n",
       "      <td>1763</td>\n",
       "      <td>NaN</td>\n",
       "    </tr>\n",
       "    <tr>\n",
       "      <th>4</th>\n",
       "      <td>Afghanistan</td>\n",
       "      <td>1804</td>\n",
       "      <td>7.0</td>\n",
       "      <td>Afghanistan</td>\n",
       "      <td>1994</td>\n",
       "      <td>0.300</td>\n",
       "      <td>Afghanistan</td>\n",
       "      <td>1804</td>\n",
       "      <td>603.0</td>\n",
       "      <td>Afghanistan</td>\n",
       "      <td>1994</td>\n",
       "      <td>NaN</td>\n",
       "      <td>Afghanistan</td>\n",
       "      <td>1764</td>\n",
       "      <td>NaN</td>\n",
       "    </tr>\n",
       "  </tbody>\n",
       "</table>\n",
       "</div>"
      ],
      "text/plain": [
       "       country year_children  children  country_hdi year_hdi    hdi  \\\n",
       "0  Afghanistan          1800       7.0  Afghanistan     1990  0.295   \n",
       "1  Afghanistan          1801       7.0  Afghanistan     1991  0.300   \n",
       "2  Afghanistan          1802       7.0  Afghanistan     1992  0.309   \n",
       "3  Afghanistan          1803       7.0  Afghanistan     1993  0.305   \n",
       "4  Afghanistan          1804       7.0  Afghanistan     1994  0.300   \n",
       "\n",
       "  country_income year_income  income country_roads year_roads  roads  \\\n",
       "0    Afghanistan        1800   603.0   Afghanistan       1990    NaN   \n",
       "1    Afghanistan        1801   603.0   Afghanistan       1991    NaN   \n",
       "2    Afghanistan        1802   603.0   Afghanistan       1992    NaN   \n",
       "3    Afghanistan        1803   603.0   Afghanistan       1993    NaN   \n",
       "4    Afghanistan        1804   603.0   Afghanistan       1994    NaN   \n",
       "\n",
       "  country_surviving year_surviving  surviving  \n",
       "0       Afghanistan           1760        NaN  \n",
       "1       Afghanistan           1761        NaN  \n",
       "2       Afghanistan           1762        NaN  \n",
       "3       Afghanistan           1763        NaN  \n",
       "4       Afghanistan           1764        NaN  "
      ]
     },
     "execution_count": 177,
     "metadata": {},
     "output_type": "execute_result"
    }
   ],
   "source": [
    "def join_dfs(ldf, rdf):\n",
    "    rsuffix = '_' + rdf.name.split('_')[0]\n",
    "    return ldf.join(rdf, rsuffix=rsuffix, how='outer')\n",
    "\n",
    "final_df = reduce(join_dfs, long_dfs) #that's the magic\n",
    "final_df.head()"
   ]
  },
  {
   "cell_type": "code",
   "execution_count": null,
   "metadata": {},
   "outputs": [],
   "source": []
  }
 ],
 "metadata": {
  "anaconda-cloud": {},
  "kernelspec": {
   "display_name": "Python [conda env:DAND]",
   "language": "python",
   "name": "conda-env-DAND-py"
  },
  "language_info": {
   "codemirror_mode": {
    "name": "ipython",
    "version": 2
   },
   "file_extension": ".py",
   "mimetype": "text/x-python",
   "name": "python",
   "nbconvert_exporter": "python",
   "pygments_lexer": "ipython2",
   "version": "2.7.12"
  }
 },
 "nbformat": 4,
 "nbformat_minor": 2
}
