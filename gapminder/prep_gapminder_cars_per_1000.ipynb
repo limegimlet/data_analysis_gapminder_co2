{
 "cells": [
  {
   "cell_type": "markdown",
   "metadata": {},
   "source": [
    "\n",
    "# Data Prep: Car ownership per 1000\n",
    "\n",
    "\n",
    "## Table of Contents\n",
    "<ul>\n",
    "<li><a href=\"#intro\">Introduction</a></li>\n",
    "<li><a href=\"#wrangling\">Data Wrangling</a></li>\n",
    "<li><a href=\"#eda\">Exploratory Data Analysis</a></li>\n",
    "<li><a href=\"#conclusions\">Conclusions</a></li>\n",
    "</ul>"
   ]
  },
  {
   "cell_type": "markdown",
   "metadata": {},
   "source": [
    "<a id='intro'></a>\n",
    "## Introduction\n",
    "\n"
   ]
  },
  {
   "cell_type": "code",
   "execution_count": 147,
   "metadata": {},
   "outputs": [
    {
     "data": {
      "text/html": [
       "<script>requirejs.config({paths: { 'plotly': ['https://cdn.plot.ly/plotly-latest.min']},});if(!window.Plotly) {{require(['plotly'],function(plotly) {window.Plotly=plotly;});}}</script>"
      ],
      "text/vnd.plotly.v1+html": [
       "<script>requirejs.config({paths: { 'plotly': ['https://cdn.plot.ly/plotly-latest.min']},});if(!window.Plotly) {{require(['plotly'],function(plotly) {window.Plotly=plotly;});}}</script>"
      ]
     },
     "metadata": {},
     "output_type": "display_data"
    }
   ],
   "source": [
    "import numpy as np\n",
    "import pandas as pd\n",
    "import matplotlib.pyplot as plt\n",
    "import pprint as pp\n",
    "%matplotlib inline\n",
    "\n",
    "from plotly.offline import download_plotlyjs, init_notebook_mode, plot, iplot\n",
    "init_notebook_mode(connected=True)"
   ]
  },
  {
   "cell_type": "markdown",
   "metadata": {},
   "source": [
    "<a id='wrangling'></a>\n",
    "## Data Wrangling\n",
    "\n",
    "> **Tip**: In this section of the report, you will load in the data, check for cleanliness, and then trim and clean your dataset for analysis. Make sure that you document your steps carefully and justify your cleaning decisions.\n",
    "\n",
    "### General Properties"
   ]
  },
  {
   "cell_type": "code",
   "execution_count": 148,
   "metadata": {},
   "outputs": [
    {
     "data": {
      "text/html": [
       "<div>\n",
       "<style scoped>\n",
       "    .dataframe tbody tr th:only-of-type {\n",
       "        vertical-align: middle;\n",
       "    }\n",
       "\n",
       "    .dataframe tbody tr th {\n",
       "        vertical-align: top;\n",
       "    }\n",
       "\n",
       "    .dataframe thead th {\n",
       "        text-align: right;\n",
       "    }\n",
       "</style>\n",
       "<table border=\"1\" class=\"dataframe\">\n",
       "  <thead>\n",
       "    <tr style=\"text-align: right;\">\n",
       "      <th></th>\n",
       "      <th>Motor vehicles (not 2-wheelers) per 1,000 population</th>\n",
       "      <th>2002</th>\n",
       "      <th>2003</th>\n",
       "      <th>2004</th>\n",
       "      <th>2005</th>\n",
       "      <th>2006</th>\n",
       "      <th>2007</th>\n",
       "    </tr>\n",
       "  </thead>\n",
       "  <tbody>\n",
       "    <tr>\n",
       "      <th>0</th>\n",
       "      <td>Afghanistan</td>\n",
       "      <td>NaN</td>\n",
       "      <td>NaN</td>\n",
       "      <td>NaN</td>\n",
       "      <td>NaN</td>\n",
       "      <td>NaN</td>\n",
       "      <td>22.809539</td>\n",
       "    </tr>\n",
       "    <tr>\n",
       "      <th>1</th>\n",
       "      <td>Albania</td>\n",
       "      <td>73.0</td>\n",
       "      <td>NaN</td>\n",
       "      <td>85.0</td>\n",
       "      <td>87.475235</td>\n",
       "      <td>97.318069</td>\n",
       "      <td>102.212411</td>\n",
       "    </tr>\n",
       "    <tr>\n",
       "      <th>2</th>\n",
       "      <td>Algeria</td>\n",
       "      <td>NaN</td>\n",
       "      <td>88.0</td>\n",
       "      <td>89.0</td>\n",
       "      <td>91.000000</td>\n",
       "      <td>NaN</td>\n",
       "      <td>NaN</td>\n",
       "    </tr>\n",
       "    <tr>\n",
       "      <th>3</th>\n",
       "      <td>Angola</td>\n",
       "      <td>NaN</td>\n",
       "      <td>NaN</td>\n",
       "      <td>NaN</td>\n",
       "      <td>NaN</td>\n",
       "      <td>NaN</td>\n",
       "      <td>39.593660</td>\n",
       "    </tr>\n",
       "    <tr>\n",
       "      <th>4</th>\n",
       "      <td>Argentina</td>\n",
       "      <td>NaN</td>\n",
       "      <td>NaN</td>\n",
       "      <td>NaN</td>\n",
       "      <td>NaN</td>\n",
       "      <td>NaN</td>\n",
       "      <td>313.893647</td>\n",
       "    </tr>\n",
       "  </tbody>\n",
       "</table>\n",
       "</div>"
      ],
      "text/plain": [
       "  Motor vehicles (not 2-wheelers) per 1,000 population  2002  2003  2004  \\\n",
       "0                                        Afghanistan     NaN   NaN   NaN   \n",
       "1                                            Albania    73.0   NaN  85.0   \n",
       "2                                            Algeria     NaN  88.0  89.0   \n",
       "3                                             Angola     NaN   NaN   NaN   \n",
       "4                                          Argentina     NaN   NaN   NaN   \n",
       "\n",
       "        2005       2006        2007  \n",
       "0        NaN        NaN   22.809539  \n",
       "1  87.475235  97.318069  102.212411  \n",
       "2  91.000000        NaN         NaN  \n",
       "3        NaN        NaN   39.593660  \n",
       "4        NaN        NaN  313.893647  "
      ]
     },
     "execution_count": 148,
     "metadata": {},
     "output_type": "execute_result"
    }
   ],
   "source": [
    "# read data\n",
    "\n",
    "cars = pd.read_excel(\"data/motor_vehicles_per_1000_pop2010.xlsx\")\n",
    "cars.head()"
   ]
  },
  {
   "cell_type": "code",
   "execution_count": 149,
   "metadata": {},
   "outputs": [
    {
     "name": "stdout",
     "output_type": "stream",
     "text": [
      "<class 'pandas.core.frame.DataFrame'>\n",
      "RangeIndex: 161 entries, 0 to 160\n",
      "Data columns (total 7 columns):\n",
      "Motor vehicles (not 2-wheelers) per 1,000 population    161 non-null object\n",
      "2002                                                    82 non-null float64\n",
      "2003                                                    78 non-null float64\n",
      "2004                                                    65 non-null float64\n",
      "2005                                                    50 non-null float64\n",
      "2006                                                    38 non-null float64\n",
      "2007                                                    149 non-null float64\n",
      "dtypes: float64(6), object(1)\n",
      "memory usage: 8.9+ KB\n",
      "None\n"
     ]
    }
   ],
   "source": [
    "# how big is the dataset?\n",
    "print cars.info()"
   ]
  },
  {
   "cell_type": "code",
   "execution_count": 150,
   "metadata": {},
   "outputs": [],
   "source": [
    "# Rename country column\n",
    "country_col = str(cars.columns[0])\n",
    "cars.rename(columns = {country_col : 'country'}, inplace = True)"
   ]
  },
  {
   "cell_type": "code",
   "execution_count": 151,
   "metadata": {},
   "outputs": [
    {
     "data": {
      "text/html": [
       "<div>\n",
       "<style scoped>\n",
       "    .dataframe tbody tr th:only-of-type {\n",
       "        vertical-align: middle;\n",
       "    }\n",
       "\n",
       "    .dataframe tbody tr th {\n",
       "        vertical-align: top;\n",
       "    }\n",
       "\n",
       "    .dataframe thead th {\n",
       "        text-align: right;\n",
       "    }\n",
       "</style>\n",
       "<table border=\"1\" class=\"dataframe\">\n",
       "  <thead>\n",
       "    <tr style=\"text-align: right;\">\n",
       "      <th></th>\n",
       "      <th>country</th>\n",
       "      <th>2002</th>\n",
       "      <th>2003</th>\n",
       "      <th>2004</th>\n",
       "      <th>2005</th>\n",
       "      <th>2006</th>\n",
       "      <th>2007</th>\n",
       "    </tr>\n",
       "  </thead>\n",
       "  <tbody>\n",
       "    <tr>\n",
       "      <th>0</th>\n",
       "      <td>Afghanistan</td>\n",
       "      <td>NaN</td>\n",
       "      <td>NaN</td>\n",
       "      <td>NaN</td>\n",
       "      <td>NaN</td>\n",
       "      <td>NaN</td>\n",
       "      <td>22.809539</td>\n",
       "    </tr>\n",
       "    <tr>\n",
       "      <th>1</th>\n",
       "      <td>Albania</td>\n",
       "      <td>73.0</td>\n",
       "      <td>NaN</td>\n",
       "      <td>85.0</td>\n",
       "      <td>87.475235</td>\n",
       "      <td>97.318069</td>\n",
       "      <td>102.212411</td>\n",
       "    </tr>\n",
       "    <tr>\n",
       "      <th>2</th>\n",
       "      <td>Algeria</td>\n",
       "      <td>NaN</td>\n",
       "      <td>88.0</td>\n",
       "      <td>89.0</td>\n",
       "      <td>91.000000</td>\n",
       "      <td>NaN</td>\n",
       "      <td>NaN</td>\n",
       "    </tr>\n",
       "    <tr>\n",
       "      <th>3</th>\n",
       "      <td>Angola</td>\n",
       "      <td>NaN</td>\n",
       "      <td>NaN</td>\n",
       "      <td>NaN</td>\n",
       "      <td>NaN</td>\n",
       "      <td>NaN</td>\n",
       "      <td>39.593660</td>\n",
       "    </tr>\n",
       "    <tr>\n",
       "      <th>4</th>\n",
       "      <td>Argentina</td>\n",
       "      <td>NaN</td>\n",
       "      <td>NaN</td>\n",
       "      <td>NaN</td>\n",
       "      <td>NaN</td>\n",
       "      <td>NaN</td>\n",
       "      <td>313.893647</td>\n",
       "    </tr>\n",
       "  </tbody>\n",
       "</table>\n",
       "</div>"
      ],
      "text/plain": [
       "       country  2002  2003  2004       2005       2006        2007\n",
       "0  Afghanistan   NaN   NaN   NaN        NaN        NaN   22.809539\n",
       "1      Albania  73.0   NaN  85.0  87.475235  97.318069  102.212411\n",
       "2      Algeria   NaN  88.0  89.0  91.000000        NaN         NaN\n",
       "3       Angola   NaN   NaN   NaN        NaN        NaN   39.593660\n",
       "4    Argentina   NaN   NaN   NaN        NaN        NaN  313.893647"
      ]
     },
     "execution_count": 151,
     "metadata": {},
     "output_type": "execute_result"
    }
   ],
   "source": [
    "# verify\n",
    "cars.head()"
   ]
  },
  {
   "cell_type": "markdown",
   "metadata": {},
   "source": [
    "#### Observations\n",
    "\n",
    "* Data limited: 1960 to 2011 only\n",
    "* More countries than for either Regions or for CO2 data sets\n",
    "* Need to clean up special characters and accents"
   ]
  },
  {
   "cell_type": "code",
   "execution_count": 152,
   "metadata": {},
   "outputs": [
    {
     "name": "stdout",
     "output_type": "stream",
     "text": [
      "<class 'pandas.core.frame.DataFrame'>\n",
      "RangeIndex: 161 entries, 0 to 160\n",
      "Data columns (total 7 columns):\n",
      "country    161 non-null object\n",
      "2002       82 non-null float64\n",
      "2003       78 non-null float64\n",
      "2004       65 non-null float64\n",
      "2005       50 non-null float64\n",
      "2006       38 non-null float64\n",
      "2007       149 non-null float64\n",
      "dtypes: float64(6), object(1)\n",
      "memory usage: 8.9+ KB\n"
     ]
    }
   ],
   "source": [
    "# summary stats\n",
    "cars.info()\n",
    "#cars.describe()"
   ]
  },
  {
   "cell_type": "code",
   "execution_count": 153,
   "metadata": {},
   "outputs": [
    {
     "data": {
      "text/plain": [
       "82"
      ]
     },
     "execution_count": 153,
     "metadata": {},
     "output_type": "execute_result"
    }
   ],
   "source": [
    "# how many countries have data from the beginning?\n",
    "first_year = cars.columns[1]\n",
    "cars[first_year].count()"
   ]
  },
  {
   "cell_type": "code",
   "execution_count": 154,
   "metadata": {},
   "outputs": [
    {
     "data": {
      "text/html": [
       "<div>\n",
       "<style scoped>\n",
       "    .dataframe tbody tr th:only-of-type {\n",
       "        vertical-align: middle;\n",
       "    }\n",
       "\n",
       "    .dataframe tbody tr th {\n",
       "        vertical-align: top;\n",
       "    }\n",
       "\n",
       "    .dataframe thead th {\n",
       "        text-align: right;\n",
       "    }\n",
       "</style>\n",
       "<table border=\"1\" class=\"dataframe\">\n",
       "  <thead>\n",
       "    <tr style=\"text-align: right;\">\n",
       "      <th></th>\n",
       "      <th>country</th>\n",
       "      <th>2002</th>\n",
       "      <th>2003</th>\n",
       "      <th>2004</th>\n",
       "      <th>2005</th>\n",
       "      <th>2006</th>\n",
       "      <th>2007</th>\n",
       "    </tr>\n",
       "  </thead>\n",
       "  <tbody>\n",
       "    <tr>\n",
       "      <th>1</th>\n",
       "      <td>Albania</td>\n",
       "      <td>73.000000</td>\n",
       "      <td>NaN</td>\n",
       "      <td>85.000000</td>\n",
       "      <td>87.475235</td>\n",
       "      <td>97.318069</td>\n",
       "      <td>102.212411</td>\n",
       "    </tr>\n",
       "    <tr>\n",
       "      <th>7</th>\n",
       "      <td>Austria</td>\n",
       "      <td>588.000000</td>\n",
       "      <td>595.000000</td>\n",
       "      <td>599.000000</td>\n",
       "      <td>NaN</td>\n",
       "      <td>551.637024</td>\n",
       "      <td>556.499023</td>\n",
       "    </tr>\n",
       "    <tr>\n",
       "      <th>8</th>\n",
       "      <td>Azerbaijan</td>\n",
       "      <td>58.000000</td>\n",
       "      <td>61.000000</td>\n",
       "      <td>66.000000</td>\n",
       "      <td>61.000000</td>\n",
       "      <td>NaN</td>\n",
       "      <td>NaN</td>\n",
       "    </tr>\n",
       "    <tr>\n",
       "      <th>10</th>\n",
       "      <td>Bahrain</td>\n",
       "      <td>382.000000</td>\n",
       "      <td>383.000000</td>\n",
       "      <td>NaN</td>\n",
       "      <td>NaN</td>\n",
       "      <td>NaN</td>\n",
       "      <td>481.888735</td>\n",
       "    </tr>\n",
       "    <tr>\n",
       "      <th>12</th>\n",
       "      <td>Barbados</td>\n",
       "      <td>337.000000</td>\n",
       "      <td>377.000000</td>\n",
       "      <td>375.000000</td>\n",
       "      <td>NaN</td>\n",
       "      <td>NaN</td>\n",
       "      <td>405.920216</td>\n",
       "    </tr>\n",
       "    <tr>\n",
       "      <th>14</th>\n",
       "      <td>Belgium</td>\n",
       "      <td>526.000000</td>\n",
       "      <td>524.000000</td>\n",
       "      <td>529.000000</td>\n",
       "      <td>NaN</td>\n",
       "      <td>534.749023</td>\n",
       "      <td>539.445966</td>\n",
       "    </tr>\n",
       "    <tr>\n",
       "      <th>15</th>\n",
       "      <td>Belize</td>\n",
       "      <td>155.000000</td>\n",
       "      <td>162.000000</td>\n",
       "      <td>NaN</td>\n",
       "      <td>NaN</td>\n",
       "      <td>NaN</td>\n",
       "      <td>178.376991</td>\n",
       "    </tr>\n",
       "    <tr>\n",
       "      <th>17</th>\n",
       "      <td>Bhutan</td>\n",
       "      <td>17.000000</td>\n",
       "      <td>NaN</td>\n",
       "      <td>NaN</td>\n",
       "      <td>NaN</td>\n",
       "      <td>NaN</td>\n",
       "      <td>38.288069</td>\n",
       "    </tr>\n",
       "    <tr>\n",
       "      <th>20</th>\n",
       "      <td>Botswana</td>\n",
       "      <td>85.000000</td>\n",
       "      <td>96.000000</td>\n",
       "      <td>105.000000</td>\n",
       "      <td>113.000000</td>\n",
       "      <td>NaN</td>\n",
       "      <td>113.485366</td>\n",
       "    </tr>\n",
       "    <tr>\n",
       "      <th>23</th>\n",
       "      <td>Bulgaria</td>\n",
       "      <td>325.000000</td>\n",
       "      <td>338.000000</td>\n",
       "      <td>360.000000</td>\n",
       "      <td>NaN</td>\n",
       "      <td>NaN</td>\n",
       "      <td>295.135046</td>\n",
       "    </tr>\n",
       "    <tr>\n",
       "      <th>26</th>\n",
       "      <td>Canada</td>\n",
       "      <td>582.000000</td>\n",
       "      <td>582.000000</td>\n",
       "      <td>NaN</td>\n",
       "      <td>NaN</td>\n",
       "      <td>NaN</td>\n",
       "      <td>597.164514</td>\n",
       "    </tr>\n",
       "    <tr>\n",
       "      <th>30</th>\n",
       "      <td>Chile</td>\n",
       "      <td>135.000000</td>\n",
       "      <td>135.000000</td>\n",
       "      <td>NaN</td>\n",
       "      <td>149.838135</td>\n",
       "      <td>157.229248</td>\n",
       "      <td>163.941020</td>\n",
       "    </tr>\n",
       "    <tr>\n",
       "      <th>31</th>\n",
       "      <td>China</td>\n",
       "      <td>13.000000</td>\n",
       "      <td>15.000000</td>\n",
       "      <td>21.000000</td>\n",
       "      <td>24.000000</td>\n",
       "      <td>28.046000</td>\n",
       "      <td>32.238630</td>\n",
       "    </tr>\n",
       "    <tr>\n",
       "      <th>36</th>\n",
       "      <td>Costa Rica</td>\n",
       "      <td>146.000000</td>\n",
       "      <td>190.000000</td>\n",
       "      <td>198.000000</td>\n",
       "      <td>NaN</td>\n",
       "      <td>NaN</td>\n",
       "      <td>151.788369</td>\n",
       "    </tr>\n",
       "    <tr>\n",
       "      <th>37</th>\n",
       "      <td>Croatia</td>\n",
       "      <td>313.000000</td>\n",
       "      <td>356.000000</td>\n",
       "      <td>337.000000</td>\n",
       "      <td>349.000000</td>\n",
       "      <td>365.997986</td>\n",
       "      <td>377.114470</td>\n",
       "    </tr>\n",
       "    <tr>\n",
       "      <th>39</th>\n",
       "      <td>Cyprus</td>\n",
       "      <td>506.000000</td>\n",
       "      <td>521.000000</td>\n",
       "      <td>553.000000</td>\n",
       "      <td>742.000000</td>\n",
       "      <td>NaN</td>\n",
       "      <td>622.139696</td>\n",
       "    </tr>\n",
       "    <tr>\n",
       "      <th>40</th>\n",
       "      <td>Czech Republic</td>\n",
       "      <td>394.000000</td>\n",
       "      <td>NaN</td>\n",
       "      <td>NaN</td>\n",
       "      <td>NaN</td>\n",
       "      <td>NaN</td>\n",
       "      <td>469.870797</td>\n",
       "    </tr>\n",
       "    <tr>\n",
       "      <th>41</th>\n",
       "      <td>Denmark</td>\n",
       "      <td>424.000000</td>\n",
       "      <td>NaN</td>\n",
       "      <td>430.000000</td>\n",
       "      <td>437.000000</td>\n",
       "      <td>NaN</td>\n",
       "      <td>465.690355</td>\n",
       "    </tr>\n",
       "    <tr>\n",
       "      <th>42</th>\n",
       "      <td>Dominican Republic</td>\n",
       "      <td>111.000000</td>\n",
       "      <td>105.000000</td>\n",
       "      <td>110.000000</td>\n",
       "      <td>115.000000</td>\n",
       "      <td>NaN</td>\n",
       "      <td>122.645575</td>\n",
       "    </tr>\n",
       "    <tr>\n",
       "      <th>46</th>\n",
       "      <td>Estonia</td>\n",
       "      <td>358.000000</td>\n",
       "      <td>427.000000</td>\n",
       "      <td>459.000000</td>\n",
       "      <td>477.000000</td>\n",
       "      <td>NaN</td>\n",
       "      <td>444.362706</td>\n",
       "    </tr>\n",
       "    <tr>\n",
       "      <th>47</th>\n",
       "      <td>Ethiopia</td>\n",
       "      <td>2.000000</td>\n",
       "      <td>2.000000</td>\n",
       "      <td>NaN</td>\n",
       "      <td>NaN</td>\n",
       "      <td>NaN</td>\n",
       "      <td>2.995806</td>\n",
       "    </tr>\n",
       "    <tr>\n",
       "      <th>50</th>\n",
       "      <td>France</td>\n",
       "      <td>593.000000</td>\n",
       "      <td>594.000000</td>\n",
       "      <td>595.000000</td>\n",
       "      <td>596.000000</td>\n",
       "      <td>598.080017</td>\n",
       "      <td>600.466021</td>\n",
       "    </tr>\n",
       "    <tr>\n",
       "      <th>51</th>\n",
       "      <td>Gambia</td>\n",
       "      <td>8.000000</td>\n",
       "      <td>8.000000</td>\n",
       "      <td>7.000000</td>\n",
       "      <td>NaN</td>\n",
       "      <td>NaN</td>\n",
       "      <td>7.281017</td>\n",
       "    </tr>\n",
       "    <tr>\n",
       "      <th>52</th>\n",
       "      <td>Georgia</td>\n",
       "      <td>70.000000</td>\n",
       "      <td>71.000000</td>\n",
       "      <td>NaN</td>\n",
       "      <td>NaN</td>\n",
       "      <td>NaN</td>\n",
       "      <td>116.082707</td>\n",
       "    </tr>\n",
       "    <tr>\n",
       "      <th>53</th>\n",
       "      <td>Germany</td>\n",
       "      <td>576.000000</td>\n",
       "      <td>576.000000</td>\n",
       "      <td>580.000000</td>\n",
       "      <td>585.000000</td>\n",
       "      <td>597.780029</td>\n",
       "      <td>623.059860</td>\n",
       "    </tr>\n",
       "    <tr>\n",
       "      <th>54</th>\n",
       "      <td>Ghana</td>\n",
       "      <td>19.000000</td>\n",
       "      <td>21.000000</td>\n",
       "      <td>NaN</td>\n",
       "      <td>NaN</td>\n",
       "      <td>17.879999</td>\n",
       "      <td>32.958767</td>\n",
       "    </tr>\n",
       "    <tr>\n",
       "      <th>55</th>\n",
       "      <td>Greece</td>\n",
       "      <td>435.000000</td>\n",
       "      <td>453.000000</td>\n",
       "      <td>476.000000</td>\n",
       "      <td>497.000000</td>\n",
       "      <td>521.606995</td>\n",
       "      <td>112.204408</td>\n",
       "    </tr>\n",
       "    <tr>\n",
       "      <th>57</th>\n",
       "      <td>Guinea-Bissau</td>\n",
       "      <td>1.000000</td>\n",
       "      <td>NaN</td>\n",
       "      <td>NaN</td>\n",
       "      <td>NaN</td>\n",
       "      <td>NaN</td>\n",
       "      <td>32.901159</td>\n",
       "    </tr>\n",
       "    <tr>\n",
       "      <th>61</th>\n",
       "      <td>Hungary</td>\n",
       "      <td>300.000000</td>\n",
       "      <td>316.000000</td>\n",
       "      <td>NaN</td>\n",
       "      <td>NaN</td>\n",
       "      <td>373.970001</td>\n",
       "      <td>383.854674</td>\n",
       "    </tr>\n",
       "    <tr>\n",
       "      <th>62</th>\n",
       "      <td>Iceland</td>\n",
       "      <td>638.000000</td>\n",
       "      <td>656.000000</td>\n",
       "      <td>685.000000</td>\n",
       "      <td>724.000000</td>\n",
       "      <td>NaN</td>\n",
       "      <td>773.483346</td>\n",
       "    </tr>\n",
       "    <tr>\n",
       "      <th>...</th>\n",
       "      <td>...</td>\n",
       "      <td>...</td>\n",
       "      <td>...</td>\n",
       "      <td>...</td>\n",
       "      <td>...</td>\n",
       "      <td>...</td>\n",
       "      <td>...</td>\n",
       "    </tr>\n",
       "    <tr>\n",
       "      <th>102</th>\n",
       "      <td>Netherlands Antilles</td>\n",
       "      <td>472.000000</td>\n",
       "      <td>400.000000</td>\n",
       "      <td>445.000000</td>\n",
       "      <td>NaN</td>\n",
       "      <td>NaN</td>\n",
       "      <td>1213.830627</td>\n",
       "    </tr>\n",
       "    <tr>\n",
       "      <th>103</th>\n",
       "      <td>New Zealand</td>\n",
       "      <td>738.000000</td>\n",
       "      <td>681.000000</td>\n",
       "      <td>701.000000</td>\n",
       "      <td>720.000000</td>\n",
       "      <td>721.669983</td>\n",
       "      <td>729.293806</td>\n",
       "    </tr>\n",
       "    <tr>\n",
       "      <th>104</th>\n",
       "      <td>Nicaragua</td>\n",
       "      <td>39.000000</td>\n",
       "      <td>42.000000</td>\n",
       "      <td>46.000000</td>\n",
       "      <td>NaN</td>\n",
       "      <td>NaN</td>\n",
       "      <td>47.799146</td>\n",
       "    </tr>\n",
       "    <tr>\n",
       "      <th>105</th>\n",
       "      <td>Niger</td>\n",
       "      <td>5.000000</td>\n",
       "      <td>5.000000</td>\n",
       "      <td>5.000000</td>\n",
       "      <td>5.000000</td>\n",
       "      <td>NaN</td>\n",
       "      <td>NaN</td>\n",
       "    </tr>\n",
       "    <tr>\n",
       "      <th>107</th>\n",
       "      <td>Norway</td>\n",
       "      <td>521.000000</td>\n",
       "      <td>525.000000</td>\n",
       "      <td>535.000000</td>\n",
       "      <td>546.000000</td>\n",
       "      <td>NaN</td>\n",
       "      <td>571.878213</td>\n",
       "    </tr>\n",
       "    <tr>\n",
       "      <th>109</th>\n",
       "      <td>Pakistan</td>\n",
       "      <td>8.000000</td>\n",
       "      <td>NaN</td>\n",
       "      <td>14.000000</td>\n",
       "      <td>NaN</td>\n",
       "      <td>NaN</td>\n",
       "      <td>11.062971</td>\n",
       "    </tr>\n",
       "    <tr>\n",
       "      <th>110</th>\n",
       "      <td>Panama</td>\n",
       "      <td>103.000000</td>\n",
       "      <td>NaN</td>\n",
       "      <td>NaN</td>\n",
       "      <td>NaN</td>\n",
       "      <td>NaN</td>\n",
       "      <td>187.829592</td>\n",
       "    </tr>\n",
       "    <tr>\n",
       "      <th>113</th>\n",
       "      <td>Peru</td>\n",
       "      <td>47.000000</td>\n",
       "      <td>47.000000</td>\n",
       "      <td>47.000000</td>\n",
       "      <td>NaN</td>\n",
       "      <td>NaN</td>\n",
       "      <td>51.701828</td>\n",
       "    </tr>\n",
       "    <tr>\n",
       "      <th>114</th>\n",
       "      <td>Philippines</td>\n",
       "      <td>35.000000</td>\n",
       "      <td>NaN</td>\n",
       "      <td>NaN</td>\n",
       "      <td>34.000000</td>\n",
       "      <td>NaN</td>\n",
       "      <td>32.004514</td>\n",
       "    </tr>\n",
       "    <tr>\n",
       "      <th>115</th>\n",
       "      <td>Poland</td>\n",
       "      <td>347.000000</td>\n",
       "      <td>357.000000</td>\n",
       "      <td>386.000000</td>\n",
       "      <td>386.000000</td>\n",
       "      <td>416.282989</td>\n",
       "      <td>451.118058</td>\n",
       "    </tr>\n",
       "    <tr>\n",
       "      <th>118</th>\n",
       "      <td>Qatar</td>\n",
       "      <td>508.000000</td>\n",
       "      <td>NaN</td>\n",
       "      <td>NaN</td>\n",
       "      <td>NaN</td>\n",
       "      <td>NaN</td>\n",
       "      <td>724.449276</td>\n",
       "    </tr>\n",
       "    <tr>\n",
       "      <th>126</th>\n",
       "      <td>Seychelles</td>\n",
       "      <td>114.000000</td>\n",
       "      <td>121.000000</td>\n",
       "      <td>NaN</td>\n",
       "      <td>NaN</td>\n",
       "      <td>NaN</td>\n",
       "      <td>173.243014</td>\n",
       "    </tr>\n",
       "    <tr>\n",
       "      <th>127</th>\n",
       "      <td>Sierra Leone</td>\n",
       "      <td>4.000000</td>\n",
       "      <td>NaN</td>\n",
       "      <td>NaN</td>\n",
       "      <td>NaN</td>\n",
       "      <td>NaN</td>\n",
       "      <td>5.206562</td>\n",
       "    </tr>\n",
       "    <tr>\n",
       "      <th>128</th>\n",
       "      <td>Singapore</td>\n",
       "      <td>133.000000</td>\n",
       "      <td>133.000000</td>\n",
       "      <td>134.000000</td>\n",
       "      <td>137.000000</td>\n",
       "      <td>140.733993</td>\n",
       "      <td>148.749074</td>\n",
       "    </tr>\n",
       "    <tr>\n",
       "      <th>129</th>\n",
       "      <td>Slovak Republic</td>\n",
       "      <td>280.000000</td>\n",
       "      <td>288.000000</td>\n",
       "      <td>256.000000</td>\n",
       "      <td>NaN</td>\n",
       "      <td>287.130005</td>\n",
       "      <td>281.549100</td>\n",
       "    </tr>\n",
       "    <tr>\n",
       "      <th>130</th>\n",
       "      <td>Slovenia</td>\n",
       "      <td>483.739685</td>\n",
       "      <td>492.198364</td>\n",
       "      <td>504.952789</td>\n",
       "      <td>518.327393</td>\n",
       "      <td>530.739990</td>\n",
       "      <td>547.030853</td>\n",
       "    </tr>\n",
       "    <tr>\n",
       "      <th>131</th>\n",
       "      <td>South Africa</td>\n",
       "      <td>144.000000</td>\n",
       "      <td>NaN</td>\n",
       "      <td>136.000000</td>\n",
       "      <td>143.000000</td>\n",
       "      <td>151.082993</td>\n",
       "      <td>158.893559</td>\n",
       "    </tr>\n",
       "    <tr>\n",
       "      <th>132</th>\n",
       "      <td>South Korea</td>\n",
       "      <td>293.000000</td>\n",
       "      <td>303.000000</td>\n",
       "      <td>311.000000</td>\n",
       "      <td>319.000000</td>\n",
       "      <td>328.410004</td>\n",
       "      <td>338.284324</td>\n",
       "    </tr>\n",
       "    <tr>\n",
       "      <th>133</th>\n",
       "      <td>Spain</td>\n",
       "      <td>559.000000</td>\n",
       "      <td>550.000000</td>\n",
       "      <td>NaN</td>\n",
       "      <td>NaN</td>\n",
       "      <td>NaN</td>\n",
       "      <td>600.767220</td>\n",
       "    </tr>\n",
       "    <tr>\n",
       "      <th>134</th>\n",
       "      <td>Sri Lanka</td>\n",
       "      <td>42.000000</td>\n",
       "      <td>NaN</td>\n",
       "      <td>NaN</td>\n",
       "      <td>51.237274</td>\n",
       "      <td>54.666752</td>\n",
       "      <td>57.941979</td>\n",
       "    </tr>\n",
       "    <tr>\n",
       "      <th>135</th>\n",
       "      <td>St. Vincent and the Grenadines</td>\n",
       "      <td>126.000000</td>\n",
       "      <td>138.000000</td>\n",
       "      <td>NaN</td>\n",
       "      <td>NaN</td>\n",
       "      <td>NaN</td>\n",
       "      <td>204.056197</td>\n",
       "    </tr>\n",
       "    <tr>\n",
       "      <th>138</th>\n",
       "      <td>Swaziland</td>\n",
       "      <td>82.000000</td>\n",
       "      <td>84.000000</td>\n",
       "      <td>NaN</td>\n",
       "      <td>NaN</td>\n",
       "      <td>NaN</td>\n",
       "      <td>88.987954</td>\n",
       "    </tr>\n",
       "    <tr>\n",
       "      <th>139</th>\n",
       "      <td>Sweden</td>\n",
       "      <td>501.000000</td>\n",
       "      <td>NaN</td>\n",
       "      <td>508.000000</td>\n",
       "      <td>513.000000</td>\n",
       "      <td>516.030029</td>\n",
       "      <td>522.634993</td>\n",
       "    </tr>\n",
       "    <tr>\n",
       "      <th>140</th>\n",
       "      <td>Switzerland</td>\n",
       "      <td>550.000000</td>\n",
       "      <td>554.000000</td>\n",
       "      <td>559.000000</td>\n",
       "      <td>563.000000</td>\n",
       "      <td>564.331970</td>\n",
       "      <td>569.339227</td>\n",
       "    </tr>\n",
       "    <tr>\n",
       "      <th>141</th>\n",
       "      <td>Syria</td>\n",
       "      <td>34.709999</td>\n",
       "      <td>36.220001</td>\n",
       "      <td>37.630001</td>\n",
       "      <td>42.459999</td>\n",
       "      <td>47.889999</td>\n",
       "      <td>51.545543</td>\n",
       "    </tr>\n",
       "    <tr>\n",
       "      <th>146</th>\n",
       "      <td>Tunisia</td>\n",
       "      <td>89.000000</td>\n",
       "      <td>NaN</td>\n",
       "      <td>95.000000</td>\n",
       "      <td>NaN</td>\n",
       "      <td>NaN</td>\n",
       "      <td>103.400943</td>\n",
       "    </tr>\n",
       "    <tr>\n",
       "      <th>147</th>\n",
       "      <td>Turkey</td>\n",
       "      <td>90.000000</td>\n",
       "      <td>91.000000</td>\n",
       "      <td>108.000000</td>\n",
       "      <td>117.000000</td>\n",
       "      <td>124.000000</td>\n",
       "      <td>130.656274</td>\n",
       "    </tr>\n",
       "    <tr>\n",
       "      <th>150</th>\n",
       "      <td>Ukraine</td>\n",
       "      <td>135.000000</td>\n",
       "      <td>139.000000</td>\n",
       "      <td>125.000000</td>\n",
       "      <td>128.000000</td>\n",
       "      <td>NaN</td>\n",
       "      <td>140.435031</td>\n",
       "    </tr>\n",
       "    <tr>\n",
       "      <th>152</th>\n",
       "      <td>United Kingdom</td>\n",
       "      <td>505.000000</td>\n",
       "      <td>496.000000</td>\n",
       "      <td>510.000000</td>\n",
       "      <td>517.000000</td>\n",
       "      <td>NaN</td>\n",
       "      <td>526.611374</td>\n",
       "    </tr>\n",
       "    <tr>\n",
       "      <th>157</th>\n",
       "      <td>Vietnam</td>\n",
       "      <td>8.000000</td>\n",
       "      <td>NaN</td>\n",
       "      <td>NaN</td>\n",
       "      <td>NaN</td>\n",
       "      <td>NaN</td>\n",
       "      <td>13.461486</td>\n",
       "    </tr>\n",
       "  </tbody>\n",
       "</table>\n",
       "<p>82 rows × 7 columns</p>\n",
       "</div>"
      ],
      "text/plain": [
       "                            country        2002        2003        2004  \\\n",
       "1                           Albania   73.000000         NaN   85.000000   \n",
       "7                           Austria  588.000000  595.000000  599.000000   \n",
       "8                        Azerbaijan   58.000000   61.000000   66.000000   \n",
       "10                          Bahrain  382.000000  383.000000         NaN   \n",
       "12                         Barbados  337.000000  377.000000  375.000000   \n",
       "14                          Belgium  526.000000  524.000000  529.000000   \n",
       "15                           Belize  155.000000  162.000000         NaN   \n",
       "17                           Bhutan   17.000000         NaN         NaN   \n",
       "20                         Botswana   85.000000   96.000000  105.000000   \n",
       "23                         Bulgaria  325.000000  338.000000  360.000000   \n",
       "26                           Canada  582.000000  582.000000         NaN   \n",
       "30                            Chile  135.000000  135.000000         NaN   \n",
       "31                            China   13.000000   15.000000   21.000000   \n",
       "36                       Costa Rica  146.000000  190.000000  198.000000   \n",
       "37                          Croatia  313.000000  356.000000  337.000000   \n",
       "39                           Cyprus  506.000000  521.000000  553.000000   \n",
       "40                   Czech Republic  394.000000         NaN         NaN   \n",
       "41                          Denmark  424.000000         NaN  430.000000   \n",
       "42               Dominican Republic  111.000000  105.000000  110.000000   \n",
       "46                          Estonia  358.000000  427.000000  459.000000   \n",
       "47                         Ethiopia    2.000000    2.000000         NaN   \n",
       "50                           France  593.000000  594.000000  595.000000   \n",
       "51                           Gambia    8.000000    8.000000    7.000000   \n",
       "52                          Georgia   70.000000   71.000000         NaN   \n",
       "53                          Germany  576.000000  576.000000  580.000000   \n",
       "54                            Ghana   19.000000   21.000000         NaN   \n",
       "55                           Greece  435.000000  453.000000  476.000000   \n",
       "57                    Guinea-Bissau    1.000000         NaN         NaN   \n",
       "61                          Hungary  300.000000  316.000000         NaN   \n",
       "62                          Iceland  638.000000  656.000000  685.000000   \n",
       "..                              ...         ...         ...         ...   \n",
       "102            Netherlands Antilles  472.000000  400.000000  445.000000   \n",
       "103                     New Zealand  738.000000  681.000000  701.000000   \n",
       "104                       Nicaragua   39.000000   42.000000   46.000000   \n",
       "105                           Niger    5.000000    5.000000    5.000000   \n",
       "107                          Norway  521.000000  525.000000  535.000000   \n",
       "109                        Pakistan    8.000000         NaN   14.000000   \n",
       "110                          Panama  103.000000         NaN         NaN   \n",
       "113                            Peru   47.000000   47.000000   47.000000   \n",
       "114                     Philippines   35.000000         NaN         NaN   \n",
       "115                          Poland  347.000000  357.000000  386.000000   \n",
       "118                           Qatar  508.000000         NaN         NaN   \n",
       "126                      Seychelles  114.000000  121.000000         NaN   \n",
       "127                    Sierra Leone    4.000000         NaN         NaN   \n",
       "128                       Singapore  133.000000  133.000000  134.000000   \n",
       "129                 Slovak Republic  280.000000  288.000000  256.000000   \n",
       "130                        Slovenia  483.739685  492.198364  504.952789   \n",
       "131                    South Africa  144.000000         NaN  136.000000   \n",
       "132                     South Korea  293.000000  303.000000  311.000000   \n",
       "133                           Spain  559.000000  550.000000         NaN   \n",
       "134                       Sri Lanka   42.000000         NaN         NaN   \n",
       "135  St. Vincent and the Grenadines  126.000000  138.000000         NaN   \n",
       "138                       Swaziland   82.000000   84.000000         NaN   \n",
       "139                          Sweden  501.000000         NaN  508.000000   \n",
       "140                     Switzerland  550.000000  554.000000  559.000000   \n",
       "141                           Syria   34.709999   36.220001   37.630001   \n",
       "146                         Tunisia   89.000000         NaN   95.000000   \n",
       "147                          Turkey   90.000000   91.000000  108.000000   \n",
       "150                         Ukraine  135.000000  139.000000  125.000000   \n",
       "152                  United Kingdom  505.000000  496.000000  510.000000   \n",
       "157                         Vietnam    8.000000         NaN         NaN   \n",
       "\n",
       "           2005        2006         2007  \n",
       "1     87.475235   97.318069   102.212411  \n",
       "7           NaN  551.637024   556.499023  \n",
       "8     61.000000         NaN          NaN  \n",
       "10          NaN         NaN   481.888735  \n",
       "12          NaN         NaN   405.920216  \n",
       "14          NaN  534.749023   539.445966  \n",
       "15          NaN         NaN   178.376991  \n",
       "17          NaN         NaN    38.288069  \n",
       "20   113.000000         NaN   113.485366  \n",
       "23          NaN         NaN   295.135046  \n",
       "26          NaN         NaN   597.164514  \n",
       "30   149.838135  157.229248   163.941020  \n",
       "31    24.000000   28.046000    32.238630  \n",
       "36          NaN         NaN   151.788369  \n",
       "37   349.000000  365.997986   377.114470  \n",
       "39   742.000000         NaN   622.139696  \n",
       "40          NaN         NaN   469.870797  \n",
       "41   437.000000         NaN   465.690355  \n",
       "42   115.000000         NaN   122.645575  \n",
       "46   477.000000         NaN   444.362706  \n",
       "47          NaN         NaN     2.995806  \n",
       "50   596.000000  598.080017   600.466021  \n",
       "51          NaN         NaN     7.281017  \n",
       "52          NaN         NaN   116.082707  \n",
       "53   585.000000  597.780029   623.059860  \n",
       "54          NaN   17.879999    32.958767  \n",
       "55   497.000000  521.606995   112.204408  \n",
       "57          NaN         NaN    32.901159  \n",
       "61          NaN  373.970001   383.854674  \n",
       "62   724.000000         NaN   773.483346  \n",
       "..          ...         ...          ...  \n",
       "102         NaN         NaN  1213.830627  \n",
       "103  720.000000  721.669983   729.293806  \n",
       "104         NaN         NaN    47.799146  \n",
       "105    5.000000         NaN          NaN  \n",
       "107  546.000000         NaN   571.878213  \n",
       "109         NaN         NaN    11.062971  \n",
       "110         NaN         NaN   187.829592  \n",
       "113         NaN         NaN    51.701828  \n",
       "114   34.000000         NaN    32.004514  \n",
       "115  386.000000  416.282989   451.118058  \n",
       "118         NaN         NaN   724.449276  \n",
       "126         NaN         NaN   173.243014  \n",
       "127         NaN         NaN     5.206562  \n",
       "128  137.000000  140.733993   148.749074  \n",
       "129         NaN  287.130005   281.549100  \n",
       "130  518.327393  530.739990   547.030853  \n",
       "131  143.000000  151.082993   158.893559  \n",
       "132  319.000000  328.410004   338.284324  \n",
       "133         NaN         NaN   600.767220  \n",
       "134   51.237274   54.666752    57.941979  \n",
       "135         NaN         NaN   204.056197  \n",
       "138         NaN         NaN    88.987954  \n",
       "139  513.000000  516.030029   522.634993  \n",
       "140  563.000000  564.331970   569.339227  \n",
       "141   42.459999   47.889999    51.545543  \n",
       "146         NaN         NaN   103.400943  \n",
       "147  117.000000  124.000000   130.656274  \n",
       "150  128.000000         NaN   140.435031  \n",
       "152  517.000000         NaN   526.611374  \n",
       "157         NaN         NaN    13.461486  \n",
       "\n",
       "[82 rows x 7 columns]"
      ]
     },
     "execution_count": 154,
     "metadata": {},
     "output_type": "execute_result"
    }
   ],
   "source": [
    "# Which country has data starting from that year?\n",
    "cars.loc[pd.notnull(cars[first_year])]"
   ]
  },
  {
   "cell_type": "code",
   "execution_count": 155,
   "metadata": {},
   "outputs": [
    {
     "data": {
      "text/plain": [
       "12"
      ]
     },
     "execution_count": 155,
     "metadata": {},
     "output_type": "execute_result"
    }
   ],
   "source": [
    "# How many countries do not have data in the last year?\n",
    "last_year = cars.columns[-1]\n",
    "\n",
    "missing_recent = cars.loc[cars[last_year].isnull()]\n",
    "len(missing_recent)"
   ]
  },
  {
   "cell_type": "markdown",
   "metadata": {},
   "source": [
    "###  Sanity checks\n",
    "\n",
    "Which countries have the highest cumulative car ownership?\n"
   ]
  },
  {
   "cell_type": "code",
   "execution_count": 156,
   "metadata": {},
   "outputs": [],
   "source": [
    "# change index for simpler aggregating\n",
    "cars = cars.set_index('country')"
   ]
  },
  {
   "cell_type": "code",
   "execution_count": 157,
   "metadata": {},
   "outputs": [
    {
     "data": {
      "text/plain": [
       "country\n",
       "Monaco                  871.529052\n",
       "United States           774.696444\n",
       "New Zealand             715.160631\n",
       "Brunei                  696.064452\n",
       "Iceland                 695.296669\n",
       "Luxembourg              667.661761\n",
       "Italy                   665.764056\n",
       "Australia               655.329764\n",
       "Puerto Rico             641.910221\n",
       "Netherlands Antilles    632.707657\n",
       "dtype: float64"
      ]
     },
     "execution_count": 157,
     "metadata": {},
     "output_type": "execute_result"
    }
   ],
   "source": [
    "# which countries have the highest mean car ownership?\n",
    "cars.mean(1).sort_values(ascending = False).head(10)"
   ]
  },
  {
   "cell_type": "code",
   "execution_count": 158,
   "metadata": {},
   "outputs": [
    {
     "data": {
      "text/plain": [
       "country\n",
       "Niger                       5.000000\n",
       "Congo, Dem. Rep.            4.996552\n",
       "Sierra Leone                4.603281\n",
       "Rwanda                      3.884735\n",
       "Liberia                     2.865627\n",
       "Ethiopia                    2.331935\n",
       "Sao Tome and Principe       2.158050\n",
       "Bangladesh                  2.155022\n",
       "Togo                        1.979005\n",
       "Central African Republic    0.295501\n",
       "dtype: float64"
      ]
     },
     "execution_count": 158,
     "metadata": {},
     "output_type": "execute_result"
    }
   ],
   "source": [
    "# which countries have the lowest?\n",
    "cars.mean(1).sort_values(ascending = False).tail(10)"
   ]
  },
  {
   "cell_type": "markdown",
   "metadata": {},
   "source": [
    "#### Observations\n",
    "\n",
    "Now the top 10 is nearly all oil-rich countries. Nonetheless, we still have Luxembourg in the top 10, along with Trinidad & Tobago.\n",
    "\n",
    "Also...the bottom results show that we have many rows without any values."
   ]
  },
  {
   "cell_type": "markdown",
   "metadata": {},
   "source": [
    "> **Tip**: You should _not_ perform too many operations in each cell. Create cells freely to explore your data. One option that you can take with this project is to do a lot of explorations in an initial notebook. These don't have to be organized, but make sure you use enough comments to understand the purpose of each code cell. Then, after you're done with your analysis, create a duplicate notebook where you will trim the excess and organize your steps so that you have a flowing, cohesive report.\n",
    "\n",
    "> **Tip**: Make sure that you keep your reader informed on the steps that you are taking in your investigation. Follow every code cell, or every set of related code cells, with a markdown cell to describe to the reader what was found in the preceding cell(s). Try to make it so that the reader can then understand what they will be seeing in the following cell(s).\n",
    "\n",
    "## Data Cleaning"
   ]
  },
  {
   "cell_type": "code",
   "execution_count": 159,
   "metadata": {},
   "outputs": [
    {
     "data": {
      "text/plain": [
       "0"
      ]
     },
     "execution_count": 159,
     "metadata": {},
     "output_type": "execute_result"
    }
   ],
   "source": [
    "# any empty rows?\n",
    "len(cars.loc[cars.sum(1).isnull()])"
   ]
  },
  {
   "cell_type": "code",
   "execution_count": 160,
   "metadata": {},
   "outputs": [],
   "source": [
    "# drop null rows\n",
    "\n",
    "#energy = energy.drop(drop)\n",
    "#len(energy)"
   ]
  },
  {
   "cell_type": "markdown",
   "metadata": {},
   "source": [
    "### Remove empty rows"
   ]
  },
  {
   "cell_type": "markdown",
   "metadata": {},
   "source": [
    "## Add region & sub-region columns\n",
    "\n",
    "Data from https://github.com/lukes/ISO-3166-Countries-with-Regional-Codes/blob/master/all/all.csv\n",
    "\n",
    "CO2 patterns, I suspect, vary a lot by region and not just by country. \n",
    "\n",
    "For my analysis, I'd like to primarily focus on Europe since that's where I'm currently living. "
   ]
  },
  {
   "cell_type": "code",
   "execution_count": 161,
   "metadata": {},
   "outputs": [],
   "source": [
    "cars.reset_index(inplace = True)"
   ]
  },
  {
   "cell_type": "code",
   "execution_count": 162,
   "metadata": {},
   "outputs": [
    {
     "data": {
      "text/plain": [
       "0                         Afghanistan\n",
       "1                             Albania\n",
       "2                             Algeria\n",
       "3                              Angola\n",
       "4                           Argentina\n",
       "5                             Armenia\n",
       "6                           Australia\n",
       "7                             Austria\n",
       "8                          Azerbaijan\n",
       "9                             Bahamas\n",
       "10                            Bahrain\n",
       "11                         Bangladesh\n",
       "12                           Barbados\n",
       "13                            Belarus\n",
       "14                            Belgium\n",
       "15                             Belize\n",
       "16                              Benin\n",
       "17                             Bhutan\n",
       "18                            Bolivia\n",
       "19             Bosnia and Herzegovina\n",
       "20                           Botswana\n",
       "21                             Brazil\n",
       "22                             Brunei\n",
       "23                           Bulgaria\n",
       "24                       Burkina Faso\n",
       "25                            Burundi\n",
       "26                             Canada\n",
       "27                         Cape Verde\n",
       "28           Central African Republic\n",
       "29                               Chad\n",
       "                    ...              \n",
       "131                      South Africa\n",
       "132                       South Korea\n",
       "133                             Spain\n",
       "134                         Sri Lanka\n",
       "135    St. Vincent and the Grenadines\n",
       "136                             Sudan\n",
       "137                          Suriname\n",
       "138                         Swaziland\n",
       "139                            Sweden\n",
       "140                       Switzerland\n",
       "141                             Syria\n",
       "142                        Tajikistan\n",
       "143                          Tanzania\n",
       "144                              Togo\n",
       "145               Trinidad and Tobago\n",
       "146                           Tunisia\n",
       "147                            Turkey\n",
       "148                      Turkmenistan\n",
       "149                            Uganda\n",
       "150                           Ukraine\n",
       "151              United Arab Emirates\n",
       "152                    United Kingdom\n",
       "153                     United States\n",
       "154                           Uruguay\n",
       "155                         Venezuela\n",
       "156                West Bank and Gaza\n",
       "157                           Vietnam\n",
       "158                             Yemen\n",
       "159                            Zambia\n",
       "160                          Zimbabwe\n",
       "Name: country, Length: 161, dtype: object"
      ]
     },
     "execution_count": 162,
     "metadata": {},
     "output_type": "execute_result"
    }
   ],
   "source": [
    "cars['country']"
   ]
  },
  {
   "cell_type": "markdown",
   "metadata": {},
   "source": [
    "### Create regions df"
   ]
  },
  {
   "cell_type": "code",
   "execution_count": 175,
   "metadata": {},
   "outputs": [
    {
     "name": "stdout",
     "output_type": "stream",
     "text": [
      "<class 'pandas.core.frame.DataFrame'>\n",
      "RangeIndex: 201 entries, 0 to 200\n",
      "Data columns (total 3 columns):\n",
      "country       201 non-null object\n",
      "region        201 non-null object\n",
      "sub-region    201 non-null object\n",
      "dtypes: object(3)\n",
      "memory usage: 4.8+ KB\n"
     ]
    }
   ],
   "source": [
    "# based on cleaned json file\n",
    "#regions = pd.read_csv('data/regions_cleaned.csv')\n",
    "regions = pd.read_csv('data/countries_with_regions.csv')\n",
    "regions.info()"
   ]
  },
  {
   "cell_type": "markdown",
   "metadata": {},
   "source": [
    "So `regions` df has many more countries than `cars` df, which will be the driving table for the merge. This is easier to work with than vice versa."
   ]
  },
  {
   "cell_type": "markdown",
   "metadata": {},
   "source": [
    "### Clean up 'country' column"
   ]
  },
  {
   "cell_type": "code",
   "execution_count": 164,
   "metadata": {},
   "outputs": [],
   "source": [
    "# remove accents from countries in cars df\n",
    "import unidecode\n",
    "from regions_clean import remove_special_char\n",
    "\n",
    "def clean_column(df, colname):\n",
    "    df[colname] = df[colname].apply(unidecode.unidecode)\n",
    "    df[colname] = df[colname].apply(remove_special_char)\n",
    "    return df"
   ]
  },
  {
   "cell_type": "code",
   "execution_count": 165,
   "metadata": {},
   "outputs": [],
   "source": [
    "# convert column to string (otherwise unidecode returns warning)\n",
    "cars['country'] = cars['country'].astype('|S')\n",
    "cars = clean_column(cars, 'country')"
   ]
  },
  {
   "cell_type": "code",
   "execution_count": 166,
   "metadata": {},
   "outputs": [
    {
     "data": {
      "text/plain": [
       "['Afghanistan',\n",
       " 'Albania',\n",
       " 'Algeria',\n",
       " 'Angola',\n",
       " 'Argentina',\n",
       " 'Armenia',\n",
       " 'Australia',\n",
       " 'Austria',\n",
       " 'Azerbaijan',\n",
       " 'Bahamas',\n",
       " 'Bahrain',\n",
       " 'Bangladesh',\n",
       " 'Barbados',\n",
       " 'Belarus',\n",
       " 'Belgium',\n",
       " 'Belize',\n",
       " 'Benin',\n",
       " 'Bhutan',\n",
       " 'Bolivia',\n",
       " 'Bosnia and Herzegovina',\n",
       " 'Botswana',\n",
       " 'Brazil',\n",
       " 'Brunei',\n",
       " 'Bulgaria',\n",
       " 'Burkina Faso',\n",
       " 'Burundi',\n",
       " 'Canada',\n",
       " 'Cape Verde',\n",
       " 'Central African Republic',\n",
       " 'Chad',\n",
       " 'Chile',\n",
       " 'China',\n",
       " 'Colombia',\n",
       " 'Comoros',\n",
       " 'Congo Dem Rep ',\n",
       " 'Congo Rep ',\n",
       " 'Costa Rica',\n",
       " 'Croatia',\n",
       " 'Cuba',\n",
       " 'Cyprus',\n",
       " 'Czech Republic',\n",
       " 'Denmark',\n",
       " 'Dominican Republic',\n",
       " 'Ecuador',\n",
       " 'El Salvador',\n",
       " 'Eritrea',\n",
       " 'Estonia',\n",
       " 'Ethiopia',\n",
       " 'Fiji',\n",
       " 'Finland',\n",
       " 'France',\n",
       " 'Gambia',\n",
       " 'Georgia',\n",
       " 'Germany',\n",
       " 'Ghana',\n",
       " 'Greece',\n",
       " 'Guatemala',\n",
       " 'Guinea Bissau',\n",
       " 'Guyana',\n",
       " 'Honduras',\n",
       " 'Hong Kong China',\n",
       " 'Hungary',\n",
       " 'Iceland',\n",
       " 'India',\n",
       " 'Indonesia',\n",
       " 'Iran',\n",
       " 'Ireland',\n",
       " 'Israel',\n",
       " 'Italy',\n",
       " 'Jamaica',\n",
       " 'Japan',\n",
       " 'Jordan',\n",
       " 'Kazakhstan',\n",
       " 'Kenya',\n",
       " 'Kiribati',\n",
       " 'Kuwait',\n",
       " 'Kyrgyz Republic',\n",
       " 'Lao',\n",
       " 'Latvia',\n",
       " 'Liberia',\n",
       " 'Libya',\n",
       " 'Lithuania',\n",
       " 'Luxembourg',\n",
       " 'Macao China',\n",
       " 'Macedonia FYR',\n",
       " 'Malawi',\n",
       " 'Malaysia',\n",
       " 'Maldives',\n",
       " 'Mali',\n",
       " 'Malta',\n",
       " 'Mauritius',\n",
       " 'Mexico',\n",
       " 'Micronesia Fed Sts ',\n",
       " 'Moldova',\n",
       " 'Monaco',\n",
       " 'Mongolia',\n",
       " 'Morocco',\n",
       " 'Mozambique',\n",
       " 'Myanmar',\n",
       " 'Namibia',\n",
       " 'Nepal',\n",
       " 'Netherlands',\n",
       " 'Netherlands Antilles',\n",
       " 'New Zealand',\n",
       " 'Nicaragua',\n",
       " 'Niger',\n",
       " 'Nigeria',\n",
       " 'Norway',\n",
       " 'Oman',\n",
       " 'Pakistan',\n",
       " 'Panama',\n",
       " 'Papua New Guinea',\n",
       " 'Paraguay',\n",
       " 'Peru',\n",
       " 'Philippines',\n",
       " 'Poland',\n",
       " 'Portugal',\n",
       " 'Puerto Rico',\n",
       " 'Qatar',\n",
       " 'Romania',\n",
       " 'Russia',\n",
       " 'Rwanda',\n",
       " 'Samoa',\n",
       " 'Sao Tome and Principe',\n",
       " 'Senegal',\n",
       " 'Serbia',\n",
       " 'Seychelles',\n",
       " 'Sierra Leone',\n",
       " 'Singapore',\n",
       " 'Slovak Republic',\n",
       " 'Slovenia',\n",
       " 'South Africa',\n",
       " 'South Korea',\n",
       " 'Spain',\n",
       " 'Sri Lanka',\n",
       " 'St Vincent and the Grenadines',\n",
       " 'Sudan',\n",
       " 'Suriname',\n",
       " 'Swaziland',\n",
       " 'Sweden',\n",
       " 'Switzerland',\n",
       " 'Syria',\n",
       " 'Tajikistan',\n",
       " 'Tanzania',\n",
       " 'Togo',\n",
       " 'Trinidad and Tobago',\n",
       " 'Tunisia',\n",
       " 'Turkey',\n",
       " 'Turkmenistan',\n",
       " 'Uganda',\n",
       " 'Ukraine',\n",
       " 'United Arab Emirates',\n",
       " 'United Kingdom',\n",
       " 'United States',\n",
       " 'Uruguay',\n",
       " 'Venezuela',\n",
       " 'West Bank and Gaza',\n",
       " 'Vietnam',\n",
       " 'Yemen',\n",
       " 'Zambia',\n",
       " 'Zimbabwe']"
      ]
     },
     "execution_count": 166,
     "metadata": {},
     "output_type": "execute_result"
    }
   ],
   "source": [
    "list(cars['country'])"
   ]
  },
  {
   "cell_type": "markdown",
   "metadata": {},
   "source": [
    "## Merge `energy` with `regions`"
   ]
  },
  {
   "cell_type": "code",
   "execution_count": null,
   "metadata": {},
   "outputs": [],
   "source": [
    "# merge co2 df with region df\n",
    "\n",
    "def merge_regions(df, regions):\n",
    "    df = df.merge(regions, how = 'left', on='country', suffixes=('_left', '_right'))\n",
    "    return df"
   ]
  },
  {
   "cell_type": "code",
   "execution_count": 177,
   "metadata": {},
   "outputs": [
    {
     "data": {
      "text/html": [
       "<div>\n",
       "<style scoped>\n",
       "    .dataframe tbody tr th:only-of-type {\n",
       "        vertical-align: middle;\n",
       "    }\n",
       "\n",
       "    .dataframe tbody tr th {\n",
       "        vertical-align: top;\n",
       "    }\n",
       "\n",
       "    .dataframe thead th {\n",
       "        text-align: right;\n",
       "    }\n",
       "</style>\n",
       "<table border=\"1\" class=\"dataframe\">\n",
       "  <thead>\n",
       "    <tr style=\"text-align: right;\">\n",
       "      <th></th>\n",
       "      <th>country</th>\n",
       "      <th>region</th>\n",
       "      <th>sub-region</th>\n",
       "      <th>2002</th>\n",
       "      <th>2003</th>\n",
       "      <th>2004</th>\n",
       "      <th>2005</th>\n",
       "      <th>2006</th>\n",
       "      <th>2007</th>\n",
       "    </tr>\n",
       "  </thead>\n",
       "  <tbody>\n",
       "    <tr>\n",
       "      <th>0</th>\n",
       "      <td>Afghanistan</td>\n",
       "      <td>Asia</td>\n",
       "      <td>Southern Asia</td>\n",
       "      <td>NaN</td>\n",
       "      <td>NaN</td>\n",
       "      <td>NaN</td>\n",
       "      <td>NaN</td>\n",
       "      <td>NaN</td>\n",
       "      <td>22.809539</td>\n",
       "    </tr>\n",
       "    <tr>\n",
       "      <th>1</th>\n",
       "      <td>Albania</td>\n",
       "      <td>Europe</td>\n",
       "      <td>Southern Europe</td>\n",
       "      <td>73.0</td>\n",
       "      <td>NaN</td>\n",
       "      <td>85.0</td>\n",
       "      <td>87.475235</td>\n",
       "      <td>97.318069</td>\n",
       "      <td>102.212411</td>\n",
       "    </tr>\n",
       "    <tr>\n",
       "      <th>2</th>\n",
       "      <td>Algeria</td>\n",
       "      <td>Africa</td>\n",
       "      <td>Northern Africa</td>\n",
       "      <td>NaN</td>\n",
       "      <td>88.0</td>\n",
       "      <td>89.0</td>\n",
       "      <td>91.000000</td>\n",
       "      <td>NaN</td>\n",
       "      <td>NaN</td>\n",
       "    </tr>\n",
       "    <tr>\n",
       "      <th>3</th>\n",
       "      <td>Andorra</td>\n",
       "      <td>Europe</td>\n",
       "      <td>Southern Europe</td>\n",
       "      <td>NaN</td>\n",
       "      <td>NaN</td>\n",
       "      <td>NaN</td>\n",
       "      <td>NaN</td>\n",
       "      <td>NaN</td>\n",
       "      <td>NaN</td>\n",
       "    </tr>\n",
       "    <tr>\n",
       "      <th>4</th>\n",
       "      <td>Angola</td>\n",
       "      <td>Africa</td>\n",
       "      <td>Middle Africa</td>\n",
       "      <td>NaN</td>\n",
       "      <td>NaN</td>\n",
       "      <td>NaN</td>\n",
       "      <td>NaN</td>\n",
       "      <td>NaN</td>\n",
       "      <td>39.593660</td>\n",
       "    </tr>\n",
       "  </tbody>\n",
       "</table>\n",
       "</div>"
      ],
      "text/plain": [
       "       country  region       sub-region  2002  2003  2004       2005  \\\n",
       "0  Afghanistan    Asia    Southern Asia   NaN   NaN   NaN        NaN   \n",
       "1      Albania  Europe  Southern Europe  73.0   NaN  85.0  87.475235   \n",
       "2      Algeria  Africa  Northern Africa   NaN  88.0  89.0  91.000000   \n",
       "3      Andorra  Europe  Southern Europe   NaN   NaN   NaN        NaN   \n",
       "4       Angola  Africa    Middle Africa   NaN   NaN   NaN        NaN   \n",
       "\n",
       "        2006        2007  \n",
       "0        NaN   22.809539  \n",
       "1  97.318069  102.212411  \n",
       "2        NaN         NaN  \n",
       "3        NaN         NaN  \n",
       "4        NaN   39.593660  "
      ]
     },
     "execution_count": 177,
     "metadata": {},
     "output_type": "execute_result"
    }
   ],
   "source": [
    "\n",
    "df = merge_regions(regions, cars)\n",
    "df.head()"
   ]
  },
  {
   "cell_type": "code",
   "execution_count": 178,
   "metadata": {},
   "outputs": [
    {
     "data": {
      "text/plain": [
       "country       False\n",
       "region        False\n",
       "sub-region    False\n",
       "2002           True\n",
       "2003           True\n",
       "2004           True\n",
       "2005           True\n",
       "2006           True\n",
       "2007           True\n",
       "dtype: bool"
      ]
     },
     "execution_count": 178,
     "metadata": {},
     "output_type": "execute_result"
    }
   ],
   "source": [
    "df.isnull().any()"
   ]
  },
  {
   "cell_type": "code",
   "execution_count": 180,
   "metadata": {},
   "outputs": [
    {
     "data": {
      "text/html": [
       "<div>\n",
       "<style scoped>\n",
       "    .dataframe tbody tr th:only-of-type {\n",
       "        vertical-align: middle;\n",
       "    }\n",
       "\n",
       "    .dataframe tbody tr th {\n",
       "        vertical-align: top;\n",
       "    }\n",
       "\n",
       "    .dataframe thead th {\n",
       "        text-align: right;\n",
       "    }\n",
       "</style>\n",
       "<table border=\"1\" class=\"dataframe\">\n",
       "  <thead>\n",
       "    <tr style=\"text-align: right;\">\n",
       "      <th></th>\n",
       "      <th>country</th>\n",
       "      <th>region</th>\n",
       "      <th>sub-region</th>\n",
       "      <th>2002</th>\n",
       "      <th>2003</th>\n",
       "      <th>2004</th>\n",
       "      <th>2005</th>\n",
       "      <th>2006</th>\n",
       "      <th>2007</th>\n",
       "    </tr>\n",
       "  </thead>\n",
       "  <tbody>\n",
       "    <tr>\n",
       "      <th>0</th>\n",
       "      <td>Afghanistan</td>\n",
       "      <td>Asia</td>\n",
       "      <td>Southern Asia</td>\n",
       "      <td>NaN</td>\n",
       "      <td>NaN</td>\n",
       "      <td>NaN</td>\n",
       "      <td>NaN</td>\n",
       "      <td>NaN</td>\n",
       "      <td>22.809539</td>\n",
       "    </tr>\n",
       "    <tr>\n",
       "      <th>1</th>\n",
       "      <td>Albania</td>\n",
       "      <td>Europe</td>\n",
       "      <td>Southern Europe</td>\n",
       "      <td>73.0</td>\n",
       "      <td>NaN</td>\n",
       "      <td>85.0</td>\n",
       "      <td>87.475235</td>\n",
       "      <td>97.318069</td>\n",
       "      <td>102.212411</td>\n",
       "    </tr>\n",
       "    <tr>\n",
       "      <th>2</th>\n",
       "      <td>Algeria</td>\n",
       "      <td>Africa</td>\n",
       "      <td>Northern Africa</td>\n",
       "      <td>NaN</td>\n",
       "      <td>88.0</td>\n",
       "      <td>89.0</td>\n",
       "      <td>91.000000</td>\n",
       "      <td>NaN</td>\n",
       "      <td>NaN</td>\n",
       "    </tr>\n",
       "    <tr>\n",
       "      <th>3</th>\n",
       "      <td>Andorra</td>\n",
       "      <td>Europe</td>\n",
       "      <td>Southern Europe</td>\n",
       "      <td>NaN</td>\n",
       "      <td>NaN</td>\n",
       "      <td>NaN</td>\n",
       "      <td>NaN</td>\n",
       "      <td>NaN</td>\n",
       "      <td>NaN</td>\n",
       "    </tr>\n",
       "    <tr>\n",
       "      <th>4</th>\n",
       "      <td>Angola</td>\n",
       "      <td>Africa</td>\n",
       "      <td>Middle Africa</td>\n",
       "      <td>NaN</td>\n",
       "      <td>NaN</td>\n",
       "      <td>NaN</td>\n",
       "      <td>NaN</td>\n",
       "      <td>NaN</td>\n",
       "      <td>39.593660</td>\n",
       "    </tr>\n",
       "  </tbody>\n",
       "</table>\n",
       "</div>"
      ],
      "text/plain": [
       "       country  region       sub-region  2002  2003  2004       2005  \\\n",
       "0  Afghanistan    Asia    Southern Asia   NaN   NaN   NaN        NaN   \n",
       "1      Albania  Europe  Southern Europe  73.0   NaN  85.0  87.475235   \n",
       "2      Algeria  Africa  Northern Africa   NaN  88.0  89.0  91.000000   \n",
       "3      Andorra  Europe  Southern Europe   NaN   NaN   NaN        NaN   \n",
       "4       Angola  Africa    Middle Africa   NaN   NaN   NaN        NaN   \n",
       "\n",
       "        2006        2007  \n",
       "0        NaN   22.809539  \n",
       "1  97.318069  102.212411  \n",
       "2        NaN         NaN  \n",
       "3        NaN         NaN  \n",
       "4        NaN   39.593660  "
      ]
     },
     "execution_count": 180,
     "metadata": {},
     "output_type": "execute_result"
    }
   ],
   "source": [
    "df.head()"
   ]
  },
  {
   "cell_type": "markdown",
   "metadata": {},
   "source": [
    "## Any missing regions?"
   ]
  },
  {
   "cell_type": "code",
   "execution_count": 182,
   "metadata": {},
   "outputs": [
    {
     "data": {
      "text/html": [
       "<div>\n",
       "<style scoped>\n",
       "    .dataframe tbody tr th:only-of-type {\n",
       "        vertical-align: middle;\n",
       "    }\n",
       "\n",
       "    .dataframe tbody tr th {\n",
       "        vertical-align: top;\n",
       "    }\n",
       "\n",
       "    .dataframe thead th {\n",
       "        text-align: right;\n",
       "    }\n",
       "</style>\n",
       "<table border=\"1\" class=\"dataframe\">\n",
       "  <thead>\n",
       "    <tr style=\"text-align: right;\">\n",
       "      <th></th>\n",
       "      <th>country</th>\n",
       "      <th>region</th>\n",
       "      <th>sub-region</th>\n",
       "      <th>2002</th>\n",
       "      <th>2003</th>\n",
       "      <th>2004</th>\n",
       "      <th>2005</th>\n",
       "      <th>2006</th>\n",
       "      <th>2007</th>\n",
       "    </tr>\n",
       "  </thead>\n",
       "  <tbody>\n",
       "  </tbody>\n",
       "</table>\n",
       "</div>"
      ],
      "text/plain": [
       "Empty DataFrame\n",
       "Columns: [country, region, sub-region, 2002, 2003, 2004, 2005, 2006, 2007]\n",
       "Index: []"
      ]
     },
     "execution_count": 182,
     "metadata": {},
     "output_type": "execute_result"
    }
   ],
   "source": [
    "df.loc[df['region'].isnull()]"
   ]
  },
  {
   "cell_type": "code",
   "execution_count": 183,
   "metadata": {},
   "outputs": [],
   "source": [
    "# save to csv\n",
    "df.to_csv('data/cars_regions.csv', index=False)"
   ]
  },
  {
   "cell_type": "markdown",
   "metadata": {},
   "source": [
    "## Visualize"
   ]
  },
  {
   "cell_type": "code",
   "execution_count": 184,
   "metadata": {},
   "outputs": [],
   "source": [
    "cars_eur = df.loc[df['region'] == 'Europe']"
   ]
  },
  {
   "cell_type": "code",
   "execution_count": 185,
   "metadata": {},
   "outputs": [],
   "source": [
    "# reshape df for plotting\n",
    "\n",
    "def prep_for_plotly(df):\n",
    "    #df = df.reset_index()\n",
    "    df = df.set_index(['region', 'sub-region', 'country'])\n",
    "    df = df.sort_index(level = 0)\n",
    "    df = df.T.unstack(level = 1)\n",
    "    df = pd.DataFrame(df)\n",
    "    df = df.reset_index()\n",
    "    df = df.rename(columns={'level_3': 'year', 0: 'value'})\n",
    "    df = df.set_index('year')\n",
    "    df = df.reset_index()\n",
    "    return df"
   ]
  },
  {
   "cell_type": "code",
   "execution_count": 186,
   "metadata": {},
   "outputs": [],
   "source": [
    "df = prep_for_plotly(cars_eur)"
   ]
  },
  {
   "cell_type": "code",
   "execution_count": 188,
   "metadata": {},
   "outputs": [],
   "source": [
    "# make interactive\n",
    "import plotly as py\n",
    "import cufflinks as cf\n",
    "import plotly.tools as tls\n",
    "#tls.embed('https://plot.ly/~cufflinks/8')"
   ]
  },
  {
   "cell_type": "code",
   "execution_count": 189,
   "metadata": {},
   "outputs": [
    {
     "name": "stdout",
     "output_type": "stream",
     "text": [
      "country     Belarus    Bulgaria     Hungary     Moldova      Poland  \\\n",
      "year                                                                  \n",
      "2002            NaN  325.000000  300.000000   81.000000  347.000000   \n",
      "2003            NaN  338.000000  316.000000   78.000000  357.000000   \n",
      "2004            NaN  360.000000         NaN   87.000000  386.000000   \n",
      "2005            NaN         NaN         NaN   94.000000  386.000000   \n",
      "2006            NaN         NaN  373.970001         NaN  416.282989   \n",
      "2007     282.254561  295.135046  383.854674  119.585278  451.118058   \n",
      "\n",
      "country     Romania      Russia  Slovak Republic     Ukraine  \n",
      "year                                                          \n",
      "2002            NaN         NaN       280.000000  135.000000  \n",
      "2003     177.000000         NaN       288.000000  139.000000  \n",
      "2004     185.000000         NaN       256.000000  125.000000  \n",
      "2005     180.491013         NaN              NaN  128.000000  \n",
      "2006            NaN  228.399994       287.130005         NaN  \n",
      "2007            NaN  245.179451       281.549100  140.435031  \n"
     ]
    }
   ],
   "source": [
    "for sub in df['sub-region']:\n",
    "    sub_df = df.loc[df['sub-region']==sub].pivot('year', 'country', 'value')\n",
    "    print sub_df\n",
    "    break"
   ]
  },
  {
   "cell_type": "code",
   "execution_count": 190,
   "metadata": {
    "scrolled": false
   },
   "outputs": [
    {
     "data": {
      "application/vnd.plotly.v1+json": {
       "data": [
        {
         "line": {
          "color": "rgba(226, 74, 51, 1.0)",
          "dash": "solid",
          "width": 1.3
         },
         "mode": "lines",
         "name": "Belarus",
         "text": "",
         "type": "scatter",
         "x": [
          2002,
          2003,
          2004,
          2005,
          2006,
          2007
         ],
         "y": [
          "",
          "",
          "",
          "",
          "",
          282.2545609
         ]
        },
        {
         "line": {
          "color": "rgba(62, 111, 176, 1.0)",
          "dash": "solid",
          "width": 1.3
         },
         "mode": "lines",
         "name": "Bulgaria",
         "text": "",
         "type": "scatter",
         "x": [
          2002,
          2003,
          2004,
          2005,
          2006,
          2007
         ],
         "y": [
          325,
          338,
          360,
          "",
          "",
          295.1350459
         ]
        },
        {
         "line": {
          "color": "rgba(132, 118, 202, 1.0)",
          "dash": "solid",
          "width": 1.3
         },
         "mode": "lines",
         "name": "Hungary",
         "text": "",
         "type": "scatter",
         "x": [
          2002,
          2003,
          2004,
          2005,
          2006,
          2007
         ],
         "y": [
          300,
          316,
          "",
          "",
          373.9700012,
          383.8546741
         ]
        },
        {
         "line": {
          "color": "rgba(101, 101, 101, 1.0)",
          "dash": "solid",
          "width": 1.3
         },
         "mode": "lines",
         "name": "Moldova",
         "text": "",
         "type": "scatter",
         "x": [
          2002,
          2003,
          2004,
          2005,
          2006,
          2007
         ],
         "y": [
          81,
          78,
          87,
          94,
          "",
          119.5852779
         ]
        },
        {
         "line": {
          "color": "rgba(251, 193, 94, 1.0)",
          "dash": "solid",
          "width": 1.3
         },
         "mode": "lines",
         "name": "Poland",
         "text": "",
         "type": "scatter",
         "x": [
          2002,
          2003,
          2004,
          2005,
          2006,
          2007
         ],
         "y": [
          347,
          357,
          386,
          386,
          416.2829895,
          451.1180581
         ]
        },
        {
         "line": {
          "color": "rgba(142, 186, 66, 1.0)",
          "dash": "solid",
          "width": 1.3
         },
         "mode": "lines",
         "name": "Romania",
         "text": "",
         "type": "scatter",
         "x": [
          2002,
          2003,
          2004,
          2005,
          2006,
          2007
         ],
         "y": [
          "",
          177,
          185,
          180.4910126,
          "",
          ""
         ]
        },
        {
         "line": {
          "color": "rgba(255, 181, 184, 1.0)",
          "dash": "solid",
          "width": 1.3
         },
         "mode": "lines",
         "name": "Russia",
         "text": "",
         "type": "scatter",
         "x": [
          2002,
          2003,
          2004,
          2005,
          2006,
          2007
         ],
         "y": [
          "",
          "",
          "",
          "",
          228.3999939,
          245.1794511
         ]
        },
        {
         "line": {
          "color": "rgba(255, 181, 184, 0.8999999999999999)",
          "dash": "solid",
          "width": 1.3
         },
         "mode": "lines",
         "name": "Slovak Republic",
         "text": "",
         "type": "scatter",
         "x": [
          2002,
          2003,
          2004,
          2005,
          2006,
          2007
         ],
         "y": [
          280,
          288,
          256,
          "",
          287.1300049,
          281.5490999
         ]
        },
        {
         "line": {
          "color": "rgba(226, 74, 51, 0.8999999999999999)",
          "dash": "solid",
          "width": 1.3
         },
         "mode": "lines",
         "name": "Ukraine",
         "text": "",
         "type": "scatter",
         "x": [
          2002,
          2003,
          2004,
          2005,
          2006,
          2007
         ],
         "y": [
          135,
          139,
          125,
          128,
          "",
          140.4350308
         ]
        }
       ],
       "layout": {
        "legend": {
         "bgcolor": "#FFFFFF",
         "font": {
          "color": "#666666"
         }
        },
        "paper_bgcolor": "#FFFFFF",
        "plot_bgcolor": "#E5E5E5",
        "title": "Eastern Europe",
        "titlefont": {
         "color": "#151516"
        },
        "xaxis1": {
         "gridcolor": "#F6F6F6",
         "showgrid": true,
         "tickfont": {
          "color": "#666666"
         },
         "title": "",
         "titlefont": {
          "color": "#666666"
         },
         "zerolinecolor": "#F6F6F6"
        },
        "yaxis1": {
         "gridcolor": "#F6F6F6",
         "showgrid": true,
         "tickfont": {
          "color": "#666666"
         },
         "title": "Metric tons per person",
         "titlefont": {
          "color": "#666666"
         },
         "zerolinecolor": "#F6F6F6"
        }
       }
      },
      "text/html": [
       "<div id=\"983c34e6-1161-4ffc-a764-1f9c4266b7da\" style=\"height: 525px; width: 100%;\" class=\"plotly-graph-div\"></div><script type=\"text/javascript\">require([\"plotly\"], function(Plotly) { window.PLOTLYENV=window.PLOTLYENV || {};window.PLOTLYENV.BASE_URL=\"https://plot.ly\";Plotly.newPlot(\"983c34e6-1161-4ffc-a764-1f9c4266b7da\", [{\"name\": \"Belarus\", \"text\": \"\", \"mode\": \"lines\", \"y\": [\"\", \"\", \"\", \"\", \"\", 282.2545609], \"x\": [2002, 2003, 2004, 2005, 2006, 2007], \"line\": {\"color\": \"rgba(226, 74, 51, 1.0)\", \"width\": 1.3, \"dash\": \"solid\"}, \"type\": \"scatter\"}, {\"name\": \"Bulgaria\", \"text\": \"\", \"mode\": \"lines\", \"y\": [325.0, 338.0, 360.0, \"\", \"\", 295.1350459], \"x\": [2002, 2003, 2004, 2005, 2006, 2007], \"line\": {\"color\": \"rgba(62, 111, 176, 1.0)\", \"width\": 1.3, \"dash\": \"solid\"}, \"type\": \"scatter\"}, {\"name\": \"Hungary\", \"text\": \"\", \"mode\": \"lines\", \"y\": [300.0, 316.0, \"\", \"\", 373.9700012, 383.8546741], \"x\": [2002, 2003, 2004, 2005, 2006, 2007], \"line\": {\"color\": \"rgba(132, 118, 202, 1.0)\", \"width\": 1.3, \"dash\": \"solid\"}, \"type\": \"scatter\"}, {\"name\": \"Moldova\", \"text\": \"\", \"mode\": \"lines\", \"y\": [81.0, 78.0, 87.0, 94.0, \"\", 119.5852779], \"x\": [2002, 2003, 2004, 2005, 2006, 2007], \"line\": {\"color\": \"rgba(101, 101, 101, 1.0)\", \"width\": 1.3, \"dash\": \"solid\"}, \"type\": \"scatter\"}, {\"name\": \"Poland\", \"text\": \"\", \"mode\": \"lines\", \"y\": [347.0, 357.0, 386.0, 386.0, 416.2829895, 451.1180581], \"x\": [2002, 2003, 2004, 2005, 2006, 2007], \"line\": {\"color\": \"rgba(251, 193, 94, 1.0)\", \"width\": 1.3, \"dash\": \"solid\"}, \"type\": \"scatter\"}, {\"name\": \"Romania\", \"text\": \"\", \"mode\": \"lines\", \"y\": [\"\", 177.0, 185.0, 180.4910126, \"\", \"\"], \"x\": [2002, 2003, 2004, 2005, 2006, 2007], \"line\": {\"color\": \"rgba(142, 186, 66, 1.0)\", \"width\": 1.3, \"dash\": \"solid\"}, \"type\": \"scatter\"}, {\"name\": \"Russia\", \"text\": \"\", \"mode\": \"lines\", \"y\": [\"\", \"\", \"\", \"\", 228.3999939, 245.1794511], \"x\": [2002, 2003, 2004, 2005, 2006, 2007], \"line\": {\"color\": \"rgba(255, 181, 184, 1.0)\", \"width\": 1.3, \"dash\": \"solid\"}, \"type\": \"scatter\"}, {\"name\": \"Slovak Republic\", \"text\": \"\", \"mode\": \"lines\", \"y\": [280.0, 288.0, 256.0, \"\", 287.1300049, 281.5490999], \"x\": [2002, 2003, 2004, 2005, 2006, 2007], \"line\": {\"color\": \"rgba(255, 181, 184, 0.8999999999999999)\", \"width\": 1.3, \"dash\": \"solid\"}, \"type\": \"scatter\"}, {\"name\": \"Ukraine\", \"text\": \"\", \"mode\": \"lines\", \"y\": [135.0, 139.0, 125.0, 128.0, \"\", 140.4350308], \"x\": [2002, 2003, 2004, 2005, 2006, 2007], \"line\": {\"color\": \"rgba(226, 74, 51, 0.8999999999999999)\", \"width\": 1.3, \"dash\": \"solid\"}, \"type\": \"scatter\"}], {\"title\": \"Eastern Europe\", \"paper_bgcolor\": \"#FFFFFF\", \"plot_bgcolor\": \"#E5E5E5\", \"xaxis1\": {\"tickfont\": {\"color\": \"#666666\"}, \"title\": \"\", \"showgrid\": true, \"zerolinecolor\": \"#F6F6F6\", \"gridcolor\": \"#F6F6F6\", \"titlefont\": {\"color\": \"#666666\"}}, \"yaxis1\": {\"tickfont\": {\"color\": \"#666666\"}, \"title\": \"Metric tons per person\", \"showgrid\": true, \"zerolinecolor\": \"#F6F6F6\", \"gridcolor\": \"#F6F6F6\", \"titlefont\": {\"color\": \"#666666\"}}, \"titlefont\": {\"color\": \"#151516\"}, \"legend\": {\"bgcolor\": \"#FFFFFF\", \"font\": {\"color\": \"#666666\"}}}, {\"linkText\": \"Export to plot.ly\", \"showLink\": true})});</script>"
      ],
      "text/vnd.plotly.v1+html": [
       "<div id=\"983c34e6-1161-4ffc-a764-1f9c4266b7da\" style=\"height: 525px; width: 100%;\" class=\"plotly-graph-div\"></div><script type=\"text/javascript\">require([\"plotly\"], function(Plotly) { window.PLOTLYENV=window.PLOTLYENV || {};window.PLOTLYENV.BASE_URL=\"https://plot.ly\";Plotly.newPlot(\"983c34e6-1161-4ffc-a764-1f9c4266b7da\", [{\"name\": \"Belarus\", \"text\": \"\", \"mode\": \"lines\", \"y\": [\"\", \"\", \"\", \"\", \"\", 282.2545609], \"x\": [2002, 2003, 2004, 2005, 2006, 2007], \"line\": {\"color\": \"rgba(226, 74, 51, 1.0)\", \"width\": 1.3, \"dash\": \"solid\"}, \"type\": \"scatter\"}, {\"name\": \"Bulgaria\", \"text\": \"\", \"mode\": \"lines\", \"y\": [325.0, 338.0, 360.0, \"\", \"\", 295.1350459], \"x\": [2002, 2003, 2004, 2005, 2006, 2007], \"line\": {\"color\": \"rgba(62, 111, 176, 1.0)\", \"width\": 1.3, \"dash\": \"solid\"}, \"type\": \"scatter\"}, {\"name\": \"Hungary\", \"text\": \"\", \"mode\": \"lines\", \"y\": [300.0, 316.0, \"\", \"\", 373.9700012, 383.8546741], \"x\": [2002, 2003, 2004, 2005, 2006, 2007], \"line\": {\"color\": \"rgba(132, 118, 202, 1.0)\", \"width\": 1.3, \"dash\": \"solid\"}, \"type\": \"scatter\"}, {\"name\": \"Moldova\", \"text\": \"\", \"mode\": \"lines\", \"y\": [81.0, 78.0, 87.0, 94.0, \"\", 119.5852779], \"x\": [2002, 2003, 2004, 2005, 2006, 2007], \"line\": {\"color\": \"rgba(101, 101, 101, 1.0)\", \"width\": 1.3, \"dash\": \"solid\"}, \"type\": \"scatter\"}, {\"name\": \"Poland\", \"text\": \"\", \"mode\": \"lines\", \"y\": [347.0, 357.0, 386.0, 386.0, 416.2829895, 451.1180581], \"x\": [2002, 2003, 2004, 2005, 2006, 2007], \"line\": {\"color\": \"rgba(251, 193, 94, 1.0)\", \"width\": 1.3, \"dash\": \"solid\"}, \"type\": \"scatter\"}, {\"name\": \"Romania\", \"text\": \"\", \"mode\": \"lines\", \"y\": [\"\", 177.0, 185.0, 180.4910126, \"\", \"\"], \"x\": [2002, 2003, 2004, 2005, 2006, 2007], \"line\": {\"color\": \"rgba(142, 186, 66, 1.0)\", \"width\": 1.3, \"dash\": \"solid\"}, \"type\": \"scatter\"}, {\"name\": \"Russia\", \"text\": \"\", \"mode\": \"lines\", \"y\": [\"\", \"\", \"\", \"\", 228.3999939, 245.1794511], \"x\": [2002, 2003, 2004, 2005, 2006, 2007], \"line\": {\"color\": \"rgba(255, 181, 184, 1.0)\", \"width\": 1.3, \"dash\": \"solid\"}, \"type\": \"scatter\"}, {\"name\": \"Slovak Republic\", \"text\": \"\", \"mode\": \"lines\", \"y\": [280.0, 288.0, 256.0, \"\", 287.1300049, 281.5490999], \"x\": [2002, 2003, 2004, 2005, 2006, 2007], \"line\": {\"color\": \"rgba(255, 181, 184, 0.8999999999999999)\", \"width\": 1.3, \"dash\": \"solid\"}, \"type\": \"scatter\"}, {\"name\": \"Ukraine\", \"text\": \"\", \"mode\": \"lines\", \"y\": [135.0, 139.0, 125.0, 128.0, \"\", 140.4350308], \"x\": [2002, 2003, 2004, 2005, 2006, 2007], \"line\": {\"color\": \"rgba(226, 74, 51, 0.8999999999999999)\", \"width\": 1.3, \"dash\": \"solid\"}, \"type\": \"scatter\"}], {\"title\": \"Eastern Europe\", \"paper_bgcolor\": \"#FFFFFF\", \"plot_bgcolor\": \"#E5E5E5\", \"xaxis1\": {\"tickfont\": {\"color\": \"#666666\"}, \"title\": \"\", \"showgrid\": true, \"zerolinecolor\": \"#F6F6F6\", \"gridcolor\": \"#F6F6F6\", \"titlefont\": {\"color\": \"#666666\"}}, \"yaxis1\": {\"tickfont\": {\"color\": \"#666666\"}, \"title\": \"Metric tons per person\", \"showgrid\": true, \"zerolinecolor\": \"#F6F6F6\", \"gridcolor\": \"#F6F6F6\", \"titlefont\": {\"color\": \"#666666\"}}, \"titlefont\": {\"color\": \"#151516\"}, \"legend\": {\"bgcolor\": \"#FFFFFF\", \"font\": {\"color\": \"#666666\"}}}, {\"linkText\": \"Export to plot.ly\", \"showLink\": true})});</script>"
      ]
     },
     "metadata": {},
     "output_type": "display_data"
    },
    {
     "data": {
      "application/vnd.plotly.v1+json": {
       "data": [
        {
         "line": {
          "color": "rgba(226, 74, 51, 1.0)",
          "dash": "solid",
          "width": 1.3
         },
         "mode": "lines",
         "name": "Denmark",
         "text": "",
         "type": "scatter",
         "x": [
          2002,
          2003,
          2004,
          2005,
          2006,
          2007
         ],
         "y": [
          424,
          "",
          430,
          437,
          "",
          465.6903548
         ]
        },
        {
         "line": {
          "color": "rgba(62, 111, 176, 1.0)",
          "dash": "solid",
          "width": 1.3
         },
         "mode": "lines",
         "name": "Estonia",
         "text": "",
         "type": "scatter",
         "x": [
          2002,
          2003,
          2004,
          2005,
          2006,
          2007
         ],
         "y": [
          358,
          427,
          459,
          477,
          "",
          444.3627056
         ]
        },
        {
         "line": {
          "color": "rgba(132, 118, 202, 1.0)",
          "dash": "solid",
          "width": 1.3
         },
         "mode": "lines",
         "name": "Faeroe Islands",
         "text": "",
         "type": "scatter",
         "x": [
          2002,
          2003,
          2004,
          2005,
          2006,
          2007
         ],
         "y": [
          "",
          "",
          "",
          "",
          "",
          ""
         ]
        },
        {
         "line": {
          "color": "rgba(101, 101, 101, 1.0)",
          "dash": "solid",
          "width": 1.3
         },
         "mode": "lines",
         "name": "Finland",
         "text": "",
         "type": "scatter",
         "x": [
          2002,
          2003,
          2004,
          2005,
          2006,
          2007
         ],
         "y": [
          "",
          497,
          515,
          531,
          542.0300293,
          558.8993178
         ]
        },
        {
         "line": {
          "color": "rgba(251, 193, 94, 1.0)",
          "dash": "solid",
          "width": 1.3
         },
         "mode": "lines",
         "name": "Iceland",
         "text": "",
         "type": "scatter",
         "x": [
          2002,
          2003,
          2004,
          2005,
          2006,
          2007
         ],
         "y": [
          638,
          656,
          685,
          724,
          "",
          773.4833455
         ]
        },
        {
         "line": {
          "color": "rgba(142, 186, 66, 1.0)",
          "dash": "solid",
          "width": 1.3
         },
         "mode": "lines",
         "name": "Ireland",
         "text": "",
         "type": "scatter",
         "x": [
          2002,
          2003,
          2004,
          2005,
          2006,
          2007
         ],
         "y": [
          436,
          447,
          "",
          "",
          "",
          536.8793821
         ]
        },
        {
         "line": {
          "color": "rgba(255, 181, 184, 1.0)",
          "dash": "solid",
          "width": 1.3
         },
         "mode": "lines",
         "name": "Latvia",
         "text": "",
         "type": "scatter",
         "x": [
          2002,
          2003,
          2004,
          2005,
          2006,
          2007
         ],
         "y": [
          339,
          329,
          348,
          377,
          414.678009,
          459.1656781
         ]
        },
        {
         "line": {
          "color": "rgba(255, 181, 184, 0.8999999999999999)",
          "dash": "solid",
          "width": 1.3
         },
         "mode": "lines",
         "name": "Lithuania",
         "text": "",
         "type": "scatter",
         "x": [
          2002,
          2003,
          2004,
          2005,
          2006,
          2007
         ],
         "y": [
          375,
          401,
          421,
          467,
          512.7700195,
          479
         ]
        },
        {
         "line": {
          "color": "rgba(226, 74, 51, 0.8999999999999999)",
          "dash": "solid",
          "width": 1.3
         },
         "mode": "lines",
         "name": "Norway",
         "text": "",
         "type": "scatter",
         "x": [
          2002,
          2003,
          2004,
          2005,
          2006,
          2007
         ],
         "y": [
          521,
          525,
          535,
          546,
          "",
          571.8782125
         ]
        },
        {
         "line": {
          "color": "rgba(62, 111, 176, 0.8999999999999999)",
          "dash": "solid",
          "width": 1.3
         },
         "mode": "lines",
         "name": "Sweden",
         "text": "",
         "type": "scatter",
         "x": [
          2002,
          2003,
          2004,
          2005,
          2006,
          2007
         ],
         "y": [
          501,
          "",
          508,
          513,
          516.0300293,
          522.6349932
         ]
        },
        {
         "line": {
          "color": "rgba(132, 118, 202, 0.8999999999999999)",
          "dash": "solid",
          "width": 1.3
         },
         "mode": "lines",
         "name": "United Kingdom",
         "text": "",
         "type": "scatter",
         "x": [
          2002,
          2003,
          2004,
          2005,
          2006,
          2007
         ],
         "y": [
          505,
          496,
          510,
          517,
          "",
          526.611374
         ]
        }
       ],
       "layout": {
        "legend": {
         "bgcolor": "#FFFFFF",
         "font": {
          "color": "#666666"
         }
        },
        "paper_bgcolor": "#FFFFFF",
        "plot_bgcolor": "#E5E5E5",
        "title": "Northern Europe",
        "titlefont": {
         "color": "#151516"
        },
        "xaxis1": {
         "gridcolor": "#F6F6F6",
         "showgrid": true,
         "tickfont": {
          "color": "#666666"
         },
         "title": "",
         "titlefont": {
          "color": "#666666"
         },
         "zerolinecolor": "#F6F6F6"
        },
        "yaxis1": {
         "gridcolor": "#F6F6F6",
         "showgrid": true,
         "tickfont": {
          "color": "#666666"
         },
         "title": "Metric tons per person",
         "titlefont": {
          "color": "#666666"
         },
         "zerolinecolor": "#F6F6F6"
        }
       }
      },
      "text/html": [
       "<div id=\"700d6bc3-9367-4e78-8359-1714106be4ac\" style=\"height: 525px; width: 100%;\" class=\"plotly-graph-div\"></div><script type=\"text/javascript\">require([\"plotly\"], function(Plotly) { window.PLOTLYENV=window.PLOTLYENV || {};window.PLOTLYENV.BASE_URL=\"https://plot.ly\";Plotly.newPlot(\"700d6bc3-9367-4e78-8359-1714106be4ac\", [{\"name\": \"Denmark\", \"text\": \"\", \"mode\": \"lines\", \"y\": [424.0, \"\", 430.0, 437.0, \"\", 465.6903548], \"x\": [2002, 2003, 2004, 2005, 2006, 2007], \"line\": {\"color\": \"rgba(226, 74, 51, 1.0)\", \"width\": 1.3, \"dash\": \"solid\"}, \"type\": \"scatter\"}, {\"name\": \"Estonia\", \"text\": \"\", \"mode\": \"lines\", \"y\": [358.0, 427.0, 459.0, 477.0, \"\", 444.3627056], \"x\": [2002, 2003, 2004, 2005, 2006, 2007], \"line\": {\"color\": \"rgba(62, 111, 176, 1.0)\", \"width\": 1.3, \"dash\": \"solid\"}, \"type\": \"scatter\"}, {\"name\": \"Faeroe Islands\", \"text\": \"\", \"mode\": \"lines\", \"y\": [\"\", \"\", \"\", \"\", \"\", \"\"], \"x\": [2002, 2003, 2004, 2005, 2006, 2007], \"line\": {\"color\": \"rgba(132, 118, 202, 1.0)\", \"width\": 1.3, \"dash\": \"solid\"}, \"type\": \"scatter\"}, {\"name\": \"Finland\", \"text\": \"\", \"mode\": \"lines\", \"y\": [\"\", 497.0, 515.0, 531.0, 542.0300293, 558.8993178], \"x\": [2002, 2003, 2004, 2005, 2006, 2007], \"line\": {\"color\": \"rgba(101, 101, 101, 1.0)\", \"width\": 1.3, \"dash\": \"solid\"}, \"type\": \"scatter\"}, {\"name\": \"Iceland\", \"text\": \"\", \"mode\": \"lines\", \"y\": [638.0, 656.0, 685.0, 724.0, \"\", 773.4833455], \"x\": [2002, 2003, 2004, 2005, 2006, 2007], \"line\": {\"color\": \"rgba(251, 193, 94, 1.0)\", \"width\": 1.3, \"dash\": \"solid\"}, \"type\": \"scatter\"}, {\"name\": \"Ireland\", \"text\": \"\", \"mode\": \"lines\", \"y\": [436.0, 447.0, \"\", \"\", \"\", 536.8793821], \"x\": [2002, 2003, 2004, 2005, 2006, 2007], \"line\": {\"color\": \"rgba(142, 186, 66, 1.0)\", \"width\": 1.3, \"dash\": \"solid\"}, \"type\": \"scatter\"}, {\"name\": \"Latvia\", \"text\": \"\", \"mode\": \"lines\", \"y\": [339.0, 329.0, 348.0, 377.0, 414.678009, 459.1656781], \"x\": [2002, 2003, 2004, 2005, 2006, 2007], \"line\": {\"color\": \"rgba(255, 181, 184, 1.0)\", \"width\": 1.3, \"dash\": \"solid\"}, \"type\": \"scatter\"}, {\"name\": \"Lithuania\", \"text\": \"\", \"mode\": \"lines\", \"y\": [375.0, 401.0, 421.0, 467.0, 512.7700195, 479.0], \"x\": [2002, 2003, 2004, 2005, 2006, 2007], \"line\": {\"color\": \"rgba(255, 181, 184, 0.8999999999999999)\", \"width\": 1.3, \"dash\": \"solid\"}, \"type\": \"scatter\"}, {\"name\": \"Norway\", \"text\": \"\", \"mode\": \"lines\", \"y\": [521.0, 525.0, 535.0, 546.0, \"\", 571.8782125], \"x\": [2002, 2003, 2004, 2005, 2006, 2007], \"line\": {\"color\": \"rgba(226, 74, 51, 0.8999999999999999)\", \"width\": 1.3, \"dash\": \"solid\"}, \"type\": \"scatter\"}, {\"name\": \"Sweden\", \"text\": \"\", \"mode\": \"lines\", \"y\": [501.0, \"\", 508.0, 513.0, 516.0300293, 522.6349932], \"x\": [2002, 2003, 2004, 2005, 2006, 2007], \"line\": {\"color\": \"rgba(62, 111, 176, 0.8999999999999999)\", \"width\": 1.3, \"dash\": \"solid\"}, \"type\": \"scatter\"}, {\"name\": \"United Kingdom\", \"text\": \"\", \"mode\": \"lines\", \"y\": [505.0, 496.0, 510.0, 517.0, \"\", 526.611374], \"x\": [2002, 2003, 2004, 2005, 2006, 2007], \"line\": {\"color\": \"rgba(132, 118, 202, 0.8999999999999999)\", \"width\": 1.3, \"dash\": \"solid\"}, \"type\": \"scatter\"}], {\"title\": \"Northern Europe\", \"paper_bgcolor\": \"#FFFFFF\", \"plot_bgcolor\": \"#E5E5E5\", \"xaxis1\": {\"tickfont\": {\"color\": \"#666666\"}, \"title\": \"\", \"showgrid\": true, \"zerolinecolor\": \"#F6F6F6\", \"gridcolor\": \"#F6F6F6\", \"titlefont\": {\"color\": \"#666666\"}}, \"yaxis1\": {\"tickfont\": {\"color\": \"#666666\"}, \"title\": \"Metric tons per person\", \"showgrid\": true, \"zerolinecolor\": \"#F6F6F6\", \"gridcolor\": \"#F6F6F6\", \"titlefont\": {\"color\": \"#666666\"}}, \"titlefont\": {\"color\": \"#151516\"}, \"legend\": {\"bgcolor\": \"#FFFFFF\", \"font\": {\"color\": \"#666666\"}}}, {\"linkText\": \"Export to plot.ly\", \"showLink\": true})});</script>"
      ],
      "text/vnd.plotly.v1+html": [
       "<div id=\"700d6bc3-9367-4e78-8359-1714106be4ac\" style=\"height: 525px; width: 100%;\" class=\"plotly-graph-div\"></div><script type=\"text/javascript\">require([\"plotly\"], function(Plotly) { window.PLOTLYENV=window.PLOTLYENV || {};window.PLOTLYENV.BASE_URL=\"https://plot.ly\";Plotly.newPlot(\"700d6bc3-9367-4e78-8359-1714106be4ac\", [{\"name\": \"Denmark\", \"text\": \"\", \"mode\": \"lines\", \"y\": [424.0, \"\", 430.0, 437.0, \"\", 465.6903548], \"x\": [2002, 2003, 2004, 2005, 2006, 2007], \"line\": {\"color\": \"rgba(226, 74, 51, 1.0)\", \"width\": 1.3, \"dash\": \"solid\"}, \"type\": \"scatter\"}, {\"name\": \"Estonia\", \"text\": \"\", \"mode\": \"lines\", \"y\": [358.0, 427.0, 459.0, 477.0, \"\", 444.3627056], \"x\": [2002, 2003, 2004, 2005, 2006, 2007], \"line\": {\"color\": \"rgba(62, 111, 176, 1.0)\", \"width\": 1.3, \"dash\": \"solid\"}, \"type\": \"scatter\"}, {\"name\": \"Faeroe Islands\", \"text\": \"\", \"mode\": \"lines\", \"y\": [\"\", \"\", \"\", \"\", \"\", \"\"], \"x\": [2002, 2003, 2004, 2005, 2006, 2007], \"line\": {\"color\": \"rgba(132, 118, 202, 1.0)\", \"width\": 1.3, \"dash\": \"solid\"}, \"type\": \"scatter\"}, {\"name\": \"Finland\", \"text\": \"\", \"mode\": \"lines\", \"y\": [\"\", 497.0, 515.0, 531.0, 542.0300293, 558.8993178], \"x\": [2002, 2003, 2004, 2005, 2006, 2007], \"line\": {\"color\": \"rgba(101, 101, 101, 1.0)\", \"width\": 1.3, \"dash\": \"solid\"}, \"type\": \"scatter\"}, {\"name\": \"Iceland\", \"text\": \"\", \"mode\": \"lines\", \"y\": [638.0, 656.0, 685.0, 724.0, \"\", 773.4833455], \"x\": [2002, 2003, 2004, 2005, 2006, 2007], \"line\": {\"color\": \"rgba(251, 193, 94, 1.0)\", \"width\": 1.3, \"dash\": \"solid\"}, \"type\": \"scatter\"}, {\"name\": \"Ireland\", \"text\": \"\", \"mode\": \"lines\", \"y\": [436.0, 447.0, \"\", \"\", \"\", 536.8793821], \"x\": [2002, 2003, 2004, 2005, 2006, 2007], \"line\": {\"color\": \"rgba(142, 186, 66, 1.0)\", \"width\": 1.3, \"dash\": \"solid\"}, \"type\": \"scatter\"}, {\"name\": \"Latvia\", \"text\": \"\", \"mode\": \"lines\", \"y\": [339.0, 329.0, 348.0, 377.0, 414.678009, 459.1656781], \"x\": [2002, 2003, 2004, 2005, 2006, 2007], \"line\": {\"color\": \"rgba(255, 181, 184, 1.0)\", \"width\": 1.3, \"dash\": \"solid\"}, \"type\": \"scatter\"}, {\"name\": \"Lithuania\", \"text\": \"\", \"mode\": \"lines\", \"y\": [375.0, 401.0, 421.0, 467.0, 512.7700195, 479.0], \"x\": [2002, 2003, 2004, 2005, 2006, 2007], \"line\": {\"color\": \"rgba(255, 181, 184, 0.8999999999999999)\", \"width\": 1.3, \"dash\": \"solid\"}, \"type\": \"scatter\"}, {\"name\": \"Norway\", \"text\": \"\", \"mode\": \"lines\", \"y\": [521.0, 525.0, 535.0, 546.0, \"\", 571.8782125], \"x\": [2002, 2003, 2004, 2005, 2006, 2007], \"line\": {\"color\": \"rgba(226, 74, 51, 0.8999999999999999)\", \"width\": 1.3, \"dash\": \"solid\"}, \"type\": \"scatter\"}, {\"name\": \"Sweden\", \"text\": \"\", \"mode\": \"lines\", \"y\": [501.0, \"\", 508.0, 513.0, 516.0300293, 522.6349932], \"x\": [2002, 2003, 2004, 2005, 2006, 2007], \"line\": {\"color\": \"rgba(62, 111, 176, 0.8999999999999999)\", \"width\": 1.3, \"dash\": \"solid\"}, \"type\": \"scatter\"}, {\"name\": \"United Kingdom\", \"text\": \"\", \"mode\": \"lines\", \"y\": [505.0, 496.0, 510.0, 517.0, \"\", 526.611374], \"x\": [2002, 2003, 2004, 2005, 2006, 2007], \"line\": {\"color\": \"rgba(132, 118, 202, 0.8999999999999999)\", \"width\": 1.3, \"dash\": \"solid\"}, \"type\": \"scatter\"}], {\"title\": \"Northern Europe\", \"paper_bgcolor\": \"#FFFFFF\", \"plot_bgcolor\": \"#E5E5E5\", \"xaxis1\": {\"tickfont\": {\"color\": \"#666666\"}, \"title\": \"\", \"showgrid\": true, \"zerolinecolor\": \"#F6F6F6\", \"gridcolor\": \"#F6F6F6\", \"titlefont\": {\"color\": \"#666666\"}}, \"yaxis1\": {\"tickfont\": {\"color\": \"#666666\"}, \"title\": \"Metric tons per person\", \"showgrid\": true, \"zerolinecolor\": \"#F6F6F6\", \"gridcolor\": \"#F6F6F6\", \"titlefont\": {\"color\": \"#666666\"}}, \"titlefont\": {\"color\": \"#151516\"}, \"legend\": {\"bgcolor\": \"#FFFFFF\", \"font\": {\"color\": \"#666666\"}}}, {\"linkText\": \"Export to plot.ly\", \"showLink\": true})});</script>"
      ]
     },
     "metadata": {},
     "output_type": "display_data"
    },
    {
     "data": {
      "application/vnd.plotly.v1+json": {
       "data": [
        {
         "line": {
          "color": "rgba(226, 74, 51, 1.0)",
          "dash": "solid",
          "width": 1.3
         },
         "mode": "lines",
         "name": "Albania",
         "text": "",
         "type": "scatter",
         "x": [
          2002,
          2003,
          2004,
          2005,
          2006,
          2007
         ],
         "y": [
          73,
          "",
          85,
          87.475235,
          97.3180695,
          102.2124108
         ]
        },
        {
         "line": {
          "color": "rgba(62, 111, 176, 1.0)",
          "dash": "solid",
          "width": 1.3
         },
         "mode": "lines",
         "name": "Andorra",
         "text": "",
         "type": "scatter",
         "x": [
          2002,
          2003,
          2004,
          2005,
          2006,
          2007
         ],
         "y": [
          "",
          "",
          "",
          "",
          "",
          ""
         ]
        },
        {
         "line": {
          "color": "rgba(132, 118, 202, 1.0)",
          "dash": "solid",
          "width": 1.3
         },
         "mode": "lines",
         "name": "Bosnia and Herzegovina",
         "text": "",
         "type": "scatter",
         "x": [
          2002,
          2003,
          2004,
          2005,
          2006,
          2007
         ],
         "y": [
          "",
          "",
          "",
          "",
          "",
          169.9750779
         ]
        },
        {
         "line": {
          "color": "rgba(101, 101, 101, 1.0)",
          "dash": "solid",
          "width": 1.3
         },
         "mode": "lines",
         "name": "Croatia",
         "text": "",
         "type": "scatter",
         "x": [
          2002,
          2003,
          2004,
          2005,
          2006,
          2007
         ],
         "y": [
          313,
          356,
          337,
          349,
          365.9979858,
          377.1144698
         ]
        },
        {
         "line": {
          "color": "rgba(251, 193, 94, 1.0)",
          "dash": "solid",
          "width": 1.3
         },
         "mode": "lines",
         "name": "Gibraltar",
         "text": "",
         "type": "scatter",
         "x": [
          2002,
          2003,
          2004,
          2005,
          2006,
          2007
         ],
         "y": [
          "",
          "",
          "",
          "",
          "",
          ""
         ]
        },
        {
         "line": {
          "color": "rgba(142, 186, 66, 1.0)",
          "dash": "solid",
          "width": 1.3
         },
         "mode": "lines",
         "name": "Greece",
         "text": "",
         "type": "scatter",
         "x": [
          2002,
          2003,
          2004,
          2005,
          2006,
          2007
         ],
         "y": [
          435,
          453,
          476,
          497,
          521.6069946,
          112.2044075
         ]
        },
        {
         "line": {
          "color": "rgba(255, 181, 184, 1.0)",
          "dash": "solid",
          "width": 1.3
         },
         "mode": "lines",
         "name": "Italy",
         "text": "",
         "type": "scatter",
         "x": [
          2002,
          2003,
          2004,
          2005,
          2006,
          2007
         ],
         "y": [
          653,
          "",
          "",
          667,
          "",
          677.2921686
         ]
        },
        {
         "line": {
          "color": "rgba(255, 181, 184, 0.8999999999999999)",
          "dash": "solid",
          "width": 1.3
         },
         "mode": "lines",
         "name": "Macedonia FYR",
         "text": "",
         "type": "scatter",
         "x": [
          2002,
          2003,
          2004,
          2005,
          2006,
          2007
         ],
         "y": [
          163,
          "",
          "",
          "",
          "",
          136.2845552
         ]
        },
        {
         "line": {
          "color": "rgba(226, 74, 51, 0.8999999999999999)",
          "dash": "solid",
          "width": 1.3
         },
         "mode": "lines",
         "name": "Malta",
         "text": "",
         "type": "scatter",
         "x": [
          2002,
          2003,
          2004,
          2005,
          2006,
          2007
         ],
         "y": [
          617,
          633,
          636,
          "",
          "",
          557.5554073
         ]
        },
        {
         "line": {
          "color": "rgba(62, 111, 176, 0.8999999999999999)",
          "dash": "solid",
          "width": 1.3
         },
         "mode": "lines",
         "name": "Montenegro",
         "text": "",
         "type": "scatter",
         "x": [
          2002,
          2003,
          2004,
          2005,
          2006,
          2007
         ],
         "y": [
          "",
          "",
          "",
          "",
          "",
          ""
         ]
        },
        {
         "line": {
          "color": "rgba(132, 118, 202, 0.8999999999999999)",
          "dash": "solid",
          "width": 1.3
         },
         "mode": "lines",
         "name": "Portugal",
         "text": "",
         "type": "scatter",
         "x": [
          2002,
          2003,
          2004,
          2005,
          2006,
          2007
         ],
         "y": [
          "",
          507,
          "",
          "",
          "",
          ""
         ]
        },
        {
         "line": {
          "color": "rgba(101, 101, 101, 0.8999999999999999)",
          "dash": "solid",
          "width": 1.3
         },
         "mode": "lines",
         "name": "Serbia",
         "text": "",
         "type": "scatter",
         "x": [
          2002,
          2003,
          2004,
          2005,
          2006,
          2007
         ],
         "y": [
          "",
          "",
          "",
          "",
          243.6100006,
          223.3222729
         ]
        },
        {
         "line": {
          "color": "rgba(251, 193, 94, 0.8999999999999999)",
          "dash": "solid",
          "width": 1.3
         },
         "mode": "lines",
         "name": "Slovenia",
         "text": "",
         "type": "scatter",
         "x": [
          2002,
          2003,
          2004,
          2005,
          2006,
          2007
         ],
         "y": [
          483.7396851,
          492.1983643,
          504.9527893,
          518.3273926,
          530.7399902,
          547.0308534
         ]
        },
        {
         "line": {
          "color": "rgba(142, 186, 66, 0.8999999999999999)",
          "dash": "solid",
          "width": 1.3
         },
         "mode": "lines",
         "name": "Spain",
         "text": "",
         "type": "scatter",
         "x": [
          2002,
          2003,
          2004,
          2005,
          2006,
          2007
         ],
         "y": [
          559,
          550,
          "",
          "",
          "",
          600.7672195
         ]
        }
       ],
       "layout": {
        "legend": {
         "bgcolor": "#FFFFFF",
         "font": {
          "color": "#666666"
         }
        },
        "paper_bgcolor": "#FFFFFF",
        "plot_bgcolor": "#E5E5E5",
        "title": "Southern Europe",
        "titlefont": {
         "color": "#151516"
        },
        "xaxis1": {
         "gridcolor": "#F6F6F6",
         "showgrid": true,
         "tickfont": {
          "color": "#666666"
         },
         "title": "",
         "titlefont": {
          "color": "#666666"
         },
         "zerolinecolor": "#F6F6F6"
        },
        "yaxis1": {
         "gridcolor": "#F6F6F6",
         "showgrid": true,
         "tickfont": {
          "color": "#666666"
         },
         "title": "Metric tons per person",
         "titlefont": {
          "color": "#666666"
         },
         "zerolinecolor": "#F6F6F6"
        }
       }
      },
      "text/html": [
       "<div id=\"6e6f5073-63a5-484e-b859-72c1b0a8a62d\" style=\"height: 525px; width: 100%;\" class=\"plotly-graph-div\"></div><script type=\"text/javascript\">require([\"plotly\"], function(Plotly) { window.PLOTLYENV=window.PLOTLYENV || {};window.PLOTLYENV.BASE_URL=\"https://plot.ly\";Plotly.newPlot(\"6e6f5073-63a5-484e-b859-72c1b0a8a62d\", [{\"name\": \"Albania\", \"text\": \"\", \"mode\": \"lines\", \"y\": [73.0, \"\", 85.0, 87.475235, 97.3180695, 102.2124108], \"x\": [2002, 2003, 2004, 2005, 2006, 2007], \"line\": {\"color\": \"rgba(226, 74, 51, 1.0)\", \"width\": 1.3, \"dash\": \"solid\"}, \"type\": \"scatter\"}, {\"name\": \"Andorra\", \"text\": \"\", \"mode\": \"lines\", \"y\": [\"\", \"\", \"\", \"\", \"\", \"\"], \"x\": [2002, 2003, 2004, 2005, 2006, 2007], \"line\": {\"color\": \"rgba(62, 111, 176, 1.0)\", \"width\": 1.3, \"dash\": \"solid\"}, \"type\": \"scatter\"}, {\"name\": \"Bosnia and Herzegovina\", \"text\": \"\", \"mode\": \"lines\", \"y\": [\"\", \"\", \"\", \"\", \"\", 169.9750779], \"x\": [2002, 2003, 2004, 2005, 2006, 2007], \"line\": {\"color\": \"rgba(132, 118, 202, 1.0)\", \"width\": 1.3, \"dash\": \"solid\"}, \"type\": \"scatter\"}, {\"name\": \"Croatia\", \"text\": \"\", \"mode\": \"lines\", \"y\": [313.0, 356.0, 337.0, 349.0, 365.9979858, 377.1144698], \"x\": [2002, 2003, 2004, 2005, 2006, 2007], \"line\": {\"color\": \"rgba(101, 101, 101, 1.0)\", \"width\": 1.3, \"dash\": \"solid\"}, \"type\": \"scatter\"}, {\"name\": \"Gibraltar\", \"text\": \"\", \"mode\": \"lines\", \"y\": [\"\", \"\", \"\", \"\", \"\", \"\"], \"x\": [2002, 2003, 2004, 2005, 2006, 2007], \"line\": {\"color\": \"rgba(251, 193, 94, 1.0)\", \"width\": 1.3, \"dash\": \"solid\"}, \"type\": \"scatter\"}, {\"name\": \"Greece\", \"text\": \"\", \"mode\": \"lines\", \"y\": [435.0, 453.0, 476.0, 497.0, 521.6069946, 112.2044075], \"x\": [2002, 2003, 2004, 2005, 2006, 2007], \"line\": {\"color\": \"rgba(142, 186, 66, 1.0)\", \"width\": 1.3, \"dash\": \"solid\"}, \"type\": \"scatter\"}, {\"name\": \"Italy\", \"text\": \"\", \"mode\": \"lines\", \"y\": [653.0, \"\", \"\", 667.0, \"\", 677.2921686], \"x\": [2002, 2003, 2004, 2005, 2006, 2007], \"line\": {\"color\": \"rgba(255, 181, 184, 1.0)\", \"width\": 1.3, \"dash\": \"solid\"}, \"type\": \"scatter\"}, {\"name\": \"Macedonia FYR\", \"text\": \"\", \"mode\": \"lines\", \"y\": [163.0, \"\", \"\", \"\", \"\", 136.2845552], \"x\": [2002, 2003, 2004, 2005, 2006, 2007], \"line\": {\"color\": \"rgba(255, 181, 184, 0.8999999999999999)\", \"width\": 1.3, \"dash\": \"solid\"}, \"type\": \"scatter\"}, {\"name\": \"Malta\", \"text\": \"\", \"mode\": \"lines\", \"y\": [617.0, 633.0, 636.0, \"\", \"\", 557.5554073], \"x\": [2002, 2003, 2004, 2005, 2006, 2007], \"line\": {\"color\": \"rgba(226, 74, 51, 0.8999999999999999)\", \"width\": 1.3, \"dash\": \"solid\"}, \"type\": \"scatter\"}, {\"name\": \"Montenegro\", \"text\": \"\", \"mode\": \"lines\", \"y\": [\"\", \"\", \"\", \"\", \"\", \"\"], \"x\": [2002, 2003, 2004, 2005, 2006, 2007], \"line\": {\"color\": \"rgba(62, 111, 176, 0.8999999999999999)\", \"width\": 1.3, \"dash\": \"solid\"}, \"type\": \"scatter\"}, {\"name\": \"Portugal\", \"text\": \"\", \"mode\": \"lines\", \"y\": [\"\", 507.0, \"\", \"\", \"\", \"\"], \"x\": [2002, 2003, 2004, 2005, 2006, 2007], \"line\": {\"color\": \"rgba(132, 118, 202, 0.8999999999999999)\", \"width\": 1.3, \"dash\": \"solid\"}, \"type\": \"scatter\"}, {\"name\": \"Serbia\", \"text\": \"\", \"mode\": \"lines\", \"y\": [\"\", \"\", \"\", \"\", 243.6100006, 223.3222729], \"x\": [2002, 2003, 2004, 2005, 2006, 2007], \"line\": {\"color\": \"rgba(101, 101, 101, 0.8999999999999999)\", \"width\": 1.3, \"dash\": \"solid\"}, \"type\": \"scatter\"}, {\"name\": \"Slovenia\", \"text\": \"\", \"mode\": \"lines\", \"y\": [483.7396851, 492.1983643, 504.9527893, 518.3273926, 530.7399902, 547.0308534], \"x\": [2002, 2003, 2004, 2005, 2006, 2007], \"line\": {\"color\": \"rgba(251, 193, 94, 0.8999999999999999)\", \"width\": 1.3, \"dash\": \"solid\"}, \"type\": \"scatter\"}, {\"name\": \"Spain\", \"text\": \"\", \"mode\": \"lines\", \"y\": [559.0, 550.0, \"\", \"\", \"\", 600.7672195], \"x\": [2002, 2003, 2004, 2005, 2006, 2007], \"line\": {\"color\": \"rgba(142, 186, 66, 0.8999999999999999)\", \"width\": 1.3, \"dash\": \"solid\"}, \"type\": \"scatter\"}], {\"title\": \"Southern Europe\", \"paper_bgcolor\": \"#FFFFFF\", \"plot_bgcolor\": \"#E5E5E5\", \"xaxis1\": {\"tickfont\": {\"color\": \"#666666\"}, \"title\": \"\", \"showgrid\": true, \"zerolinecolor\": \"#F6F6F6\", \"gridcolor\": \"#F6F6F6\", \"titlefont\": {\"color\": \"#666666\"}}, \"yaxis1\": {\"tickfont\": {\"color\": \"#666666\"}, \"title\": \"Metric tons per person\", \"showgrid\": true, \"zerolinecolor\": \"#F6F6F6\", \"gridcolor\": \"#F6F6F6\", \"titlefont\": {\"color\": \"#666666\"}}, \"titlefont\": {\"color\": \"#151516\"}, \"legend\": {\"bgcolor\": \"#FFFFFF\", \"font\": {\"color\": \"#666666\"}}}, {\"linkText\": \"Export to plot.ly\", \"showLink\": true})});</script>"
      ],
      "text/vnd.plotly.v1+html": [
       "<div id=\"6e6f5073-63a5-484e-b859-72c1b0a8a62d\" style=\"height: 525px; width: 100%;\" class=\"plotly-graph-div\"></div><script type=\"text/javascript\">require([\"plotly\"], function(Plotly) { window.PLOTLYENV=window.PLOTLYENV || {};window.PLOTLYENV.BASE_URL=\"https://plot.ly\";Plotly.newPlot(\"6e6f5073-63a5-484e-b859-72c1b0a8a62d\", [{\"name\": \"Albania\", \"text\": \"\", \"mode\": \"lines\", \"y\": [73.0, \"\", 85.0, 87.475235, 97.3180695, 102.2124108], \"x\": [2002, 2003, 2004, 2005, 2006, 2007], \"line\": {\"color\": \"rgba(226, 74, 51, 1.0)\", \"width\": 1.3, \"dash\": \"solid\"}, \"type\": \"scatter\"}, {\"name\": \"Andorra\", \"text\": \"\", \"mode\": \"lines\", \"y\": [\"\", \"\", \"\", \"\", \"\", \"\"], \"x\": [2002, 2003, 2004, 2005, 2006, 2007], \"line\": {\"color\": \"rgba(62, 111, 176, 1.0)\", \"width\": 1.3, \"dash\": \"solid\"}, \"type\": \"scatter\"}, {\"name\": \"Bosnia and Herzegovina\", \"text\": \"\", \"mode\": \"lines\", \"y\": [\"\", \"\", \"\", \"\", \"\", 169.9750779], \"x\": [2002, 2003, 2004, 2005, 2006, 2007], \"line\": {\"color\": \"rgba(132, 118, 202, 1.0)\", \"width\": 1.3, \"dash\": \"solid\"}, \"type\": \"scatter\"}, {\"name\": \"Croatia\", \"text\": \"\", \"mode\": \"lines\", \"y\": [313.0, 356.0, 337.0, 349.0, 365.9979858, 377.1144698], \"x\": [2002, 2003, 2004, 2005, 2006, 2007], \"line\": {\"color\": \"rgba(101, 101, 101, 1.0)\", \"width\": 1.3, \"dash\": \"solid\"}, \"type\": \"scatter\"}, {\"name\": \"Gibraltar\", \"text\": \"\", \"mode\": \"lines\", \"y\": [\"\", \"\", \"\", \"\", \"\", \"\"], \"x\": [2002, 2003, 2004, 2005, 2006, 2007], \"line\": {\"color\": \"rgba(251, 193, 94, 1.0)\", \"width\": 1.3, \"dash\": \"solid\"}, \"type\": \"scatter\"}, {\"name\": \"Greece\", \"text\": \"\", \"mode\": \"lines\", \"y\": [435.0, 453.0, 476.0, 497.0, 521.6069946, 112.2044075], \"x\": [2002, 2003, 2004, 2005, 2006, 2007], \"line\": {\"color\": \"rgba(142, 186, 66, 1.0)\", \"width\": 1.3, \"dash\": \"solid\"}, \"type\": \"scatter\"}, {\"name\": \"Italy\", \"text\": \"\", \"mode\": \"lines\", \"y\": [653.0, \"\", \"\", 667.0, \"\", 677.2921686], \"x\": [2002, 2003, 2004, 2005, 2006, 2007], \"line\": {\"color\": \"rgba(255, 181, 184, 1.0)\", \"width\": 1.3, \"dash\": \"solid\"}, \"type\": \"scatter\"}, {\"name\": \"Macedonia FYR\", \"text\": \"\", \"mode\": \"lines\", \"y\": [163.0, \"\", \"\", \"\", \"\", 136.2845552], \"x\": [2002, 2003, 2004, 2005, 2006, 2007], \"line\": {\"color\": \"rgba(255, 181, 184, 0.8999999999999999)\", \"width\": 1.3, \"dash\": \"solid\"}, \"type\": \"scatter\"}, {\"name\": \"Malta\", \"text\": \"\", \"mode\": \"lines\", \"y\": [617.0, 633.0, 636.0, \"\", \"\", 557.5554073], \"x\": [2002, 2003, 2004, 2005, 2006, 2007], \"line\": {\"color\": \"rgba(226, 74, 51, 0.8999999999999999)\", \"width\": 1.3, \"dash\": \"solid\"}, \"type\": \"scatter\"}, {\"name\": \"Montenegro\", \"text\": \"\", \"mode\": \"lines\", \"y\": [\"\", \"\", \"\", \"\", \"\", \"\"], \"x\": [2002, 2003, 2004, 2005, 2006, 2007], \"line\": {\"color\": \"rgba(62, 111, 176, 0.8999999999999999)\", \"width\": 1.3, \"dash\": \"solid\"}, \"type\": \"scatter\"}, {\"name\": \"Portugal\", \"text\": \"\", \"mode\": \"lines\", \"y\": [\"\", 507.0, \"\", \"\", \"\", \"\"], \"x\": [2002, 2003, 2004, 2005, 2006, 2007], \"line\": {\"color\": \"rgba(132, 118, 202, 0.8999999999999999)\", \"width\": 1.3, \"dash\": \"solid\"}, \"type\": \"scatter\"}, {\"name\": \"Serbia\", \"text\": \"\", \"mode\": \"lines\", \"y\": [\"\", \"\", \"\", \"\", 243.6100006, 223.3222729], \"x\": [2002, 2003, 2004, 2005, 2006, 2007], \"line\": {\"color\": \"rgba(101, 101, 101, 0.8999999999999999)\", \"width\": 1.3, \"dash\": \"solid\"}, \"type\": \"scatter\"}, {\"name\": \"Slovenia\", \"text\": \"\", \"mode\": \"lines\", \"y\": [483.7396851, 492.1983643, 504.9527893, 518.3273926, 530.7399902, 547.0308534], \"x\": [2002, 2003, 2004, 2005, 2006, 2007], \"line\": {\"color\": \"rgba(251, 193, 94, 0.8999999999999999)\", \"width\": 1.3, \"dash\": \"solid\"}, \"type\": \"scatter\"}, {\"name\": \"Spain\", \"text\": \"\", \"mode\": \"lines\", \"y\": [559.0, 550.0, \"\", \"\", \"\", 600.7672195], \"x\": [2002, 2003, 2004, 2005, 2006, 2007], \"line\": {\"color\": \"rgba(142, 186, 66, 0.8999999999999999)\", \"width\": 1.3, \"dash\": \"solid\"}, \"type\": \"scatter\"}], {\"title\": \"Southern Europe\", \"paper_bgcolor\": \"#FFFFFF\", \"plot_bgcolor\": \"#E5E5E5\", \"xaxis1\": {\"tickfont\": {\"color\": \"#666666\"}, \"title\": \"\", \"showgrid\": true, \"zerolinecolor\": \"#F6F6F6\", \"gridcolor\": \"#F6F6F6\", \"titlefont\": {\"color\": \"#666666\"}}, \"yaxis1\": {\"tickfont\": {\"color\": \"#666666\"}, \"title\": \"Metric tons per person\", \"showgrid\": true, \"zerolinecolor\": \"#F6F6F6\", \"gridcolor\": \"#F6F6F6\", \"titlefont\": {\"color\": \"#666666\"}}, \"titlefont\": {\"color\": \"#151516\"}, \"legend\": {\"bgcolor\": \"#FFFFFF\", \"font\": {\"color\": \"#666666\"}}}, {\"linkText\": \"Export to plot.ly\", \"showLink\": true})});</script>"
      ]
     },
     "metadata": {},
     "output_type": "display_data"
    },
    {
     "data": {
      "application/vnd.plotly.v1+json": {
       "data": [
        {
         "line": {
          "color": "rgba(226, 74, 51, 1.0)",
          "dash": "solid",
          "width": 1.3
         },
         "mode": "lines",
         "name": "Austria",
         "text": "",
         "type": "scatter",
         "x": [
          2002,
          2003,
          2004,
          2005,
          2006,
          2007
         ],
         "y": [
          588,
          595,
          599,
          "",
          551.6370239,
          556.4990228
         ]
        },
        {
         "line": {
          "color": "rgba(62, 111, 176, 1.0)",
          "dash": "solid",
          "width": 1.3
         },
         "mode": "lines",
         "name": "Belgium",
         "text": "",
         "type": "scatter",
         "x": [
          2002,
          2003,
          2004,
          2005,
          2006,
          2007
         ],
         "y": [
          526,
          524,
          529,
          "",
          534.7490234,
          539.4459659
         ]
        },
        {
         "line": {
          "color": "rgba(132, 118, 202, 1.0)",
          "dash": "solid",
          "width": 1.3
         },
         "mode": "lines",
         "name": "France",
         "text": "",
         "type": "scatter",
         "x": [
          2002,
          2003,
          2004,
          2005,
          2006,
          2007
         ],
         "y": [
          593,
          594,
          595,
          596,
          598.0800171,
          600.4660211
         ]
        },
        {
         "line": {
          "color": "rgba(101, 101, 101, 1.0)",
          "dash": "solid",
          "width": 1.3
         },
         "mode": "lines",
         "name": "Germany",
         "text": "",
         "type": "scatter",
         "x": [
          2002,
          2003,
          2004,
          2005,
          2006,
          2007
         ],
         "y": [
          576,
          576,
          580,
          585,
          597.7800293,
          623.0598601
         ]
        },
        {
         "line": {
          "color": "rgba(251, 193, 94, 1.0)",
          "dash": "solid",
          "width": 1.3
         },
         "mode": "lines",
         "name": "Luxembourg",
         "text": "",
         "type": "scatter",
         "x": [
          2002,
          2003,
          2004,
          2005,
          2006,
          2007
         ],
         "y": [
          712,
          718,
          729,
          "",
          "",
          511.6470449
         ]
        },
        {
         "line": {
          "color": "rgba(142, 186, 66, 1.0)",
          "dash": "solid",
          "width": 1.3
         },
         "mode": "lines",
         "name": "Netherlands",
         "text": "",
         "type": "scatter",
         "x": [
          2002,
          2003,
          2004,
          2005,
          2006,
          2007
         ],
         "y": [
          486,
          "",
          "",
          "",
          "",
          502.819554
         ]
        },
        {
         "line": {
          "color": "rgba(255, 181, 184, 1.0)",
          "dash": "solid",
          "width": 1.3
         },
         "mode": "lines",
         "name": "Switzerland",
         "text": "",
         "type": "scatter",
         "x": [
          2002,
          2003,
          2004,
          2005,
          2006,
          2007
         ],
         "y": [
          550,
          554,
          559,
          563,
          564.3319702,
          569.3392266
         ]
        }
       ],
       "layout": {
        "legend": {
         "bgcolor": "#FFFFFF",
         "font": {
          "color": "#666666"
         }
        },
        "paper_bgcolor": "#FFFFFF",
        "plot_bgcolor": "#E5E5E5",
        "title": "Western Europe",
        "titlefont": {
         "color": "#151516"
        },
        "xaxis1": {
         "gridcolor": "#F6F6F6",
         "showgrid": true,
         "tickfont": {
          "color": "#666666"
         },
         "title": "",
         "titlefont": {
          "color": "#666666"
         },
         "zerolinecolor": "#F6F6F6"
        },
        "yaxis1": {
         "gridcolor": "#F6F6F6",
         "showgrid": true,
         "tickfont": {
          "color": "#666666"
         },
         "title": "Metric tons per person",
         "titlefont": {
          "color": "#666666"
         },
         "zerolinecolor": "#F6F6F6"
        }
       }
      },
      "text/html": [
       "<div id=\"25530151-c215-4d19-914e-0081cefc7f2b\" style=\"height: 525px; width: 100%;\" class=\"plotly-graph-div\"></div><script type=\"text/javascript\">require([\"plotly\"], function(Plotly) { window.PLOTLYENV=window.PLOTLYENV || {};window.PLOTLYENV.BASE_URL=\"https://plot.ly\";Plotly.newPlot(\"25530151-c215-4d19-914e-0081cefc7f2b\", [{\"name\": \"Austria\", \"text\": \"\", \"mode\": \"lines\", \"y\": [588.0, 595.0, 599.0, \"\", 551.6370239, 556.4990228], \"x\": [2002, 2003, 2004, 2005, 2006, 2007], \"line\": {\"color\": \"rgba(226, 74, 51, 1.0)\", \"width\": 1.3, \"dash\": \"solid\"}, \"type\": \"scatter\"}, {\"name\": \"Belgium\", \"text\": \"\", \"mode\": \"lines\", \"y\": [526.0, 524.0, 529.0, \"\", 534.7490234, 539.4459659], \"x\": [2002, 2003, 2004, 2005, 2006, 2007], \"line\": {\"color\": \"rgba(62, 111, 176, 1.0)\", \"width\": 1.3, \"dash\": \"solid\"}, \"type\": \"scatter\"}, {\"name\": \"France\", \"text\": \"\", \"mode\": \"lines\", \"y\": [593.0, 594.0, 595.0, 596.0, 598.0800171, 600.4660211], \"x\": [2002, 2003, 2004, 2005, 2006, 2007], \"line\": {\"color\": \"rgba(132, 118, 202, 1.0)\", \"width\": 1.3, \"dash\": \"solid\"}, \"type\": \"scatter\"}, {\"name\": \"Germany\", \"text\": \"\", \"mode\": \"lines\", \"y\": [576.0, 576.0, 580.0, 585.0, 597.7800293, 623.0598601], \"x\": [2002, 2003, 2004, 2005, 2006, 2007], \"line\": {\"color\": \"rgba(101, 101, 101, 1.0)\", \"width\": 1.3, \"dash\": \"solid\"}, \"type\": \"scatter\"}, {\"name\": \"Luxembourg\", \"text\": \"\", \"mode\": \"lines\", \"y\": [712.0, 718.0, 729.0, \"\", \"\", 511.6470449], \"x\": [2002, 2003, 2004, 2005, 2006, 2007], \"line\": {\"color\": \"rgba(251, 193, 94, 1.0)\", \"width\": 1.3, \"dash\": \"solid\"}, \"type\": \"scatter\"}, {\"name\": \"Netherlands\", \"text\": \"\", \"mode\": \"lines\", \"y\": [486.0, \"\", \"\", \"\", \"\", 502.819554], \"x\": [2002, 2003, 2004, 2005, 2006, 2007], \"line\": {\"color\": \"rgba(142, 186, 66, 1.0)\", \"width\": 1.3, \"dash\": \"solid\"}, \"type\": \"scatter\"}, {\"name\": \"Switzerland\", \"text\": \"\", \"mode\": \"lines\", \"y\": [550.0, 554.0, 559.0, 563.0, 564.3319702, 569.3392266], \"x\": [2002, 2003, 2004, 2005, 2006, 2007], \"line\": {\"color\": \"rgba(255, 181, 184, 1.0)\", \"width\": 1.3, \"dash\": \"solid\"}, \"type\": \"scatter\"}], {\"title\": \"Western Europe\", \"paper_bgcolor\": \"#FFFFFF\", \"plot_bgcolor\": \"#E5E5E5\", \"xaxis1\": {\"tickfont\": {\"color\": \"#666666\"}, \"title\": \"\", \"showgrid\": true, \"zerolinecolor\": \"#F6F6F6\", \"gridcolor\": \"#F6F6F6\", \"titlefont\": {\"color\": \"#666666\"}}, \"yaxis1\": {\"tickfont\": {\"color\": \"#666666\"}, \"title\": \"Metric tons per person\", \"showgrid\": true, \"zerolinecolor\": \"#F6F6F6\", \"gridcolor\": \"#F6F6F6\", \"titlefont\": {\"color\": \"#666666\"}}, \"titlefont\": {\"color\": \"#151516\"}, \"legend\": {\"bgcolor\": \"#FFFFFF\", \"font\": {\"color\": \"#666666\"}}}, {\"linkText\": \"Export to plot.ly\", \"showLink\": true})});</script>"
      ],
      "text/vnd.plotly.v1+html": [
       "<div id=\"25530151-c215-4d19-914e-0081cefc7f2b\" style=\"height: 525px; width: 100%;\" class=\"plotly-graph-div\"></div><script type=\"text/javascript\">require([\"plotly\"], function(Plotly) { window.PLOTLYENV=window.PLOTLYENV || {};window.PLOTLYENV.BASE_URL=\"https://plot.ly\";Plotly.newPlot(\"25530151-c215-4d19-914e-0081cefc7f2b\", [{\"name\": \"Austria\", \"text\": \"\", \"mode\": \"lines\", \"y\": [588.0, 595.0, 599.0, \"\", 551.6370239, 556.4990228], \"x\": [2002, 2003, 2004, 2005, 2006, 2007], \"line\": {\"color\": \"rgba(226, 74, 51, 1.0)\", \"width\": 1.3, \"dash\": \"solid\"}, \"type\": \"scatter\"}, {\"name\": \"Belgium\", \"text\": \"\", \"mode\": \"lines\", \"y\": [526.0, 524.0, 529.0, \"\", 534.7490234, 539.4459659], \"x\": [2002, 2003, 2004, 2005, 2006, 2007], \"line\": {\"color\": \"rgba(62, 111, 176, 1.0)\", \"width\": 1.3, \"dash\": \"solid\"}, \"type\": \"scatter\"}, {\"name\": \"France\", \"text\": \"\", \"mode\": \"lines\", \"y\": [593.0, 594.0, 595.0, 596.0, 598.0800171, 600.4660211], \"x\": [2002, 2003, 2004, 2005, 2006, 2007], \"line\": {\"color\": \"rgba(132, 118, 202, 1.0)\", \"width\": 1.3, \"dash\": \"solid\"}, \"type\": \"scatter\"}, {\"name\": \"Germany\", \"text\": \"\", \"mode\": \"lines\", \"y\": [576.0, 576.0, 580.0, 585.0, 597.7800293, 623.0598601], \"x\": [2002, 2003, 2004, 2005, 2006, 2007], \"line\": {\"color\": \"rgba(101, 101, 101, 1.0)\", \"width\": 1.3, \"dash\": \"solid\"}, \"type\": \"scatter\"}, {\"name\": \"Luxembourg\", \"text\": \"\", \"mode\": \"lines\", \"y\": [712.0, 718.0, 729.0, \"\", \"\", 511.6470449], \"x\": [2002, 2003, 2004, 2005, 2006, 2007], \"line\": {\"color\": \"rgba(251, 193, 94, 1.0)\", \"width\": 1.3, \"dash\": \"solid\"}, \"type\": \"scatter\"}, {\"name\": \"Netherlands\", \"text\": \"\", \"mode\": \"lines\", \"y\": [486.0, \"\", \"\", \"\", \"\", 502.819554], \"x\": [2002, 2003, 2004, 2005, 2006, 2007], \"line\": {\"color\": \"rgba(142, 186, 66, 1.0)\", \"width\": 1.3, \"dash\": \"solid\"}, \"type\": \"scatter\"}, {\"name\": \"Switzerland\", \"text\": \"\", \"mode\": \"lines\", \"y\": [550.0, 554.0, 559.0, 563.0, 564.3319702, 569.3392266], \"x\": [2002, 2003, 2004, 2005, 2006, 2007], \"line\": {\"color\": \"rgba(255, 181, 184, 1.0)\", \"width\": 1.3, \"dash\": \"solid\"}, \"type\": \"scatter\"}], {\"title\": \"Western Europe\", \"paper_bgcolor\": \"#FFFFFF\", \"plot_bgcolor\": \"#E5E5E5\", \"xaxis1\": {\"tickfont\": {\"color\": \"#666666\"}, \"title\": \"\", \"showgrid\": true, \"zerolinecolor\": \"#F6F6F6\", \"gridcolor\": \"#F6F6F6\", \"titlefont\": {\"color\": \"#666666\"}}, \"yaxis1\": {\"tickfont\": {\"color\": \"#666666\"}, \"title\": \"Metric tons per person\", \"showgrid\": true, \"zerolinecolor\": \"#F6F6F6\", \"gridcolor\": \"#F6F6F6\", \"titlefont\": {\"color\": \"#666666\"}}, \"titlefont\": {\"color\": \"#151516\"}, \"legend\": {\"bgcolor\": \"#FFFFFF\", \"font\": {\"color\": \"#666666\"}}}, {\"linkText\": \"Export to plot.ly\", \"showLink\": true})});</script>"
      ]
     },
     "metadata": {},
     "output_type": "display_data"
    }
   ],
   "source": [
    "for sub in df['sub-region'].unique():\n",
    "    sub_df = df.loc[df['sub-region']==sub].pivot('year', 'country', 'value')\n",
    "    fig = sub_df.iplot(asFigure = True,\\\n",
    "                        title = sub,\\\n",
    "                        yTitle = 'Metric tons per person',\\\n",
    "                        theme = 'ggplot')\n",
    "    py.offline.iplot(fig)"
   ]
  },
  {
   "cell_type": "markdown",
   "metadata": {},
   "source": [
    "# CO2 kg per USD of GDP"
   ]
  },
  {
   "cell_type": "code",
   "execution_count": null,
   "metadata": {},
   "outputs": [],
   "source": [
    "# read data\n",
    "datafile = 'data/co2_kg_per_USD.csv'\n",
    "\n",
    "co2_usd = pd.read_csv(datafile)\n",
    "\n",
    "# how big is the dataset?\n",
    "print co2_usd.info()"
   ]
  },
  {
   "cell_type": "code",
   "execution_count": null,
   "metadata": {},
   "outputs": [],
   "source": [
    "co2_usd.head()"
   ]
  },
  {
   "cell_type": "code",
   "execution_count": null,
   "metadata": {},
   "outputs": [],
   "source": [
    "# give better name to first columns\n",
    "co2_usd.rename(columns = {'CO2 emissions (kg per 2005 PPP $ of GDP)' : 'country'}, inplace = True)"
   ]
  },
  {
   "cell_type": "code",
   "execution_count": null,
   "metadata": {},
   "outputs": [],
   "source": [
    "co2_usd['country']"
   ]
  },
  {
   "cell_type": "code",
   "execution_count": null,
   "metadata": {},
   "outputs": [],
   "source": []
  }
 ],
 "metadata": {
  "anaconda-cloud": {},
  "kernelspec": {
   "display_name": "Python [conda env:DAND]",
   "language": "python",
   "name": "conda-env-DAND-py"
  },
  "language_info": {
   "codemirror_mode": {
    "name": "ipython",
    "version": 2
   },
   "file_extension": ".py",
   "mimetype": "text/x-python",
   "name": "python",
   "nbconvert_exporter": "python",
   "pygments_lexer": "ipython2",
   "version": "2.7.12"
  }
 },
 "nbformat": 4,
 "nbformat_minor": 2
}
