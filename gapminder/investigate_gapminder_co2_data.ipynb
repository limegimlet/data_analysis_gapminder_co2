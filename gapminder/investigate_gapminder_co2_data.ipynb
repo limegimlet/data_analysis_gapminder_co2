{
 "cells": [
  {
   "cell_type": "markdown",
   "metadata": {},
   "source": [
    "**Tip**: Welcome to the Investigate a Dataset project! You will find tips in quoted sections like this to help organize your approach to your investigation. Before submitting your project, it will be a good idea to go back through your report and remove these sections to make the presentation of your work as tidy as possible. First things first, you might want to double-click this Markdown cell and change the title so that it reflects your dataset and investigation.\n",
    "\n",
    "# Project: Investigate Carbon Per Capita\n",
    "\n",
    "\n",
    "## Table of Contents\n",
    "<ul>\n",
    "<li><a href=\"#intro\">Introduction</a></li>\n",
    "<li><a href=\"#wrangling\">Data Wrangling</a></li>\n",
    "<li><a href=\"#eda\">Exploratory Data Analysis</a></li>\n",
    "<li><a href=\"#conclusions\">Conclusions</a></li>\n",
    "</ul>"
   ]
  },
  {
   "cell_type": "markdown",
   "metadata": {},
   "source": [
    "<a id='intro'></a>\n",
    "## Introduction\n",
    "\n",
    "> **Tip**: In this section of the report, provide a brief introduction to the dataset you've selected for analysis. At the end of this section, describe the questions that you plan on exploring over the course of the report. Try to build your report around the analysis of at least one dependent variable and three independent variables.\n",
    ">\n",
    "> If you haven't yet selected and downloaded your data, make sure you do that first before coming back here. If you're not sure what questions to ask right now, then make sure you familiarize yourself with the variables and the dataset context for ideas of what to explore."
   ]
  },
  {
   "cell_type": "code",
   "execution_count": 175,
   "metadata": {
    "collapsed": true
   },
   "outputs": [],
   "source": [
    "import pandas as pd\n",
    "import matplotlib.pyplot as plt\n",
    "%matplotlib inline"
   ]
  },
  {
   "cell_type": "markdown",
   "metadata": {},
   "source": [
    "<a id='wrangling'></a>\n",
    "## Data Wrangling\n",
    "\n",
    "> **Tip**: In this section of the report, you will load in the data, check for cleanliness, and then trim and clean your dataset for analysis. Make sure that you document your steps carefully and justify your cleaning decisions.\n",
    "\n",
    "### General Properties"
   ]
  },
  {
   "cell_type": "code",
   "execution_count": 176,
   "metadata": {
    "collapsed": false
   },
   "outputs": [
    {
     "name": "stdout",
     "output_type": "stream",
     "text": [
      "<class 'pandas.core.frame.DataFrame'>\n",
      "RangeIndex: 235 entries, 0 to 234\n",
      "Columns: 254 entries, CO2 per capita to 2012\n",
      "dtypes: float64(253), object(1)\n",
      "memory usage: 466.4+ KB\n",
      "None\n",
      "\n",
      "          CO2 per capita  1751  1755  1762  1763  1764  1765  1766  1767  \\\n",
      "0               Abkhazia   NaN   NaN   NaN   NaN   NaN   NaN   NaN   NaN   \n",
      "1            Afghanistan   NaN   NaN   NaN   NaN   NaN   NaN   NaN   NaN   \n",
      "2  Akrotiri and Dhekelia   NaN   NaN   NaN   NaN   NaN   NaN   NaN   NaN   \n",
      "3                Albania   NaN   NaN   NaN   NaN   NaN   NaN   NaN   NaN   \n",
      "4                Algeria   NaN   NaN   NaN   NaN   NaN   NaN   NaN   NaN   \n",
      "\n",
      "   1768    ...         2003      2004      2005      2006      2007      2008  \\\n",
      "0   NaN    ...          NaN       NaN       NaN       NaN       NaN       NaN   \n",
      "1   NaN    ...     0.022704  0.027472  0.036780  0.047090  0.068312  0.131602   \n",
      "2   NaN    ...          NaN       NaN       NaN       NaN       NaN       NaN   \n",
      "3   NaN    ...     1.382066  1.332966  1.353789  1.224310  1.279420  1.297753   \n",
      "4   NaN    ...     2.899236  2.762220  3.257010  3.113135  3.312875  3.328945   \n",
      "\n",
      "       2009      2010      2011      2012  \n",
      "0       NaN       NaN       NaN       NaN  \n",
      "1  0.213325  0.262174       NaN       NaN  \n",
      "2       NaN       NaN       NaN       NaN  \n",
      "3  1.215055  1.336544       NaN       NaN  \n",
      "4  3.564361  3.480977  3.562504  3.785654  \n",
      "\n",
      "[5 rows x 254 columns]\n",
      "\n"
     ]
    },
    {
     "data": {
      "text/html": [
       "<div>\n",
       "<table border=\"1\" class=\"dataframe\">\n",
       "  <thead>\n",
       "    <tr style=\"text-align: right;\">\n",
       "      <th></th>\n",
       "      <th>1751</th>\n",
       "      <th>1755</th>\n",
       "      <th>1762</th>\n",
       "      <th>1763</th>\n",
       "      <th>1764</th>\n",
       "      <th>1765</th>\n",
       "      <th>1766</th>\n",
       "      <th>1767</th>\n",
       "      <th>1768</th>\n",
       "      <th>1769</th>\n",
       "      <th>...</th>\n",
       "      <th>2003</th>\n",
       "      <th>2004</th>\n",
       "      <th>2005</th>\n",
       "      <th>2006</th>\n",
       "      <th>2007</th>\n",
       "      <th>2008</th>\n",
       "      <th>2009</th>\n",
       "      <th>2010</th>\n",
       "      <th>2011</th>\n",
       "      <th>2012</th>\n",
       "    </tr>\n",
       "  </thead>\n",
       "  <tbody>\n",
       "    <tr>\n",
       "      <th>count</th>\n",
       "      <td>1.000000</td>\n",
       "      <td>1.000000</td>\n",
       "      <td>1.000000</td>\n",
       "      <td>1.000000</td>\n",
       "      <td>1.000000</td>\n",
       "      <td>1.000000</td>\n",
       "      <td>1.000000</td>\n",
       "      <td>1.000000</td>\n",
       "      <td>1.000000</td>\n",
       "      <td>1.000000</td>\n",
       "      <td>...</td>\n",
       "      <td>200.000000</td>\n",
       "      <td>200.000000</td>\n",
       "      <td>200.000000</td>\n",
       "      <td>200.000000</td>\n",
       "      <td>201.000000</td>\n",
       "      <td>201.000000</td>\n",
       "      <td>201.000000</td>\n",
       "      <td>201.000000</td>\n",
       "      <td>65.000000</td>\n",
       "      <td>65.000000</td>\n",
       "    </tr>\n",
       "    <tr>\n",
       "      <th>mean</th>\n",
       "      <td>1.131253</td>\n",
       "      <td>1.105193</td>\n",
       "      <td>1.244749</td>\n",
       "      <td>1.239133</td>\n",
       "      <td>1.233543</td>\n",
       "      <td>1.227977</td>\n",
       "      <td>1.363424</td>\n",
       "      <td>1.357226</td>\n",
       "      <td>1.351055</td>\n",
       "      <td>1.344913</td>\n",
       "      <td>...</td>\n",
       "      <td>5.160597</td>\n",
       "      <td>5.266567</td>\n",
       "      <td>5.242741</td>\n",
       "      <td>5.250673</td>\n",
       "      <td>5.387444</td>\n",
       "      <td>5.293425</td>\n",
       "      <td>5.064836</td>\n",
       "      <td>5.189779</td>\n",
       "      <td>8.395975</td>\n",
       "      <td>8.391032</td>\n",
       "    </tr>\n",
       "    <tr>\n",
       "      <th>std</th>\n",
       "      <td>NaN</td>\n",
       "      <td>NaN</td>\n",
       "      <td>NaN</td>\n",
       "      <td>NaN</td>\n",
       "      <td>NaN</td>\n",
       "      <td>NaN</td>\n",
       "      <td>NaN</td>\n",
       "      <td>NaN</td>\n",
       "      <td>NaN</td>\n",
       "      <td>NaN</td>\n",
       "      <td>...</td>\n",
       "      <td>6.892710</td>\n",
       "      <td>7.222377</td>\n",
       "      <td>7.198735</td>\n",
       "      <td>6.950140</td>\n",
       "      <td>7.281876</td>\n",
       "      <td>6.858804</td>\n",
       "      <td>6.479270</td>\n",
       "      <td>6.538857</td>\n",
       "      <td>7.796528</td>\n",
       "      <td>8.041490</td>\n",
       "    </tr>\n",
       "    <tr>\n",
       "      <th>min</th>\n",
       "      <td>1.131253</td>\n",
       "      <td>1.105193</td>\n",
       "      <td>1.244749</td>\n",
       "      <td>1.239133</td>\n",
       "      <td>1.233543</td>\n",
       "      <td>1.227977</td>\n",
       "      <td>1.363424</td>\n",
       "      <td>1.357226</td>\n",
       "      <td>1.351055</td>\n",
       "      <td>1.344913</td>\n",
       "      <td>...</td>\n",
       "      <td>0.022704</td>\n",
       "      <td>0.027472</td>\n",
       "      <td>0.021237</td>\n",
       "      <td>0.025019</td>\n",
       "      <td>0.003482</td>\n",
       "      <td>0.008618</td>\n",
       "      <td>0.011942</td>\n",
       "      <td>0.008443</td>\n",
       "      <td>0.401268</td>\n",
       "      <td>0.426003</td>\n",
       "    </tr>\n",
       "    <tr>\n",
       "      <th>25%</th>\n",
       "      <td>1.131253</td>\n",
       "      <td>1.105193</td>\n",
       "      <td>1.244749</td>\n",
       "      <td>1.239133</td>\n",
       "      <td>1.233543</td>\n",
       "      <td>1.227977</td>\n",
       "      <td>1.363424</td>\n",
       "      <td>1.357226</td>\n",
       "      <td>1.351055</td>\n",
       "      <td>1.344913</td>\n",
       "      <td>...</td>\n",
       "      <td>0.610230</td>\n",
       "      <td>0.682390</td>\n",
       "      <td>0.730938</td>\n",
       "      <td>0.681245</td>\n",
       "      <td>0.645242</td>\n",
       "      <td>0.613104</td>\n",
       "      <td>0.609647</td>\n",
       "      <td>0.640119</td>\n",
       "      <td>4.196912</td>\n",
       "      <td>4.141014</td>\n",
       "    </tr>\n",
       "    <tr>\n",
       "      <th>50%</th>\n",
       "      <td>1.131253</td>\n",
       "      <td>1.105193</td>\n",
       "      <td>1.244749</td>\n",
       "      <td>1.239133</td>\n",
       "      <td>1.233543</td>\n",
       "      <td>1.227977</td>\n",
       "      <td>1.363424</td>\n",
       "      <td>1.357226</td>\n",
       "      <td>1.351055</td>\n",
       "      <td>1.344913</td>\n",
       "      <td>...</td>\n",
       "      <td>3.216404</td>\n",
       "      <td>3.242589</td>\n",
       "      <td>3.302545</td>\n",
       "      <td>3.301199</td>\n",
       "      <td>3.164370</td>\n",
       "      <td>3.277726</td>\n",
       "      <td>3.106366</td>\n",
       "      <td>3.263605</td>\n",
       "      <td>6.722385</td>\n",
       "      <td>6.506759</td>\n",
       "    </tr>\n",
       "    <tr>\n",
       "      <th>75%</th>\n",
       "      <td>1.131253</td>\n",
       "      <td>1.105193</td>\n",
       "      <td>1.244749</td>\n",
       "      <td>1.239133</td>\n",
       "      <td>1.233543</td>\n",
       "      <td>1.227977</td>\n",
       "      <td>1.363424</td>\n",
       "      <td>1.357226</td>\n",
       "      <td>1.351055</td>\n",
       "      <td>1.344913</td>\n",
       "      <td>...</td>\n",
       "      <td>7.514300</td>\n",
       "      <td>7.530032</td>\n",
       "      <td>7.296806</td>\n",
       "      <td>7.463160</td>\n",
       "      <td>7.555909</td>\n",
       "      <td>7.293089</td>\n",
       "      <td>6.782996</td>\n",
       "      <td>6.983513</td>\n",
       "      <td>9.513115</td>\n",
       "      <td>9.194220</td>\n",
       "    </tr>\n",
       "    <tr>\n",
       "      <th>max</th>\n",
       "      <td>1.131253</td>\n",
       "      <td>1.105193</td>\n",
       "      <td>1.244749</td>\n",
       "      <td>1.239133</td>\n",
       "      <td>1.233543</td>\n",
       "      <td>1.227977</td>\n",
       "      <td>1.363424</td>\n",
       "      <td>1.357226</td>\n",
       "      <td>1.351055</td>\n",
       "      <td>1.344913</td>\n",
       "      <td>...</td>\n",
       "      <td>55.322622</td>\n",
       "      <td>62.069377</td>\n",
       "      <td>63.187436</td>\n",
       "      <td>57.986895</td>\n",
       "      <td>57.066817</td>\n",
       "      <td>48.702062</td>\n",
       "      <td>41.378843</td>\n",
       "      <td>40.098333</td>\n",
       "      <td>41.220928</td>\n",
       "      <td>46.643197</td>\n",
       "    </tr>\n",
       "  </tbody>\n",
       "</table>\n",
       "<p>8 rows × 253 columns</p>\n",
       "</div>"
      ],
      "text/plain": [
       "           1751      1755      1762      1763      1764      1765      1766  \\\n",
       "count  1.000000  1.000000  1.000000  1.000000  1.000000  1.000000  1.000000   \n",
       "mean   1.131253  1.105193  1.244749  1.239133  1.233543  1.227977  1.363424   \n",
       "std         NaN       NaN       NaN       NaN       NaN       NaN       NaN   \n",
       "min    1.131253  1.105193  1.244749  1.239133  1.233543  1.227977  1.363424   \n",
       "25%    1.131253  1.105193  1.244749  1.239133  1.233543  1.227977  1.363424   \n",
       "50%    1.131253  1.105193  1.244749  1.239133  1.233543  1.227977  1.363424   \n",
       "75%    1.131253  1.105193  1.244749  1.239133  1.233543  1.227977  1.363424   \n",
       "max    1.131253  1.105193  1.244749  1.239133  1.233543  1.227977  1.363424   \n",
       "\n",
       "           1767      1768      1769    ...            2003        2004  \\\n",
       "count  1.000000  1.000000  1.000000    ...      200.000000  200.000000   \n",
       "mean   1.357226  1.351055  1.344913    ...        5.160597    5.266567   \n",
       "std         NaN       NaN       NaN    ...        6.892710    7.222377   \n",
       "min    1.357226  1.351055  1.344913    ...        0.022704    0.027472   \n",
       "25%    1.357226  1.351055  1.344913    ...        0.610230    0.682390   \n",
       "50%    1.357226  1.351055  1.344913    ...        3.216404    3.242589   \n",
       "75%    1.357226  1.351055  1.344913    ...        7.514300    7.530032   \n",
       "max    1.357226  1.351055  1.344913    ...       55.322622   62.069377   \n",
       "\n",
       "             2005        2006        2007        2008        2009        2010  \\\n",
       "count  200.000000  200.000000  201.000000  201.000000  201.000000  201.000000   \n",
       "mean     5.242741    5.250673    5.387444    5.293425    5.064836    5.189779   \n",
       "std      7.198735    6.950140    7.281876    6.858804    6.479270    6.538857   \n",
       "min      0.021237    0.025019    0.003482    0.008618    0.011942    0.008443   \n",
       "25%      0.730938    0.681245    0.645242    0.613104    0.609647    0.640119   \n",
       "50%      3.302545    3.301199    3.164370    3.277726    3.106366    3.263605   \n",
       "75%      7.296806    7.463160    7.555909    7.293089    6.782996    6.983513   \n",
       "max     63.187436   57.986895   57.066817   48.702062   41.378843   40.098333   \n",
       "\n",
       "            2011       2012  \n",
       "count  65.000000  65.000000  \n",
       "mean    8.395975   8.391032  \n",
       "std     7.796528   8.041490  \n",
       "min     0.401268   0.426003  \n",
       "25%     4.196912   4.141014  \n",
       "50%     6.722385   6.506759  \n",
       "75%     9.513115   9.194220  \n",
       "max    41.220928  46.643197  \n",
       "\n",
       "[8 rows x 253 columns]"
      ]
     },
     "execution_count": 176,
     "metadata": {},
     "output_type": "execute_result"
    }
   ],
   "source": [
    "# read data\n",
    "co2 = pd.read_csv(\"data/indicator CDIAC carbon_dioxide_emissions_per_capita.csv\")\n",
    "\n",
    "print co2.info()\n",
    "print \"\"\n",
    "print co2.head()\n",
    "print \"\"\n",
    "co2.describe()"
   ]
  },
  {
   "cell_type": "code",
   "execution_count": 177,
   "metadata": {
    "collapsed": true
   },
   "outputs": [],
   "source": [
    "co2.rename(columns = {'CO2 per capita' : 'country'}, inplace = True)"
   ]
  },
  {
   "cell_type": "code",
   "execution_count": 178,
   "metadata": {
    "collapsed": false
   },
   "outputs": [
    {
     "data": {
      "text/html": [
       "<div>\n",
       "<table border=\"1\" class=\"dataframe\">\n",
       "  <thead>\n",
       "    <tr style=\"text-align: right;\">\n",
       "      <th></th>\n",
       "      <th>country</th>\n",
       "      <th>1751</th>\n",
       "      <th>1755</th>\n",
       "      <th>1762</th>\n",
       "      <th>1763</th>\n",
       "      <th>1764</th>\n",
       "      <th>1765</th>\n",
       "      <th>1766</th>\n",
       "      <th>1767</th>\n",
       "      <th>1768</th>\n",
       "      <th>...</th>\n",
       "      <th>2003</th>\n",
       "      <th>2004</th>\n",
       "      <th>2005</th>\n",
       "      <th>2006</th>\n",
       "      <th>2007</th>\n",
       "      <th>2008</th>\n",
       "      <th>2009</th>\n",
       "      <th>2010</th>\n",
       "      <th>2011</th>\n",
       "      <th>2012</th>\n",
       "    </tr>\n",
       "  </thead>\n",
       "  <tbody>\n",
       "    <tr>\n",
       "      <th>0</th>\n",
       "      <td>Abkhazia</td>\n",
       "      <td>NaN</td>\n",
       "      <td>NaN</td>\n",
       "      <td>NaN</td>\n",
       "      <td>NaN</td>\n",
       "      <td>NaN</td>\n",
       "      <td>NaN</td>\n",
       "      <td>NaN</td>\n",
       "      <td>NaN</td>\n",
       "      <td>NaN</td>\n",
       "      <td>...</td>\n",
       "      <td>NaN</td>\n",
       "      <td>NaN</td>\n",
       "      <td>NaN</td>\n",
       "      <td>NaN</td>\n",
       "      <td>NaN</td>\n",
       "      <td>NaN</td>\n",
       "      <td>NaN</td>\n",
       "      <td>NaN</td>\n",
       "      <td>NaN</td>\n",
       "      <td>NaN</td>\n",
       "    </tr>\n",
       "    <tr>\n",
       "      <th>1</th>\n",
       "      <td>Afghanistan</td>\n",
       "      <td>NaN</td>\n",
       "      <td>NaN</td>\n",
       "      <td>NaN</td>\n",
       "      <td>NaN</td>\n",
       "      <td>NaN</td>\n",
       "      <td>NaN</td>\n",
       "      <td>NaN</td>\n",
       "      <td>NaN</td>\n",
       "      <td>NaN</td>\n",
       "      <td>...</td>\n",
       "      <td>0.022704</td>\n",
       "      <td>0.027472</td>\n",
       "      <td>0.036780</td>\n",
       "      <td>0.047090</td>\n",
       "      <td>0.068312</td>\n",
       "      <td>0.131602</td>\n",
       "      <td>0.213325</td>\n",
       "      <td>0.262174</td>\n",
       "      <td>NaN</td>\n",
       "      <td>NaN</td>\n",
       "    </tr>\n",
       "    <tr>\n",
       "      <th>2</th>\n",
       "      <td>Akrotiri and Dhekelia</td>\n",
       "      <td>NaN</td>\n",
       "      <td>NaN</td>\n",
       "      <td>NaN</td>\n",
       "      <td>NaN</td>\n",
       "      <td>NaN</td>\n",
       "      <td>NaN</td>\n",
       "      <td>NaN</td>\n",
       "      <td>NaN</td>\n",
       "      <td>NaN</td>\n",
       "      <td>...</td>\n",
       "      <td>NaN</td>\n",
       "      <td>NaN</td>\n",
       "      <td>NaN</td>\n",
       "      <td>NaN</td>\n",
       "      <td>NaN</td>\n",
       "      <td>NaN</td>\n",
       "      <td>NaN</td>\n",
       "      <td>NaN</td>\n",
       "      <td>NaN</td>\n",
       "      <td>NaN</td>\n",
       "    </tr>\n",
       "    <tr>\n",
       "      <th>3</th>\n",
       "      <td>Albania</td>\n",
       "      <td>NaN</td>\n",
       "      <td>NaN</td>\n",
       "      <td>NaN</td>\n",
       "      <td>NaN</td>\n",
       "      <td>NaN</td>\n",
       "      <td>NaN</td>\n",
       "      <td>NaN</td>\n",
       "      <td>NaN</td>\n",
       "      <td>NaN</td>\n",
       "      <td>...</td>\n",
       "      <td>1.382066</td>\n",
       "      <td>1.332966</td>\n",
       "      <td>1.353789</td>\n",
       "      <td>1.224310</td>\n",
       "      <td>1.279420</td>\n",
       "      <td>1.297753</td>\n",
       "      <td>1.215055</td>\n",
       "      <td>1.336544</td>\n",
       "      <td>NaN</td>\n",
       "      <td>NaN</td>\n",
       "    </tr>\n",
       "    <tr>\n",
       "      <th>4</th>\n",
       "      <td>Algeria</td>\n",
       "      <td>NaN</td>\n",
       "      <td>NaN</td>\n",
       "      <td>NaN</td>\n",
       "      <td>NaN</td>\n",
       "      <td>NaN</td>\n",
       "      <td>NaN</td>\n",
       "      <td>NaN</td>\n",
       "      <td>NaN</td>\n",
       "      <td>NaN</td>\n",
       "      <td>...</td>\n",
       "      <td>2.899236</td>\n",
       "      <td>2.762220</td>\n",
       "      <td>3.257010</td>\n",
       "      <td>3.113135</td>\n",
       "      <td>3.312875</td>\n",
       "      <td>3.328945</td>\n",
       "      <td>3.564361</td>\n",
       "      <td>3.480977</td>\n",
       "      <td>3.562504</td>\n",
       "      <td>3.785654</td>\n",
       "    </tr>\n",
       "  </tbody>\n",
       "</table>\n",
       "<p>5 rows × 254 columns</p>\n",
       "</div>"
      ],
      "text/plain": [
       "                 country  1751  1755  1762  1763  1764  1765  1766  1767  \\\n",
       "0               Abkhazia   NaN   NaN   NaN   NaN   NaN   NaN   NaN   NaN   \n",
       "1            Afghanistan   NaN   NaN   NaN   NaN   NaN   NaN   NaN   NaN   \n",
       "2  Akrotiri and Dhekelia   NaN   NaN   NaN   NaN   NaN   NaN   NaN   NaN   \n",
       "3                Albania   NaN   NaN   NaN   NaN   NaN   NaN   NaN   NaN   \n",
       "4                Algeria   NaN   NaN   NaN   NaN   NaN   NaN   NaN   NaN   \n",
       "\n",
       "   1768    ...         2003      2004      2005      2006      2007      2008  \\\n",
       "0   NaN    ...          NaN       NaN       NaN       NaN       NaN       NaN   \n",
       "1   NaN    ...     0.022704  0.027472  0.036780  0.047090  0.068312  0.131602   \n",
       "2   NaN    ...          NaN       NaN       NaN       NaN       NaN       NaN   \n",
       "3   NaN    ...     1.382066  1.332966  1.353789  1.224310  1.279420  1.297753   \n",
       "4   NaN    ...     2.899236  2.762220  3.257010  3.113135  3.312875  3.328945   \n",
       "\n",
       "       2009      2010      2011      2012  \n",
       "0       NaN       NaN       NaN       NaN  \n",
       "1  0.213325  0.262174       NaN       NaN  \n",
       "2       NaN       NaN       NaN       NaN  \n",
       "3  1.215055  1.336544       NaN       NaN  \n",
       "4  3.564361  3.480977  3.562504  3.785654  \n",
       "\n",
       "[5 rows x 254 columns]"
      ]
     },
     "execution_count": 178,
     "metadata": {},
     "output_type": "execute_result"
    }
   ],
   "source": [
    "co2.head()"
   ]
  },
  {
   "cell_type": "code",
   "execution_count": 179,
   "metadata": {
    "collapsed": false
   },
   "outputs": [
    {
     "name": "stdout",
     "output_type": "stream",
     "text": [
      "235\n",
      "235\n"
     ]
    }
   ],
   "source": [
    "# are there any duplicate countries?\n",
    "\n",
    "print len(co2.index.values)\n",
    "print len(pd.Series(co2.index.values).unique())"
   ]
  },
  {
   "cell_type": "code",
   "execution_count": 180,
   "metadata": {
    "collapsed": false
   },
   "outputs": [
    {
     "data": {
      "text/plain": [
       "count    1.000000\n",
       "mean     1.131253\n",
       "std           NaN\n",
       "min      1.131253\n",
       "25%      1.131253\n",
       "50%      1.131253\n",
       "75%      1.131253\n",
       "max      1.131253\n",
       "Name: 1751, dtype: float64"
      ]
     },
     "execution_count": 180,
     "metadata": {},
     "output_type": "execute_result"
    }
   ],
   "source": [
    "# how many countries has data from 1751?\n",
    "\n",
    "co2['1751'].describe()"
   ]
  },
  {
   "cell_type": "code",
   "execution_count": 181,
   "metadata": {
    "collapsed": false
   },
   "outputs": [
    {
     "data": {
      "text/html": [
       "<div>\n",
       "<table border=\"1\" class=\"dataframe\">\n",
       "  <thead>\n",
       "    <tr style=\"text-align: right;\">\n",
       "      <th></th>\n",
       "      <th>country</th>\n",
       "      <th>1751</th>\n",
       "      <th>1755</th>\n",
       "      <th>1762</th>\n",
       "      <th>1763</th>\n",
       "      <th>1764</th>\n",
       "      <th>1765</th>\n",
       "      <th>1766</th>\n",
       "      <th>1767</th>\n",
       "      <th>1768</th>\n",
       "      <th>...</th>\n",
       "      <th>2003</th>\n",
       "      <th>2004</th>\n",
       "      <th>2005</th>\n",
       "      <th>2006</th>\n",
       "      <th>2007</th>\n",
       "      <th>2008</th>\n",
       "      <th>2009</th>\n",
       "      <th>2010</th>\n",
       "      <th>2011</th>\n",
       "      <th>2012</th>\n",
       "    </tr>\n",
       "  </thead>\n",
       "  <tbody>\n",
       "    <tr>\n",
       "      <th>219</th>\n",
       "      <td>United Kingdom</td>\n",
       "      <td>1.131253</td>\n",
       "      <td>1.105193</td>\n",
       "      <td>1.244749</td>\n",
       "      <td>1.239133</td>\n",
       "      <td>1.233543</td>\n",
       "      <td>1.227977</td>\n",
       "      <td>1.363424</td>\n",
       "      <td>1.357226</td>\n",
       "      <td>1.351055</td>\n",
       "      <td>...</td>\n",
       "      <td>9.069663</td>\n",
       "      <td>9.022278</td>\n",
       "      <td>9.001868</td>\n",
       "      <td>8.952901</td>\n",
       "      <td>8.684595</td>\n",
       "      <td>8.526467</td>\n",
       "      <td>7.705539</td>\n",
       "      <td>7.954469</td>\n",
       "      <td>7.324996</td>\n",
       "      <td>7.502533</td>\n",
       "    </tr>\n",
       "  </tbody>\n",
       "</table>\n",
       "<p>1 rows × 254 columns</p>\n",
       "</div>"
      ],
      "text/plain": [
       "            country      1751      1755      1762      1763      1764  \\\n",
       "219  United Kingdom  1.131253  1.105193  1.244749  1.239133  1.233543   \n",
       "\n",
       "         1765      1766      1767      1768    ...         2003      2004  \\\n",
       "219  1.227977  1.363424  1.357226  1.351055    ...     9.069663  9.022278   \n",
       "\n",
       "         2005      2006      2007      2008      2009      2010      2011  \\\n",
       "219  9.001868  8.952901  8.684595  8.526467  7.705539  7.954469  7.324996   \n",
       "\n",
       "         2012  \n",
       "219  7.502533  \n",
       "\n",
       "[1 rows x 254 columns]"
      ]
     },
     "execution_count": 181,
     "metadata": {},
     "output_type": "execute_result"
    }
   ],
   "source": [
    "# Which country has data for 1751?\n",
    "\n",
    "co2.loc[pd.notnull(co2['1751'])]"
   ]
  },
  {
   "cell_type": "code",
   "execution_count": 182,
   "metadata": {
    "collapsed": false
   },
   "outputs": [
    {
     "data": {
      "text/plain": [
       "170"
      ]
     },
     "execution_count": 182,
     "metadata": {},
     "output_type": "execute_result"
    }
   ],
   "source": [
    "# How many countries do not have recent data?\n",
    "\n",
    "missing_recent = co2.loc[pd.isnull(co2['2012'])]\n",
    "len(missing_recent)"
   ]
  },
  {
   "cell_type": "code",
   "execution_count": 183,
   "metadata": {
    "collapsed": false
   },
   "outputs": [
    {
     "data": {
      "text/plain": [
       "country      Åland\n",
       "1751       1.13125\n",
       "1755       1.10519\n",
       "1762       1.24475\n",
       "1763       1.23913\n",
       "1764       1.23354\n",
       "1765       1.22798\n",
       "1766       1.36342\n",
       "1767       1.35723\n",
       "1768       1.35106\n",
       "1769       1.34491\n",
       "1770        1.3388\n",
       "1771       1.47177\n",
       "1772       1.45938\n",
       "1773       1.44709\n",
       "1774        1.4349\n",
       "1775       1.42282\n",
       "1776       1.55648\n",
       "1777       1.54333\n",
       "1778        1.5303\n",
       "1779       1.51737\n",
       "1780       1.50492\n",
       "1781       1.66855\n",
       "1782       1.65394\n",
       "1783       1.63982\n",
       "1784       1.62546\n",
       "1785       1.61158\n",
       "1786       1.81328\n",
       "1787        1.7977\n",
       "1788       1.78192\n",
       "            ...   \n",
       "1983       36.7573\n",
       "1984       36.4429\n",
       "1985       37.0064\n",
       "1986       33.6468\n",
       "1987       31.4407\n",
       "1988       30.0159\n",
       "1989       31.8757\n",
       "1990        32.618\n",
       "1991       36.5964\n",
       "1992       54.8944\n",
       "1993       62.5114\n",
       "1994       61.0363\n",
       "1995       61.4754\n",
       "1996       62.1031\n",
       "1997       68.6199\n",
       "1998       59.0325\n",
       "1999       55.1091\n",
       "2000        58.764\n",
       "2001       49.9295\n",
       "2002       45.6268\n",
       "2003       55.3226\n",
       "2004       62.0694\n",
       "2005       63.1874\n",
       "2006       57.9869\n",
       "2007       57.0668\n",
       "2008       48.7021\n",
       "2009       41.3788\n",
       "2010       40.0983\n",
       "2011       41.2209\n",
       "2012       46.6432\n",
       "dtype: object"
      ]
     },
     "execution_count": 183,
     "metadata": {},
     "output_type": "execute_result"
    }
   ],
   "source": [
    "# what's the max value for the entire df?\n",
    "\n",
    "co2.max()\n"
   ]
  },
  {
   "cell_type": "code",
   "execution_count": 184,
   "metadata": {
    "collapsed": false
   },
   "outputs": [
    {
     "data": {
      "text/plain": [
       "country       Abkhazia\n",
       "1751           1.13125\n",
       "1755           1.10519\n",
       "1762           1.24475\n",
       "1763           1.23913\n",
       "1764           1.23354\n",
       "1765           1.22798\n",
       "1766           1.36342\n",
       "1767           1.35723\n",
       "1768           1.35106\n",
       "1769           1.34491\n",
       "1770            1.3388\n",
       "1771           1.47177\n",
       "1772           1.45938\n",
       "1773           1.44709\n",
       "1774            1.4349\n",
       "1775           1.42282\n",
       "1776           1.55648\n",
       "1777           1.54333\n",
       "1778            1.5303\n",
       "1779           1.51737\n",
       "1780           1.50492\n",
       "1781           1.66855\n",
       "1782           1.65394\n",
       "1783           1.63982\n",
       "1784           1.62546\n",
       "1785        0.00677159\n",
       "1786        0.00669271\n",
       "1787        0.00661474\n",
       "1788        0.00653768\n",
       "              ...     \n",
       "1983         0.0306452\n",
       "1984         0.0407263\n",
       "1985         0.0348777\n",
       "1986         0.0352532\n",
       "1987          0.036196\n",
       "1988         0.0116903\n",
       "1989         0.0176192\n",
       "1990        0.00277809\n",
       "1991       0.000556814\n",
       "1992        0.00168109\n",
       "1993        0.00169272\n",
       "1994        0.00169642\n",
       "1995         0.0016859\n",
       "1996         0.0147295\n",
       "1997         0.0152602\n",
       "1998         0.0147814\n",
       "1999         0.0152259\n",
       "2000         0.0214051\n",
       "2001         0.0202318\n",
       "2002         0.0145834\n",
       "2003         0.0227037\n",
       "2004         0.0274724\n",
       "2005         0.0212372\n",
       "2006         0.0250189\n",
       "2007         0.0034819\n",
       "2008        0.00861767\n",
       "2009         0.0119424\n",
       "2010        0.00844341\n",
       "2011          0.401268\n",
       "2012          0.426003\n",
       "dtype: object"
      ]
     },
     "execution_count": 184,
     "metadata": {},
     "output_type": "execute_result"
    }
   ],
   "source": [
    "co2.min()\n"
   ]
  },
  {
   "cell_type": "code",
   "execution_count": 185,
   "metadata": {
    "collapsed": false
   },
   "outputs": [],
   "source": [
    "\n",
    "#co2.set_index('CO2 per capita')"
   ]
  },
  {
   "cell_type": "code",
   "execution_count": 186,
   "metadata": {
    "collapsed": false
   },
   "outputs": [
    {
     "data": {
      "text/html": [
       "<div>\n",
       "<table border=\"1\" class=\"dataframe\">\n",
       "  <thead>\n",
       "    <tr style=\"text-align: right;\">\n",
       "      <th></th>\n",
       "      <th>country</th>\n",
       "      <th>1751</th>\n",
       "      <th>1755</th>\n",
       "      <th>1762</th>\n",
       "      <th>1763</th>\n",
       "      <th>1764</th>\n",
       "      <th>1765</th>\n",
       "      <th>1766</th>\n",
       "      <th>1767</th>\n",
       "      <th>1768</th>\n",
       "      <th>...</th>\n",
       "      <th>2003</th>\n",
       "      <th>2004</th>\n",
       "      <th>2005</th>\n",
       "      <th>2006</th>\n",
       "      <th>2007</th>\n",
       "      <th>2008</th>\n",
       "      <th>2009</th>\n",
       "      <th>2010</th>\n",
       "      <th>2011</th>\n",
       "      <th>2012</th>\n",
       "    </tr>\n",
       "  </thead>\n",
       "  <tbody>\n",
       "    <tr>\n",
       "      <th>0</th>\n",
       "      <td>Abkhazia</td>\n",
       "      <td>NaN</td>\n",
       "      <td>NaN</td>\n",
       "      <td>NaN</td>\n",
       "      <td>NaN</td>\n",
       "      <td>NaN</td>\n",
       "      <td>NaN</td>\n",
       "      <td>NaN</td>\n",
       "      <td>NaN</td>\n",
       "      <td>NaN</td>\n",
       "      <td>...</td>\n",
       "      <td>NaN</td>\n",
       "      <td>NaN</td>\n",
       "      <td>NaN</td>\n",
       "      <td>NaN</td>\n",
       "      <td>NaN</td>\n",
       "      <td>NaN</td>\n",
       "      <td>NaN</td>\n",
       "      <td>NaN</td>\n",
       "      <td>NaN</td>\n",
       "      <td>NaN</td>\n",
       "    </tr>\n",
       "    <tr>\n",
       "      <th>1</th>\n",
       "      <td>Afghanistan</td>\n",
       "      <td>NaN</td>\n",
       "      <td>NaN</td>\n",
       "      <td>NaN</td>\n",
       "      <td>NaN</td>\n",
       "      <td>NaN</td>\n",
       "      <td>NaN</td>\n",
       "      <td>NaN</td>\n",
       "      <td>NaN</td>\n",
       "      <td>NaN</td>\n",
       "      <td>...</td>\n",
       "      <td>0.022704</td>\n",
       "      <td>0.027472</td>\n",
       "      <td>0.036780</td>\n",
       "      <td>0.047090</td>\n",
       "      <td>0.068312</td>\n",
       "      <td>0.131602</td>\n",
       "      <td>0.213325</td>\n",
       "      <td>0.262174</td>\n",
       "      <td>NaN</td>\n",
       "      <td>NaN</td>\n",
       "    </tr>\n",
       "    <tr>\n",
       "      <th>2</th>\n",
       "      <td>Akrotiri and Dhekelia</td>\n",
       "      <td>NaN</td>\n",
       "      <td>NaN</td>\n",
       "      <td>NaN</td>\n",
       "      <td>NaN</td>\n",
       "      <td>NaN</td>\n",
       "      <td>NaN</td>\n",
       "      <td>NaN</td>\n",
       "      <td>NaN</td>\n",
       "      <td>NaN</td>\n",
       "      <td>...</td>\n",
       "      <td>NaN</td>\n",
       "      <td>NaN</td>\n",
       "      <td>NaN</td>\n",
       "      <td>NaN</td>\n",
       "      <td>NaN</td>\n",
       "      <td>NaN</td>\n",
       "      <td>NaN</td>\n",
       "      <td>NaN</td>\n",
       "      <td>NaN</td>\n",
       "      <td>NaN</td>\n",
       "    </tr>\n",
       "    <tr>\n",
       "      <th>3</th>\n",
       "      <td>Albania</td>\n",
       "      <td>NaN</td>\n",
       "      <td>NaN</td>\n",
       "      <td>NaN</td>\n",
       "      <td>NaN</td>\n",
       "      <td>NaN</td>\n",
       "      <td>NaN</td>\n",
       "      <td>NaN</td>\n",
       "      <td>NaN</td>\n",
       "      <td>NaN</td>\n",
       "      <td>...</td>\n",
       "      <td>1.382066</td>\n",
       "      <td>1.332966</td>\n",
       "      <td>1.353789</td>\n",
       "      <td>1.224310</td>\n",
       "      <td>1.279420</td>\n",
       "      <td>1.297753</td>\n",
       "      <td>1.215055</td>\n",
       "      <td>1.336544</td>\n",
       "      <td>NaN</td>\n",
       "      <td>NaN</td>\n",
       "    </tr>\n",
       "    <tr>\n",
       "      <th>4</th>\n",
       "      <td>Algeria</td>\n",
       "      <td>NaN</td>\n",
       "      <td>NaN</td>\n",
       "      <td>NaN</td>\n",
       "      <td>NaN</td>\n",
       "      <td>NaN</td>\n",
       "      <td>NaN</td>\n",
       "      <td>NaN</td>\n",
       "      <td>NaN</td>\n",
       "      <td>NaN</td>\n",
       "      <td>...</td>\n",
       "      <td>2.899236</td>\n",
       "      <td>2.762220</td>\n",
       "      <td>3.257010</td>\n",
       "      <td>3.113135</td>\n",
       "      <td>3.312875</td>\n",
       "      <td>3.328945</td>\n",
       "      <td>3.564361</td>\n",
       "      <td>3.480977</td>\n",
       "      <td>3.562504</td>\n",
       "      <td>3.785654</td>\n",
       "    </tr>\n",
       "  </tbody>\n",
       "</table>\n",
       "<p>5 rows × 254 columns</p>\n",
       "</div>"
      ],
      "text/plain": [
       "                 country  1751  1755  1762  1763  1764  1765  1766  1767  \\\n",
       "0               Abkhazia   NaN   NaN   NaN   NaN   NaN   NaN   NaN   NaN   \n",
       "1            Afghanistan   NaN   NaN   NaN   NaN   NaN   NaN   NaN   NaN   \n",
       "2  Akrotiri and Dhekelia   NaN   NaN   NaN   NaN   NaN   NaN   NaN   NaN   \n",
       "3                Albania   NaN   NaN   NaN   NaN   NaN   NaN   NaN   NaN   \n",
       "4                Algeria   NaN   NaN   NaN   NaN   NaN   NaN   NaN   NaN   \n",
       "\n",
       "   1768    ...         2003      2004      2005      2006      2007      2008  \\\n",
       "0   NaN    ...          NaN       NaN       NaN       NaN       NaN       NaN   \n",
       "1   NaN    ...     0.022704  0.027472  0.036780  0.047090  0.068312  0.131602   \n",
       "2   NaN    ...          NaN       NaN       NaN       NaN       NaN       NaN   \n",
       "3   NaN    ...     1.382066  1.332966  1.353789  1.224310  1.279420  1.297753   \n",
       "4   NaN    ...     2.899236  2.762220  3.257010  3.113135  3.312875  3.328945   \n",
       "\n",
       "       2009      2010      2011      2012  \n",
       "0       NaN       NaN       NaN       NaN  \n",
       "1  0.213325  0.262174       NaN       NaN  \n",
       "2       NaN       NaN       NaN       NaN  \n",
       "3  1.215055  1.336544       NaN       NaN  \n",
       "4  3.564361  3.480977  3.562504  3.785654  \n",
       "\n",
       "[5 rows x 254 columns]"
      ]
     },
     "execution_count": 186,
     "metadata": {},
     "output_type": "execute_result"
    }
   ],
   "source": [
    "# look at countries I've lived in\n",
    "\n",
    "my_countries = ['Canada', 'France', 'Germany', 'United States']\n",
    "\n",
    "co2_my_countries = pd.DataFrame.copy(co2)\n",
    "co2_my_countries.head()\n"
   ]
  },
  {
   "cell_type": "code",
   "execution_count": 187,
   "metadata": {
    "collapsed": false
   },
   "outputs": [],
   "source": [
    "co2_my_countries = co2_my_countries.set_index('country')"
   ]
  },
  {
   "cell_type": "code",
   "execution_count": 188,
   "metadata": {
    "collapsed": false
   },
   "outputs": [
    {
     "data": {
      "text/html": [
       "<div>\n",
       "<table border=\"1\" class=\"dataframe\">\n",
       "  <thead>\n",
       "    <tr style=\"text-align: right;\">\n",
       "      <th></th>\n",
       "      <th>1751</th>\n",
       "      <th>1755</th>\n",
       "      <th>1762</th>\n",
       "      <th>1763</th>\n",
       "      <th>1764</th>\n",
       "      <th>1765</th>\n",
       "      <th>1766</th>\n",
       "      <th>1767</th>\n",
       "      <th>1768</th>\n",
       "      <th>1769</th>\n",
       "      <th>...</th>\n",
       "      <th>2003</th>\n",
       "      <th>2004</th>\n",
       "      <th>2005</th>\n",
       "      <th>2006</th>\n",
       "      <th>2007</th>\n",
       "      <th>2008</th>\n",
       "      <th>2009</th>\n",
       "      <th>2010</th>\n",
       "      <th>2011</th>\n",
       "      <th>2012</th>\n",
       "    </tr>\n",
       "    <tr>\n",
       "      <th>country</th>\n",
       "      <th></th>\n",
       "      <th></th>\n",
       "      <th></th>\n",
       "      <th></th>\n",
       "      <th></th>\n",
       "      <th></th>\n",
       "      <th></th>\n",
       "      <th></th>\n",
       "      <th></th>\n",
       "      <th></th>\n",
       "      <th></th>\n",
       "      <th></th>\n",
       "      <th></th>\n",
       "      <th></th>\n",
       "      <th></th>\n",
       "      <th></th>\n",
       "      <th></th>\n",
       "      <th></th>\n",
       "      <th></th>\n",
       "      <th></th>\n",
       "      <th></th>\n",
       "    </tr>\n",
       "  </thead>\n",
       "  <tbody>\n",
       "    <tr>\n",
       "      <th>Canada</th>\n",
       "      <td>NaN</td>\n",
       "      <td>NaN</td>\n",
       "      <td>NaN</td>\n",
       "      <td>NaN</td>\n",
       "      <td>NaN</td>\n",
       "      <td>NaN</td>\n",
       "      <td>NaN</td>\n",
       "      <td>NaN</td>\n",
       "      <td>NaN</td>\n",
       "      <td>NaN</td>\n",
       "      <td>...</td>\n",
       "      <td>17.499531</td>\n",
       "      <td>17.289814</td>\n",
       "      <td>17.439926</td>\n",
       "      <td>16.862318</td>\n",
       "      <td>17.004124</td>\n",
       "      <td>16.350399</td>\n",
       "      <td>15.260099</td>\n",
       "      <td>14.672016</td>\n",
       "      <td>14.807039</td>\n",
       "      <td>14.573717</td>\n",
       "    </tr>\n",
       "    <tr>\n",
       "      <th>France</th>\n",
       "      <td>NaN</td>\n",
       "      <td>NaN</td>\n",
       "      <td>NaN</td>\n",
       "      <td>NaN</td>\n",
       "      <td>NaN</td>\n",
       "      <td>NaN</td>\n",
       "      <td>NaN</td>\n",
       "      <td>NaN</td>\n",
       "      <td>NaN</td>\n",
       "      <td>NaN</td>\n",
       "      <td>...</td>\n",
       "      <td>6.439526</td>\n",
       "      <td>6.437106</td>\n",
       "      <td>6.427193</td>\n",
       "      <td>6.232634</td>\n",
       "      <td>6.087140</td>\n",
       "      <td>5.999021</td>\n",
       "      <td>5.715312</td>\n",
       "      <td>5.753381</td>\n",
       "      <td>5.374692</td>\n",
       "      <td>5.414825</td>\n",
       "    </tr>\n",
       "    <tr>\n",
       "      <th>Germany</th>\n",
       "      <td>NaN</td>\n",
       "      <td>NaN</td>\n",
       "      <td>NaN</td>\n",
       "      <td>NaN</td>\n",
       "      <td>NaN</td>\n",
       "      <td>NaN</td>\n",
       "      <td>NaN</td>\n",
       "      <td>NaN</td>\n",
       "      <td>NaN</td>\n",
       "      <td>NaN</td>\n",
       "      <td>...</td>\n",
       "      <td>10.102924</td>\n",
       "      <td>10.007003</td>\n",
       "      <td>9.772508</td>\n",
       "      <td>9.799174</td>\n",
       "      <td>9.500479</td>\n",
       "      <td>9.497247</td>\n",
       "      <td>8.885125</td>\n",
       "      <td>9.055816</td>\n",
       "      <td>8.754291</td>\n",
       "      <td>8.931395</td>\n",
       "    </tr>\n",
       "    <tr>\n",
       "      <th>United States</th>\n",
       "      <td>NaN</td>\n",
       "      <td>NaN</td>\n",
       "      <td>NaN</td>\n",
       "      <td>NaN</td>\n",
       "      <td>NaN</td>\n",
       "      <td>NaN</td>\n",
       "      <td>NaN</td>\n",
       "      <td>NaN</td>\n",
       "      <td>NaN</td>\n",
       "      <td>NaN</td>\n",
       "      <td>...</td>\n",
       "      <td>19.503354</td>\n",
       "      <td>19.690462</td>\n",
       "      <td>19.627580</td>\n",
       "      <td>19.151450</td>\n",
       "      <td>19.280398</td>\n",
       "      <td>18.545992</td>\n",
       "      <td>17.262224</td>\n",
       "      <td>17.502718</td>\n",
       "      <td>16.983161</td>\n",
       "      <td>16.218200</td>\n",
       "    </tr>\n",
       "  </tbody>\n",
       "</table>\n",
       "<p>4 rows × 253 columns</p>\n",
       "</div>"
      ],
      "text/plain": [
       "               1751  1755  1762  1763  1764  1765  1766  1767  1768  1769  \\\n",
       "country                                                                     \n",
       "Canada          NaN   NaN   NaN   NaN   NaN   NaN   NaN   NaN   NaN   NaN   \n",
       "France          NaN   NaN   NaN   NaN   NaN   NaN   NaN   NaN   NaN   NaN   \n",
       "Germany         NaN   NaN   NaN   NaN   NaN   NaN   NaN   NaN   NaN   NaN   \n",
       "United States   NaN   NaN   NaN   NaN   NaN   NaN   NaN   NaN   NaN   NaN   \n",
       "\n",
       "                 ...           2003       2004       2005       2006  \\\n",
       "country          ...                                                   \n",
       "Canada           ...      17.499531  17.289814  17.439926  16.862318   \n",
       "France           ...       6.439526   6.437106   6.427193   6.232634   \n",
       "Germany          ...      10.102924  10.007003   9.772508   9.799174   \n",
       "United States    ...      19.503354  19.690462  19.627580  19.151450   \n",
       "\n",
       "                    2007       2008       2009       2010       2011  \\\n",
       "country                                                                \n",
       "Canada         17.004124  16.350399  15.260099  14.672016  14.807039   \n",
       "France          6.087140   5.999021   5.715312   5.753381   5.374692   \n",
       "Germany         9.500479   9.497247   8.885125   9.055816   8.754291   \n",
       "United States  19.280398  18.545992  17.262224  17.502718  16.983161   \n",
       "\n",
       "                    2012  \n",
       "country                   \n",
       "Canada         14.573717  \n",
       "France          5.414825  \n",
       "Germany         8.931395  \n",
       "United States  16.218200  \n",
       "\n",
       "[4 rows x 253 columns]"
      ]
     },
     "execution_count": 188,
     "metadata": {},
     "output_type": "execute_result"
    }
   ],
   "source": [
    "co2_my_countries = co2_my_countries.ix[my_countries]\n",
    "co2_my_countries.head()"
   ]
  },
  {
   "cell_type": "code",
   "execution_count": 189,
   "metadata": {
    "collapsed": false
   },
   "outputs": [
    {
     "data": {
      "text/html": [
       "<div>\n",
       "<table border=\"1\" class=\"dataframe\">\n",
       "  <thead>\n",
       "    <tr style=\"text-align: right;\">\n",
       "      <th>country</th>\n",
       "      <th>Canada</th>\n",
       "      <th>France</th>\n",
       "      <th>Germany</th>\n",
       "      <th>United States</th>\n",
       "    </tr>\n",
       "  </thead>\n",
       "  <tbody>\n",
       "    <tr>\n",
       "      <th>2008</th>\n",
       "      <td>16.350399</td>\n",
       "      <td>5.999021</td>\n",
       "      <td>9.497247</td>\n",
       "      <td>18.545992</td>\n",
       "    </tr>\n",
       "    <tr>\n",
       "      <th>2009</th>\n",
       "      <td>15.260099</td>\n",
       "      <td>5.715312</td>\n",
       "      <td>8.885125</td>\n",
       "      <td>17.262224</td>\n",
       "    </tr>\n",
       "    <tr>\n",
       "      <th>2010</th>\n",
       "      <td>14.672016</td>\n",
       "      <td>5.753381</td>\n",
       "      <td>9.055816</td>\n",
       "      <td>17.502718</td>\n",
       "    </tr>\n",
       "    <tr>\n",
       "      <th>2011</th>\n",
       "      <td>14.807039</td>\n",
       "      <td>5.374692</td>\n",
       "      <td>8.754291</td>\n",
       "      <td>16.983161</td>\n",
       "    </tr>\n",
       "    <tr>\n",
       "      <th>2012</th>\n",
       "      <td>14.573717</td>\n",
       "      <td>5.414825</td>\n",
       "      <td>8.931395</td>\n",
       "      <td>16.218200</td>\n",
       "    </tr>\n",
       "  </tbody>\n",
       "</table>\n",
       "</div>"
      ],
      "text/plain": [
       "country     Canada    France   Germany  United States\n",
       "2008     16.350399  5.999021  9.497247      18.545992\n",
       "2009     15.260099  5.715312  8.885125      17.262224\n",
       "2010     14.672016  5.753381  9.055816      17.502718\n",
       "2011     14.807039  5.374692  8.754291      16.983161\n",
       "2012     14.573717  5.414825  8.931395      16.218200"
      ]
     },
     "execution_count": 189,
     "metadata": {},
     "output_type": "execute_result"
    }
   ],
   "source": [
    "# transpose df\n",
    "\n",
    "co2_my_countries = co2_my_countries.T\n",
    "co2_my_countries.tail()"
   ]
  },
  {
   "cell_type": "code",
   "execution_count": 190,
   "metadata": {
    "collapsed": false
   },
   "outputs": [
    {
     "data": {
      "text/plain": [
       "<matplotlib.axes._subplots.AxesSubplot at 0x120746c90>"
      ]
     },
     "execution_count": 190,
     "metadata": {},
     "output_type": "execute_result"
    },
    {
     "data": {
      "image/png": "[encoded data removed]",
      "text/plain": [
       "<matplotlib.figure.Figure at 0x12078ec90>"
      ]
     },
     "metadata": {},
     "output_type": "display_data"
    }
   ],
   "source": [
    "co2_my_countries.plot()"
   ]
  },
  {
   "cell_type": "code",
   "execution_count": 191,
   "metadata": {
    "collapsed": false
   },
   "outputs": [],
   "source": [
    "# reindex\n",
    "co2_my_countries.reset_index(inplace=True)\n"
   ]
  },
  {
   "cell_type": "code",
   "execution_count": 192,
   "metadata": {
    "collapsed": false
   },
   "outputs": [
    {
     "data": {
      "text/html": [
       "<div>\n",
       "<table border=\"1\" class=\"dataframe\">\n",
       "  <thead>\n",
       "    <tr style=\"text-align: right;\">\n",
       "      <th>country</th>\n",
       "      <th>year</th>\n",
       "      <th>Canada</th>\n",
       "      <th>France</th>\n",
       "      <th>Germany</th>\n",
       "      <th>United States</th>\n",
       "    </tr>\n",
       "  </thead>\n",
       "  <tbody>\n",
       "    <tr>\n",
       "      <th>0</th>\n",
       "      <td>1751</td>\n",
       "      <td>NaN</td>\n",
       "      <td>NaN</td>\n",
       "      <td>NaN</td>\n",
       "      <td>NaN</td>\n",
       "    </tr>\n",
       "    <tr>\n",
       "      <th>1</th>\n",
       "      <td>1755</td>\n",
       "      <td>NaN</td>\n",
       "      <td>NaN</td>\n",
       "      <td>NaN</td>\n",
       "      <td>NaN</td>\n",
       "    </tr>\n",
       "    <tr>\n",
       "      <th>2</th>\n",
       "      <td>1762</td>\n",
       "      <td>NaN</td>\n",
       "      <td>NaN</td>\n",
       "      <td>NaN</td>\n",
       "      <td>NaN</td>\n",
       "    </tr>\n",
       "    <tr>\n",
       "      <th>3</th>\n",
       "      <td>1763</td>\n",
       "      <td>NaN</td>\n",
       "      <td>NaN</td>\n",
       "      <td>NaN</td>\n",
       "      <td>NaN</td>\n",
       "    </tr>\n",
       "    <tr>\n",
       "      <th>4</th>\n",
       "      <td>1764</td>\n",
       "      <td>NaN</td>\n",
       "      <td>NaN</td>\n",
       "      <td>NaN</td>\n",
       "      <td>NaN</td>\n",
       "    </tr>\n",
       "  </tbody>\n",
       "</table>\n",
       "</div>"
      ],
      "text/plain": [
       "country  year  Canada  France  Germany  United States\n",
       "0        1751     NaN     NaN      NaN            NaN\n",
       "1        1755     NaN     NaN      NaN            NaN\n",
       "2        1762     NaN     NaN      NaN            NaN\n",
       "3        1763     NaN     NaN      NaN            NaN\n",
       "4        1764     NaN     NaN      NaN            NaN"
      ]
     },
     "execution_count": 192,
     "metadata": {},
     "output_type": "execute_result"
    }
   ],
   "source": [
    "co2_my_countries.rename(columns = {\"index\" : \"year\"}, inplace = True)\n",
    "co2_my_countries.head()"
   ]
  },
  {
   "cell_type": "code",
   "execution_count": 193,
   "metadata": {
    "collapsed": false
   },
   "outputs": [
    {
     "data": {
      "text/plain": [
       "['Canada', 'France', 'Germany', 'United States']"
      ]
     },
     "execution_count": 193,
     "metadata": {},
     "output_type": "execute_result"
    }
   ],
   "source": [
    "# create list of columns to use as value columns\n",
    "\n",
    "cols = list(co2_my_countries.columns.values)\n",
    "cols = cols[1:]\n",
    "cols"
   ]
  },
  {
   "cell_type": "code",
   "execution_count": 194,
   "metadata": {
    "collapsed": false
   },
   "outputs": [],
   "source": [
    "# convert to long format\n",
    "\n",
    "co2_my_countries_long = pd.melt(co2_my_countries, id_vars = 'year', value_vars = cols) \n"
   ]
  },
  {
   "cell_type": "code",
   "execution_count": 195,
   "metadata": {
    "collapsed": false
   },
   "outputs": [
    {
     "data": {
      "text/html": [
       "<div>\n",
       "<table border=\"1\" class=\"dataframe\">\n",
       "  <thead>\n",
       "    <tr style=\"text-align: right;\">\n",
       "      <th></th>\n",
       "      <th>year</th>\n",
       "      <th>country</th>\n",
       "      <th>value</th>\n",
       "    </tr>\n",
       "  </thead>\n",
       "  <tbody>\n",
       "    <tr>\n",
       "      <th>1007</th>\n",
       "      <td>2008</td>\n",
       "      <td>United States</td>\n",
       "      <td>18.545992</td>\n",
       "    </tr>\n",
       "    <tr>\n",
       "      <th>1008</th>\n",
       "      <td>2009</td>\n",
       "      <td>United States</td>\n",
       "      <td>17.262224</td>\n",
       "    </tr>\n",
       "    <tr>\n",
       "      <th>1009</th>\n",
       "      <td>2010</td>\n",
       "      <td>United States</td>\n",
       "      <td>17.502718</td>\n",
       "    </tr>\n",
       "    <tr>\n",
       "      <th>1010</th>\n",
       "      <td>2011</td>\n",
       "      <td>United States</td>\n",
       "      <td>16.983161</td>\n",
       "    </tr>\n",
       "    <tr>\n",
       "      <th>1011</th>\n",
       "      <td>2012</td>\n",
       "      <td>United States</td>\n",
       "      <td>16.218200</td>\n",
       "    </tr>\n",
       "  </tbody>\n",
       "</table>\n",
       "</div>"
      ],
      "text/plain": [
       "      year        country      value\n",
       "1007  2008  United States  18.545992\n",
       "1008  2009  United States  17.262224\n",
       "1009  2010  United States  17.502718\n",
       "1010  2011  United States  16.983161\n",
       "1011  2012  United States  16.218200"
      ]
     },
     "execution_count": 195,
     "metadata": {},
     "output_type": "execute_result"
    }
   ],
   "source": [
    "co2_my_countries_long.tail()"
   ]
  },
  {
   "cell_type": "code",
   "execution_count": 250,
   "metadata": {
    "collapsed": false
   },
   "outputs": [],
   "source": [
    "import unidecode"
   ]
  },
  {
   "cell_type": "code",
   "execution_count": 252,
   "metadata": {
    "collapsed": false
   },
   "outputs": [
    {
     "data": {
      "text/plain": [
       "\"Cote d'Ivoire\""
      ]
     },
     "execution_count": 252,
     "metadata": {},
     "output_type": "execute_result"
    }
   ],
   "source": []
  },
  {
   "cell_type": "code",
   "execution_count": 196,
   "metadata": {
    "collapsed": false
   },
   "outputs": [
    {
     "data": {
      "text/html": [
       "<div>\n",
       "<table border=\"1\" class=\"dataframe\">\n",
       "  <thead>\n",
       "    <tr style=\"text-align: right;\">\n",
       "      <th></th>\n",
       "      <th>name</th>\n",
       "      <th>region</th>\n",
       "      <th>sub-region</th>\n",
       "    </tr>\n",
       "  </thead>\n",
       "  <tbody>\n",
       "    <tr>\n",
       "      <th>0</th>\n",
       "      <td>Afghanistan</td>\n",
       "      <td>Asia</td>\n",
       "      <td>Southern Asia</td>\n",
       "    </tr>\n",
       "    <tr>\n",
       "      <th>1</th>\n",
       "      <td>Åland Islands</td>\n",
       "      <td>Europe</td>\n",
       "      <td>Northern Europe</td>\n",
       "    </tr>\n",
       "    <tr>\n",
       "      <th>2</th>\n",
       "      <td>Albania</td>\n",
       "      <td>Europe</td>\n",
       "      <td>Southern Europe</td>\n",
       "    </tr>\n",
       "    <tr>\n",
       "      <th>3</th>\n",
       "      <td>Algeria</td>\n",
       "      <td>Africa</td>\n",
       "      <td>Northern Africa</td>\n",
       "    </tr>\n",
       "    <tr>\n",
       "      <th>4</th>\n",
       "      <td>American Samoa</td>\n",
       "      <td>Oceania</td>\n",
       "      <td>Polynesia</td>\n",
       "    </tr>\n",
       "  </tbody>\n",
       "</table>\n",
       "</div>"
      ],
      "text/plain": [
       "             name   region       sub-region\n",
       "0     Afghanistan     Asia    Southern Asia\n",
       "1   Åland Islands   Europe  Northern Europe\n",
       "2         Albania   Europe  Southern Europe\n",
       "3         Algeria   Africa  Northern Africa\n",
       "4  American Samoa  Oceania        Polynesia"
      ]
     },
     "execution_count": 196,
     "metadata": {},
     "output_type": "execute_result"
    }
   ],
   "source": [
    "# classify into regions\n",
    "regions = pd.read_json('data/all_countries.json')\n",
    "regions = regions[['name', 'region', 'sub-region']]\n",
    "regions.head()"
   ]
  },
  {
   "cell_type": "code",
   "execution_count": 197,
   "metadata": {
    "collapsed": false
   },
   "outputs": [
    {
     "name": "stdout",
     "output_type": "stream",
     "text": [
      "<class 'pandas.core.frame.DataFrame'>\n",
      "Int64Index: 249 entries, 0 to 248\n",
      "Data columns (total 3 columns):\n",
      "name          249 non-null object\n",
      "region        240 non-null object\n",
      "sub-region    240 non-null object\n",
      "dtypes: object(3)\n",
      "memory usage: 7.8+ KB\n"
     ]
    }
   ],
   "source": [
    "regions.info()"
   ]
  },
  {
   "cell_type": "code",
   "execution_count": 198,
   "metadata": {
    "collapsed": false
   },
   "outputs": [],
   "source": [
    "# which countries do not have a match in regions?\n",
    "countries = list(co2[co2.columns[0]])\n",
    "regions_list = list(regions['name'].values)"
   ]
  },
  {
   "cell_type": "code",
   "execution_count": 199,
   "metadata": {
    "collapsed": false
   },
   "outputs": [
    {
     "name": "stderr",
     "output_type": "stream",
     "text": [
      "/Users/sarahhosking/anaconda/envs/DAND/lib/python2.7/site-packages/ipykernel/__main__.py:1: UnicodeWarning: Unicode equal comparison failed to convert both arguments to Unicode - interpreting them as being unequal\n",
      "  if __name__ == '__main__':\n"
     ]
    },
    {
     "data": {
      "text/plain": [
       "44"
      ]
     },
     "execution_count": 199,
     "metadata": {},
     "output_type": "execute_result"
    }
   ],
   "source": [
    "no_region = [i for i in countries if i not in regions_list]\n",
    "len(no_region)"
   ]
  },
  {
   "cell_type": "code",
   "execution_count": 200,
   "metadata": {
    "collapsed": false
   },
   "outputs": [
    {
     "data": {
      "text/plain": [
       "['Abkhazia',\n",
       " 'Akrotiri and Dhekelia',\n",
       " 'Bolivia',\n",
       " 'British Virgin Islands',\n",
       " 'Brunei',\n",
       " 'Cape Verde',\n",
       " 'Channel Islands',\n",
       " 'Cocos Island',\n",
       " 'Congo, Dem. Rep.',\n",
       " 'Congo, Rep.',\n",
       " \"Cote d'Ivoire\",\n",
       " 'East Germany',\n",
       " 'Eritrea and Ethiopia',\n",
       " 'Faeroe Islands',\n",
       " 'Hong Kong, China',\n",
       " 'Iran',\n",
       " 'Kosovo',\n",
       " 'Macao, China',\n",
       " 'Macedonia, FYR',\n",
       " 'Micronesia, Fed. Sts.',\n",
       " 'Moldova',\n",
       " 'Netherlands Antilles',\n",
       " 'Northern Cyprus',\n",
       " 'Reunion',\n",
       " 'Russia',\n",
       " 'Serbia and Montenegro',\n",
       " 'Serbia excluding Kosovo',\n",
       " 'Slovak Republic',\n",
       " 'Somaliland',\n",
       " 'South Ossetia',\n",
       " 'Svalbard',\n",
       " 'Syria',\n",
       " 'Taiwan',\n",
       " 'Tanzania',\n",
       " 'Transnistria',\n",
       " 'United Kingdom',\n",
       " 'United States',\n",
       " 'Wallis et Futuna',\n",
       " 'Venezuela',\n",
       " 'West Bank and Gaza',\n",
       " 'West Germany',\n",
       " 'Vietnam',\n",
       " 'Yugoslavia',\n",
       " '\\xc3\\x85land']"
      ]
     },
     "execution_count": 200,
     "metadata": {},
     "output_type": "execute_result"
    }
   ],
   "source": [
    "no_region"
   ]
  },
  {
   "cell_type": "code",
   "execution_count": 201,
   "metadata": {
    "collapsed": false
   },
   "outputs": [
    {
     "name": "stderr",
     "output_type": "stream",
     "text": [
      "/Users/sarahhosking/anaconda/envs/DAND/lib/python2.7/site-packages/ipykernel/__main__.py:3: UnicodeWarning: Unicode equal comparison failed to convert both arguments to Unicode - interpreting them as being unequal\n",
      "  app.launch_new_instance()\n"
     ]
    },
    {
     "data": {
      "text/plain": [
       "58"
      ]
     },
     "execution_count": 201,
     "metadata": {},
     "output_type": "execute_result"
    }
   ],
   "source": [
    "# and vice-versa\n",
    "\n",
    "no_country = [i for i in regions_list if i not in countries]\n",
    "len(no_country)"
   ]
  },
  {
   "cell_type": "code",
   "execution_count": 202,
   "metadata": {
    "collapsed": false
   },
   "outputs": [
    {
     "data": {
      "text/plain": [
       "[u'\\xc5land Islands',\n",
       " u'Antarctica',\n",
       " u'Bolivia (Plurinational State of)',\n",
       " u'Bonaire, Sint Eustatius and Saba',\n",
       " u'Bouvet Island',\n",
       " u'British Indian Ocean Territory',\n",
       " u'Brunei Darussalam',\n",
       " u'Cabo Verde',\n",
       " u'Central African Republic',\n",
       " u'Christmas Island',\n",
       " u'Cocos (Keeling) Islands',\n",
       " u'Congo',\n",
       " u'Congo (Democratic Republic of the)',\n",
       " u'Cook Islands',\n",
       " u\"C\\xf4te d'Ivoire\",\n",
       " u'Cura\\xe7ao',\n",
       " u'Czech Republic',\n",
       " u'Dominican Republic',\n",
       " u'Falkland Islands (Malvinas)',\n",
       " u'Faroe Islands',\n",
       " u'French Southern Territories',\n",
       " u'Heard Island and McDonald Islands',\n",
       " u'Hong Kong',\n",
       " u'Iran (Islamic Republic of)',\n",
       " u\"Korea (Democratic People's Republic of)\",\n",
       " u'Korea (Republic of)',\n",
       " u'Kyrgyzstan',\n",
       " u\"Lao People's Democratic Republic\",\n",
       " u'Macao',\n",
       " u'Macedonia (the former Yugoslav Republic of)',\n",
       " u'Micronesia (Federated States of)',\n",
       " u'Moldova (Republic of)',\n",
       " u'Palestine, State of',\n",
       " u'Puerto Rico',\n",
       " u'R\\xe9union',\n",
       " u'Russian Federation',\n",
       " u'Saint Barth\\xe9lemy',\n",
       " u'Saint Helena, Ascension and Tristan da Cunha',\n",
       " u'Saint Kitts and Nevis',\n",
       " u'Saint Lucia',\n",
       " u'Saint Martin (French part)',\n",
       " u'Saint Pierre and Miquelon',\n",
       " u'Saint Vincent and the Grenadines',\n",
       " u'Sint Maarten (Dutch part)',\n",
       " u'Slovakia',\n",
       " u'South Georgia and the South Sandwich Islands',\n",
       " u'Svalbard and Jan Mayen',\n",
       " u'Syrian Arab Republic',\n",
       " u'Taiwan, Province of China',\n",
       " u'Tanzania, United Republic of',\n",
       " u'United Kingdom of Great Britain and Northern Ireland',\n",
       " u'United States of America',\n",
       " u'United States Minor Outlying Islands',\n",
       " u'Venezuela (Bolivarian Republic of)',\n",
       " u'Viet Nam',\n",
       " u'Virgin Islands (British)',\n",
       " u'Wallis and Futuna',\n",
       " u'Yemen']"
      ]
     },
     "execution_count": 202,
     "metadata": {},
     "output_type": "execute_result"
    }
   ],
   "source": [
    "no_country"
   ]
  },
  {
   "cell_type": "code",
   "execution_count": 257,
   "metadata": {
    "collapsed": false
   },
   "outputs": [
    {
     "data": {
      "text/plain": [
       "0       Afghanistan\n",
       "1     Aland Islands\n",
       "2           Albania\n",
       "3           Algeria\n",
       "4    American Samoa\n",
       "Name: name, dtype: object"
      ]
     },
     "execution_count": 257,
     "metadata": {},
     "output_type": "execute_result"
    }
   ],
   "source": [
    "# remove accents from countries in regions df\n",
    "regions.name = regions.name.apply(unidecode.unidecode)\n",
    "regions.name.head()"
   ]
  },
  {
   "cell_type": "code",
   "execution_count": 258,
   "metadata": {
    "collapsed": false
   },
   "outputs": [
    {
     "name": "stdout",
     "output_type": "stream",
     "text": [
      "Before:\n",
      "58\n",
      "\n",
      "After:\n"
     ]
    },
    {
     "data": {
      "text/plain": [
       "56"
      ]
     },
     "execution_count": 258,
     "metadata": {},
     "output_type": "execute_result"
    }
   ],
   "source": [
    "# how many more matches did we get?\n",
    "print \"Before:\"\n",
    "print len(no_country)\n",
    "print \"\"\n",
    "print \"After:\"\n",
    "\n",
    "regions_list = list(regions['name'].values)\n",
    "no_country = [i for i in regions_list if i not in countries]\n",
    "len(no_country)\n"
   ]
  },
  {
   "cell_type": "code",
   "execution_count": 265,
   "metadata": {
    "collapsed": false
   },
   "outputs": [
    {
     "name": "stdout",
     "output_type": "stream",
     "text": [
      "match\n",
      "match\n",
      "match\n"
     ]
    }
   ],
   "source": [
    "# more cleanup\n",
    "\n",
    "bvi = 'British Virgin Islands'\n",
    "vib = 'Virgin Islands (British)'\n",
    "\n",
    "bvi = bvi.split()\n",
    "vib = vib.split()\n",
    "vib_clean = [i.strip(\"()\") for i in vib]\n",
    "\n",
    "for word in bvi:\n",
    "    if word in vib_clean:\n",
    "        print \"match\"\n",
    "    else:\n",
    "        print \"no match\"\n",
    "\n"
   ]
  },
  {
   "cell_type": "code",
   "execution_count": null,
   "metadata": {
    "collapsed": true
   },
   "outputs": [],
   "source": [
    "# TODO: remove words in ()\n",
    "# str.replace(r\"\\(.*\\)\",\"\")"
   ]
  },
  {
   "cell_type": "code",
   "execution_count": 203,
   "metadata": {
    "collapsed": true
   },
   "outputs": [],
   "source": [
    "# merge with region columns\n",
    "\n",
    "co2_my_countries_long = co2_my_countries_long.merge(regions, how = 'left', left_on='country', right_on = 'name', copy = False)"
   ]
  },
  {
   "cell_type": "code",
   "execution_count": 204,
   "metadata": {
    "collapsed": false
   },
   "outputs": [],
   "source": [
    "#remove redundant column\n",
    "\n",
    "co2_my_countries_long = co2_my_countries_long.drop('name', axis = 1)"
   ]
  },
  {
   "cell_type": "code",
   "execution_count": 205,
   "metadata": {
    "collapsed": false
   },
   "outputs": [
    {
     "data": {
      "text/html": [
       "<div>\n",
       "<table border=\"1\" class=\"dataframe\">\n",
       "  <thead>\n",
       "    <tr style=\"text-align: right;\">\n",
       "      <th></th>\n",
       "      <th>year</th>\n",
       "      <th>country</th>\n",
       "      <th>value</th>\n",
       "      <th>region</th>\n",
       "      <th>sub-region</th>\n",
       "    </tr>\n",
       "  </thead>\n",
       "  <tbody>\n",
       "    <tr>\n",
       "      <th>0</th>\n",
       "      <td>1751</td>\n",
       "      <td>Canada</td>\n",
       "      <td>NaN</td>\n",
       "      <td>Americas</td>\n",
       "      <td>Northern America</td>\n",
       "    </tr>\n",
       "    <tr>\n",
       "      <th>1</th>\n",
       "      <td>1755</td>\n",
       "      <td>Canada</td>\n",
       "      <td>NaN</td>\n",
       "      <td>Americas</td>\n",
       "      <td>Northern America</td>\n",
       "    </tr>\n",
       "    <tr>\n",
       "      <th>2</th>\n",
       "      <td>1762</td>\n",
       "      <td>Canada</td>\n",
       "      <td>NaN</td>\n",
       "      <td>Americas</td>\n",
       "      <td>Northern America</td>\n",
       "    </tr>\n",
       "    <tr>\n",
       "      <th>3</th>\n",
       "      <td>1763</td>\n",
       "      <td>Canada</td>\n",
       "      <td>NaN</td>\n",
       "      <td>Americas</td>\n",
       "      <td>Northern America</td>\n",
       "    </tr>\n",
       "    <tr>\n",
       "      <th>4</th>\n",
       "      <td>1764</td>\n",
       "      <td>Canada</td>\n",
       "      <td>NaN</td>\n",
       "      <td>Americas</td>\n",
       "      <td>Northern America</td>\n",
       "    </tr>\n",
       "  </tbody>\n",
       "</table>\n",
       "</div>"
      ],
      "text/plain": [
       "   year country  value    region        sub-region\n",
       "0  1751  Canada    NaN  Americas  Northern America\n",
       "1  1755  Canada    NaN  Americas  Northern America\n",
       "2  1762  Canada    NaN  Americas  Northern America\n",
       "3  1763  Canada    NaN  Americas  Northern America\n",
       "4  1764  Canada    NaN  Americas  Northern America"
      ]
     },
     "execution_count": 205,
     "metadata": {},
     "output_type": "execute_result"
    }
   ],
   "source": [
    "co2_my_countries_long.head()"
   ]
  },
  {
   "cell_type": "code",
   "execution_count": null,
   "metadata": {
    "collapsed": true
   },
   "outputs": [],
   "source": [
    "import seaborn as sns"
   ]
  },
  {
   "cell_type": "code",
   "execution_count": 218,
   "metadata": {
    "collapsed": false
   },
   "outputs": [],
   "source": [
    "sns.set(color_codes = True)\n",
    "#sns.set_style({'axes.linewidth': '0.5'})\n"
   ]
  },
  {
   "cell_type": "code",
   "execution_count": 232,
   "metadata": {
    "collapsed": false
   },
   "outputs": [],
   "source": [
    "co2_my_countries_long.year = pd.Categorical(co2_my_countries_long.year, ordered = True)"
   ]
  },
  {
   "cell_type": "code",
   "execution_count": 236,
   "metadata": {
    "collapsed": false
   },
   "outputs": [
    {
     "data": {
      "text/plain": [
       "0    1751\n",
       "1    1755\n",
       "2    1762\n",
       "3    1763\n",
       "4    1764\n",
       "Name: year, dtype: category\n",
       "Categories (253, object): [1751 < 1755 < 1762 < 1763 ... 2009 < 2010 < 2011 < 2012]"
      ]
     },
     "execution_count": 236,
     "metadata": {},
     "output_type": "execute_result"
    }
   ],
   "source": []
  },
  {
   "cell_type": "code",
   "execution_count": 249,
   "metadata": {
    "collapsed": false
   },
   "outputs": [
    {
     "data": {
      "text/plain": [
       "<seaborn.axisgrid.FacetGrid at 0x19196c310>"
      ]
     },
     "execution_count": 249,
     "metadata": {},
     "output_type": "execute_result"
    },
    {
     "data": {
      "image/png": "[encoded data removed]",
      "text/plain": [
       "<matplotlib.figure.Figure at 0x190f25750>"
      ]
     },
     "metadata": {},
     "output_type": "display_data"
    }
   ],
   "source": [
    "p = sns.factorplot(x = 'year', y = 'value', hue = 'country', \n",
    "               row = 'region', size = 6, data = co2_my_countries_long)\n",
    "\n",
    "p.set_xticklabels(rotation=45)\n",
    "p.set(ylim=(0,None))\n"
   ]
  },
  {
   "cell_type": "code",
   "execution_count": 208,
   "metadata": {
    "collapsed": false
   },
   "outputs": [
    {
     "data": {
      "text/html": [
       "<div>\n",
       "<table border=\"1\" class=\"dataframe\">\n",
       "  <thead>\n",
       "    <tr style=\"text-align: right;\">\n",
       "      <th></th>\n",
       "      <th></th>\n",
       "      <th></th>\n",
       "      <th>value</th>\n",
       "    </tr>\n",
       "    <tr>\n",
       "      <th>sub-region</th>\n",
       "      <th>country</th>\n",
       "      <th></th>\n",
       "      <th></th>\n",
       "    </tr>\n",
       "  </thead>\n",
       "  <tbody>\n",
       "    <tr>\n",
       "      <th rowspan=\"8\" valign=\"top\">Northern America</th>\n",
       "      <th rowspan=\"8\" valign=\"top\">Canada</th>\n",
       "      <th>count</th>\n",
       "      <td>228.000000</td>\n",
       "    </tr>\n",
       "    <tr>\n",
       "      <th>mean</th>\n",
       "      <td>6.185110</td>\n",
       "    </tr>\n",
       "    <tr>\n",
       "      <th>std</th>\n",
       "      <td>6.438661</td>\n",
       "    </tr>\n",
       "    <tr>\n",
       "      <th>min</th>\n",
       "      <td>0.001786</td>\n",
       "    </tr>\n",
       "    <tr>\n",
       "      <th>25%</th>\n",
       "      <td>0.006519</td>\n",
       "    </tr>\n",
       "    <tr>\n",
       "      <th>50%</th>\n",
       "      <td>3.257868</td>\n",
       "    </tr>\n",
       "    <tr>\n",
       "      <th>75%</th>\n",
       "      <td>11.122193</td>\n",
       "    </tr>\n",
       "    <tr>\n",
       "      <th>max</th>\n",
       "      <td>17.633857</td>\n",
       "    </tr>\n",
       "    <tr>\n",
       "      <th rowspan=\"16\" valign=\"top\">Western Europe</th>\n",
       "      <th rowspan=\"8\" valign=\"top\">France</th>\n",
       "      <th>count</th>\n",
       "      <td>205.000000</td>\n",
       "    </tr>\n",
       "    <tr>\n",
       "      <th>mean</th>\n",
       "      <td>3.574998</td>\n",
       "    </tr>\n",
       "    <tr>\n",
       "      <th>std</th>\n",
       "      <td>2.779502</td>\n",
       "    </tr>\n",
       "    <tr>\n",
       "      <th>min</th>\n",
       "      <td>0.067041</td>\n",
       "    </tr>\n",
       "    <tr>\n",
       "      <th>25%</th>\n",
       "      <td>0.951140</td>\n",
       "    </tr>\n",
       "    <tr>\n",
       "      <th>50%</th>\n",
       "      <td>3.085962</td>\n",
       "    </tr>\n",
       "    <tr>\n",
       "      <th>75%</th>\n",
       "      <td>5.935705</td>\n",
       "    </tr>\n",
       "    <tr>\n",
       "      <th>max</th>\n",
       "      <td>9.937512</td>\n",
       "    </tr>\n",
       "    <tr>\n",
       "      <th rowspan=\"8\" valign=\"top\">Germany</th>\n",
       "      <th>count</th>\n",
       "      <td>221.000000</td>\n",
       "    </tr>\n",
       "    <tr>\n",
       "      <th>mean</th>\n",
       "      <td>5.479215</td>\n",
       "    </tr>\n",
       "    <tr>\n",
       "      <th>std</th>\n",
       "      <td>4.700306</td>\n",
       "    </tr>\n",
       "    <tr>\n",
       "      <th>min</th>\n",
       "      <td>0.019883</td>\n",
       "    </tr>\n",
       "    <tr>\n",
       "      <th>25%</th>\n",
       "      <td>0.399175</td>\n",
       "    </tr>\n",
       "    <tr>\n",
       "      <th>50%</th>\n",
       "      <td>5.331193</td>\n",
       "    </tr>\n",
       "    <tr>\n",
       "      <th>75%</th>\n",
       "      <td>9.446010</td>\n",
       "    </tr>\n",
       "    <tr>\n",
       "      <th>max</th>\n",
       "      <td>14.292819</td>\n",
       "    </tr>\n",
       "  </tbody>\n",
       "</table>\n",
       "</div>"
      ],
      "text/plain": [
       "                                     value\n",
       "sub-region       country                  \n",
       "Northern America Canada  count  228.000000\n",
       "                         mean     6.185110\n",
       "                         std      6.438661\n",
       "                         min      0.001786\n",
       "                         25%      0.006519\n",
       "                         50%      3.257868\n",
       "                         75%     11.122193\n",
       "                         max     17.633857\n",
       "Western Europe   France  count  205.000000\n",
       "                         mean     3.574998\n",
       "                         std      2.779502\n",
       "                         min      0.067041\n",
       "                         25%      0.951140\n",
       "                         50%      3.085962\n",
       "                         75%      5.935705\n",
       "                         max      9.937512\n",
       "                 Germany count  221.000000\n",
       "                         mean     5.479215\n",
       "                         std      4.700306\n",
       "                         min      0.019883\n",
       "                         25%      0.399175\n",
       "                         50%      5.331193\n",
       "                         75%      9.446010\n",
       "                         max     14.292819"
      ]
     },
     "execution_count": 208,
     "metadata": {},
     "output_type": "execute_result"
    }
   ],
   "source": [
    "co2_my_countries_long.groupby(['sub-region', 'country']).describe()"
   ]
  },
  {
   "cell_type": "code",
   "execution_count": null,
   "metadata": {
    "collapsed": false
   },
   "outputs": [],
   "source": []
  },
  {
   "cell_type": "code",
   "execution_count": null,
   "metadata": {
    "collapsed": false
   },
   "outputs": [],
   "source": []
  },
  {
   "cell_type": "markdown",
   "metadata": {},
   "source": [
    "> **Tip**: You should _not_ perform too many operations in each cell. Create cells freely to explore your data. One option that you can take with this project is to do a lot of explorations in an initial notebook. These don't have to be organized, but make sure you use enough comments to understand the purpose of each code cell. Then, after you're done with your analysis, create a duplicate notebook where you will trim the excess and organize your steps so that you have a flowing, cohesive report.\n",
    "\n",
    "> **Tip**: Make sure that you keep your reader informed on the steps that you are taking in your investigation. Follow every code cell, or every set of related code cells, with a markdown cell to describe to the reader what was found in the preceding cell(s). Try to make it so that the reader can then understand what they will be seeing in the following cell(s).\n",
    "\n",
    "### Data Cleaning (Replace this with more specific notes!)"
   ]
  },
  {
   "cell_type": "code",
   "execution_count": 209,
   "metadata": {
    "collapsed": true
   },
   "outputs": [],
   "source": [
    "# After discussing the structure of the data and any problems that need to be\n",
    "#   cleaned, perform those cleaning steps in the second part of this section.\n"
   ]
  },
  {
   "cell_type": "markdown",
   "metadata": {},
   "source": [
    "<a id='eda'></a>\n",
    "## Exploratory Data Analysis\n",
    "\n",
    "> **Tip**: Now that you've trimmed and cleaned your data, you're ready to move on to exploration. Compute statistics and create visualizations with the goal of addressing the research questions that you posed in the Introduction section. It is recommended that you be systematic with your approach. Look at one variable at a time, and then follow it up by looking at relationships between variables.\n",
    "\n",
    "### Research Question 1 (Replace this header name!)"
   ]
  },
  {
   "cell_type": "code",
   "execution_count": 210,
   "metadata": {
    "collapsed": true
   },
   "outputs": [],
   "source": [
    "# Use this, and more code cells, to explore your data. Don't forget to add\n",
    "#   Markdown cells to document your observations and findings.\n"
   ]
  },
  {
   "cell_type": "markdown",
   "metadata": {},
   "source": [
    "### Research Question 2  (Replace this header name!)"
   ]
  },
  {
   "cell_type": "code",
   "execution_count": 211,
   "metadata": {
    "collapsed": true
   },
   "outputs": [],
   "source": [
    "# Continue to explore the data to address your additional research\n",
    "#   questions. Add more headers as needed if you have more questions to\n",
    "#   investigate.\n"
   ]
  },
  {
   "cell_type": "markdown",
   "metadata": {},
   "source": [
    "<a id='conclusions'></a>\n",
    "## Conclusions\n",
    "\n",
    "> **Tip**: Finally, summarize your findings and the results that have been performed. Make sure that you are clear with regards to the limitations of your exploration. If you haven't done any statistical tests, do not imply any statistical conclusions. And make sure you avoid implying causation from correlation!\n",
    "\n",
    "> **Tip**: Once you are satisfied with your work, you should save a copy of the report in HTML or PDF form via the **File** > **Download as** submenu. Before exporting your report, check over it to make sure that the flow of the report is complete. You should probably remove all of the \"Tip\" quotes like this one so that the presentation is as tidy as possible. Congratulations!"
   ]
  },
  {
   "cell_type": "code",
   "execution_count": null,
   "metadata": {
    "collapsed": true
   },
   "outputs": [],
   "source": []
  }
 ],
 "metadata": {
  "anaconda-cloud": {},
  "kernelspec": {
   "display_name": "Python [conda env:DAND]",
   "language": "python",
   "name": "conda-env-DAND-py"
  },
  "language_info": {
   "codemirror_mode": {
    "name": "ipython",
    "version": 2
   },
   "file_extension": ".py",
   "mimetype": "text/x-python",
   "name": "python",
   "nbconvert_exporter": "python",
   "pygments_lexer": "ipython2",
   "version": "2.7.12"
  }
 },
 "nbformat": 4,
 "nbformat_minor": 2
}
